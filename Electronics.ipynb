{
  "cells": [
    {
      "cell_type": "markdown",
      "source": [
        "## **CAPSTONE PROJECT**\n",
        "## **Amazon Electronics**"
      ],
      "metadata": {
        "id": "DzSqLBNXbqnQ"
      }
    },
    {
      "cell_type": "markdown",
      "source": [
        "# Library Installation"
      ],
      "metadata": {
        "id": "FQ325kRnNQPk"
      }
    },
    {
      "cell_type": "code",
      "execution_count": 1,
      "metadata": {
        "colab": {
          "base_uri": "https://localhost:8080/"
        },
        "id": "poukjy7PHZKP",
        "outputId": "401943d5-b236-4824-c418-a51197943eb1"
      },
      "outputs": [
        {
          "output_type": "stream",
          "name": "stdout",
          "text": [
            "Looking in indexes: https://pypi.org/simple, https://us-python.pkg.dev/colab-wheels/public/simple/\n",
            "Collecting fasttext\n",
            "  Downloading fasttext-0.9.2.tar.gz (68 kB)\n",
            "\u001b[2K     \u001b[90m━━━━━━━━━━━━━━━━━━━━━━━━━━━━━━━━━━━━━━━━\u001b[0m \u001b[32m68.8/68.8 KB\u001b[0m \u001b[31m1.6 MB/s\u001b[0m eta \u001b[36m0:00:00\u001b[0m\n",
            "\u001b[?25h  Preparing metadata (setup.py) ... \u001b[?25l\u001b[?25hdone\n",
            "Collecting pybind11>=2.2\n",
            "  Using cached pybind11-2.10.4-py3-none-any.whl (222 kB)\n",
            "Requirement already satisfied: setuptools>=0.7.0 in /usr/local/lib/python3.9/dist-packages (from fasttext) (63.4.3)\n",
            "Requirement already satisfied: numpy in /usr/local/lib/python3.9/dist-packages (from fasttext) (1.22.4)\n",
            "Building wheels for collected packages: fasttext\n",
            "  Building wheel for fasttext (setup.py) ... \u001b[?25l\u001b[?25hdone\n",
            "  Created wheel for fasttext: filename=fasttext-0.9.2-cp39-cp39-linux_x86_64.whl size=4395568 sha256=f5f0128900d8f1775188cdd79db9479808f6fa1f685a3518e980d81d32ed7249\n",
            "  Stored in directory: /root/.cache/pip/wheels/64/57/bc/1741406019061d5664914b070bd3e71f6244648732bc96109e\n",
            "Successfully built fasttext\n",
            "Installing collected packages: pybind11, fasttext\n",
            "Successfully installed fasttext-0.9.2 pybind11-2.10.4\n"
          ]
        }
      ],
      "source": [
        "!pip install fasttext"
      ]
    },
    {
      "cell_type": "code",
      "execution_count": 2,
      "metadata": {
        "colab": {
          "base_uri": "https://localhost:8080/"
        },
        "id": "r32wfN1tf-KX",
        "outputId": "1919b10a-37c7-45ca-dca9-a1a1a6cb63c4"
      },
      "outputs": [
        {
          "output_type": "stream",
          "name": "stdout",
          "text": [
            "Looking in indexes: https://pypi.org/simple, https://us-python.pkg.dev/colab-wheels/public/simple/\n",
            "Requirement already satisfied: gensim in /usr/local/lib/python3.9/dist-packages (3.6.0)\n",
            "Requirement already satisfied: scipy>=0.18.1 in /usr/local/lib/python3.9/dist-packages (from gensim) (1.10.1)\n",
            "Requirement already satisfied: numpy>=1.11.3 in /usr/local/lib/python3.9/dist-packages (from gensim) (1.22.4)\n",
            "Requirement already satisfied: smart-open>=1.2.1 in /usr/local/lib/python3.9/dist-packages (from gensim) (6.3.0)\n",
            "Requirement already satisfied: six>=1.5.0 in /usr/local/lib/python3.9/dist-packages (from gensim) (1.15.0)\n",
            "Looking in indexes: https://pypi.org/simple, https://us-python.pkg.dev/colab-wheels/public/simple/\n",
            "Collecting python-Levenshtein\n",
            "  Downloading python_Levenshtein-0.20.9-py3-none-any.whl (9.4 kB)\n",
            "Collecting Levenshtein==0.20.9\n",
            "  Downloading Levenshtein-0.20.9-cp39-cp39-manylinux_2_17_x86_64.manylinux2014_x86_64.whl (175 kB)\n",
            "\u001b[2K     \u001b[90m━━━━━━━━━━━━━━━━━━━━━━━━━━━━━━━━━━━━━━\u001b[0m \u001b[32m175.5/175.5 KB\u001b[0m \u001b[31m11.4 MB/s\u001b[0m eta \u001b[36m0:00:00\u001b[0m\n",
            "\u001b[?25hCollecting rapidfuzz<3.0.0,>=2.3.0\n",
            "  Downloading rapidfuzz-2.13.7-cp39-cp39-manylinux_2_17_x86_64.manylinux2014_x86_64.whl (2.2 MB)\n",
            "\u001b[2K     \u001b[90m━━━━━━━━━━━━━━━━━━━━━━━━━━━━━━━━━━━━━━━━\u001b[0m \u001b[32m2.2/2.2 MB\u001b[0m \u001b[31m74.2 MB/s\u001b[0m eta \u001b[36m0:00:00\u001b[0m\n",
            "\u001b[?25hInstalling collected packages: rapidfuzz, Levenshtein, python-Levenshtein\n",
            "Successfully installed Levenshtein-0.20.9 python-Levenshtein-0.20.9 rapidfuzz-2.13.7\n"
          ]
        }
      ],
      "source": [
        "!pip install gensim\n",
        "!pip install python-Levenshtein"
      ]
    },
    {
      "cell_type": "code",
      "execution_count": 3,
      "metadata": {
        "colab": {
          "base_uri": "https://localhost:8080/"
        },
        "id": "S0Cw3S32j0Xl",
        "outputId": "62fc0bcf-cc22-4a5e-e957-534cbcc41a04"
      },
      "outputs": [
        {
          "output_type": "stream",
          "name": "stdout",
          "text": [
            "Looking in indexes: https://pypi.org/simple, https://us-python.pkg.dev/colab-wheels/public/simple/\n",
            "Collecting darts\n",
            "  Downloading darts-0.23.1-py3-none-any.whl (592 kB)\n",
            "\u001b[2K     \u001b[90m━━━━━━━━━━━━━━━━━━━━━━━━━━━━━━━━━━━━━━\u001b[0m \u001b[32m592.0/592.0 KB\u001b[0m \u001b[31m20.8 MB/s\u001b[0m eta \u001b[36m0:00:00\u001b[0m\n",
            "\u001b[?25hCollecting nfoursid>=1.0.0\n",
            "  Downloading nfoursid-1.0.1-py3-none-any.whl (16 kB)\n",
            "Collecting statsforecast>=1.0.0\n",
            "  Downloading statsforecast-1.5.0-py3-none-any.whl (99 kB)\n",
            "\u001b[2K     \u001b[90m━━━━━━━━━━━━━━━━━━━━━━━━━━━━━━━━━━━━━━━\u001b[0m \u001b[32m100.0/100.0 KB\u001b[0m \u001b[31m9.6 MB/s\u001b[0m eta \u001b[36m0:00:00\u001b[0m\n",
            "\u001b[?25hCollecting tbats>=1.1.0\n",
            "  Downloading tbats-1.1.2-py3-none-any.whl (43 kB)\n",
            "\u001b[2K     \u001b[90m━━━━━━━━━━━━━━━━━━━━━━━━━━━━━━━━━━━━━━━━\u001b[0m \u001b[32m43.8/43.8 KB\u001b[0m \u001b[31m5.9 MB/s\u001b[0m eta \u001b[36m0:00:00\u001b[0m\n",
            "\u001b[?25hRequirement already satisfied: holidays>=0.11.1 in /usr/local/lib/python3.9/dist-packages (from darts) (0.21.13)\n",
            "Collecting pyod>=0.9.5\n",
            "  Downloading pyod-1.0.9.tar.gz (149 kB)\n",
            "\u001b[2K     \u001b[90m━━━━━━━━━━━━━━━━━━━━━━━━━━━━━━━━━━━━━━\u001b[0m \u001b[32m150.0/150.0 KB\u001b[0m \u001b[31m17.1 MB/s\u001b[0m eta \u001b[36m0:00:00\u001b[0m\n",
            "\u001b[?25h  Preparing metadata (setup.py) ... \u001b[?25l\u001b[?25hdone\n",
            "Requirement already satisfied: scikit-learn>=1.0.1 in /usr/local/lib/python3.9/dist-packages (from darts) (1.2.2)\n",
            "Requirement already satisfied: tqdm>=4.60.0 in /usr/local/lib/python3.9/dist-packages (from darts) (4.65.0)\n",
            "Requirement already satisfied: pandas>=1.0.5 in /usr/local/lib/python3.9/dist-packages (from darts) (1.4.4)\n",
            "Requirement already satisfied: xgboost>=1.6.0 in /usr/local/lib/python3.9/dist-packages (from darts) (1.7.4)\n",
            "Requirement already satisfied: torch>=1.8.0 in /usr/local/lib/python3.9/dist-packages (from darts) (1.13.1+cu116)\n",
            "Requirement already satisfied: numpy>=1.19.0 in /usr/local/lib/python3.9/dist-packages (from darts) (1.22.4)\n",
            "Requirement already satisfied: xarray>=0.17.0 in /usr/local/lib/python3.9/dist-packages (from darts) (2022.12.0)\n",
            "Requirement already satisfied: lightgbm>=3.2.0 in /usr/local/lib/python3.9/dist-packages (from darts) (3.3.5)\n",
            "Collecting pmdarima>=1.8.0\n",
            "  Downloading pmdarima-2.0.3-cp39-cp39-manylinux_2_17_x86_64.manylinux2014_x86_64.manylinux_2_28_x86_64.whl (1.9 MB)\n",
            "\u001b[2K     \u001b[90m━━━━━━━━━━━━━━━━━━━━━━━━━━━━━━━━━━━━━━━━\u001b[0m \u001b[32m1.9/1.9 MB\u001b[0m \u001b[31m71.5 MB/s\u001b[0m eta \u001b[36m0:00:00\u001b[0m\n",
            "\u001b[?25hCollecting shap>=0.40.0\n",
            "  Downloading shap-0.41.0-cp39-cp39-manylinux_2_12_x86_64.manylinux2010_x86_64.whl (572 kB)\n",
            "\u001b[2K     \u001b[90m━━━━━━━━━━━━━━━━━━━━━━━━━━━━━━━━━━━━━━\u001b[0m \u001b[32m572.4/572.4 KB\u001b[0m \u001b[31m43.6 MB/s\u001b[0m eta \u001b[36m0:00:00\u001b[0m\n",
            "\u001b[?25hCollecting pytorch-lightning>=1.5.0\n",
            "  Downloading pytorch_lightning-2.0.0-py3-none-any.whl (715 kB)\n",
            "\u001b[2K     \u001b[90m━━━━━━━━━━━━━━━━━━━━━━━━━━━━━━━━━━━━━━\u001b[0m \u001b[32m715.6/715.6 KB\u001b[0m \u001b[31m58.1 MB/s\u001b[0m eta \u001b[36m0:00:00\u001b[0m\n",
            "\u001b[?25hRequirement already satisfied: scipy>=1.3.2 in /usr/local/lib/python3.9/dist-packages (from darts) (1.10.1)\n",
            "Requirement already satisfied: prophet>=1.1.1 in /usr/local/lib/python3.9/dist-packages (from darts) (1.1.2)\n",
            "Requirement already satisfied: statsmodels>=0.13.0 in /usr/local/lib/python3.9/dist-packages (from darts) (0.13.5)\n",
            "Collecting catboost>=1.0.6\n",
            "  Downloading catboost-1.1.1-cp39-none-manylinux1_x86_64.whl (76.6 MB)\n",
            "\u001b[2K     \u001b[90m━━━━━━━━━━━━━━━━━━━━━━━━━━━━━━━━━━━━━━━━\u001b[0m \u001b[32m76.6/76.6 MB\u001b[0m \u001b[31m11.9 MB/s\u001b[0m eta \u001b[36m0:00:00\u001b[0m\n",
            "\u001b[?25hRequirement already satisfied: requests>=2.22.0 in /usr/local/lib/python3.9/dist-packages (from darts) (2.27.1)\n",
            "Requirement already satisfied: matplotlib>=3.3.0 in /usr/local/lib/python3.9/dist-packages (from darts) (3.7.1)\n",
            "Requirement already satisfied: joblib>=0.16.0 in /usr/local/lib/python3.9/dist-packages (from darts) (1.1.1)\n",
            "Requirement already satisfied: plotly in /usr/local/lib/python3.9/dist-packages (from catboost>=1.0.6->darts) (5.5.0)\n",
            "Requirement already satisfied: graphviz in /usr/local/lib/python3.9/dist-packages (from catboost>=1.0.6->darts) (0.10.1)\n",
            "Requirement already satisfied: six in /usr/local/lib/python3.9/dist-packages (from catboost>=1.0.6->darts) (1.15.0)\n",
            "Requirement already satisfied: convertdate>=2.3.0 in /usr/local/lib/python3.9/dist-packages (from holidays>=0.11.1->darts) (2.4.0)\n",
            "Requirement already satisfied: python-dateutil in /usr/local/lib/python3.9/dist-packages (from holidays>=0.11.1->darts) (2.8.2)\n",
            "Requirement already satisfied: hijri-converter in /usr/local/lib/python3.9/dist-packages (from holidays>=0.11.1->darts) (2.2.4)\n",
            "Requirement already satisfied: korean-lunar-calendar in /usr/local/lib/python3.9/dist-packages (from holidays>=0.11.1->darts) (0.3.1)\n",
            "Requirement already satisfied: PyMeeus in /usr/local/lib/python3.9/dist-packages (from holidays>=0.11.1->darts) (0.5.12)\n",
            "Requirement already satisfied: wheel in /usr/local/lib/python3.9/dist-packages (from lightgbm>=3.2.0->darts) (0.40.0)\n",
            "Requirement already satisfied: fonttools>=4.22.0 in /usr/local/lib/python3.9/dist-packages (from matplotlib>=3.3.0->darts) (4.39.0)\n",
            "Requirement already satisfied: cycler>=0.10 in /usr/local/lib/python3.9/dist-packages (from matplotlib>=3.3.0->darts) (0.11.0)\n",
            "Requirement already satisfied: contourpy>=1.0.1 in /usr/local/lib/python3.9/dist-packages (from matplotlib>=3.3.0->darts) (1.0.7)\n",
            "Requirement already satisfied: kiwisolver>=1.0.1 in /usr/local/lib/python3.9/dist-packages (from matplotlib>=3.3.0->darts) (1.4.4)\n",
            "Requirement already satisfied: pillow>=6.2.0 in /usr/local/lib/python3.9/dist-packages (from matplotlib>=3.3.0->darts) (8.4.0)\n",
            "Requirement already satisfied: pyparsing>=2.3.1 in /usr/local/lib/python3.9/dist-packages (from matplotlib>=3.3.0->darts) (3.0.9)\n",
            "Requirement already satisfied: packaging>=20.0 in /usr/local/lib/python3.9/dist-packages (from matplotlib>=3.3.0->darts) (23.0)\n",
            "Requirement already satisfied: importlib-resources>=3.2.0 in /usr/local/lib/python3.9/dist-packages (from matplotlib>=3.3.0->darts) (5.12.0)\n",
            "Requirement already satisfied: pytz>=2020.1 in /usr/local/lib/python3.9/dist-packages (from pandas>=1.0.5->darts) (2022.7.1)\n",
            "Requirement already satisfied: Cython!=0.29.18,!=0.29.31,>=0.29 in /usr/local/lib/python3.9/dist-packages (from pmdarima>=1.8.0->darts) (0.29.33)\n",
            "Requirement already satisfied: setuptools!=50.0.0,>=38.6.0 in /usr/local/lib/python3.9/dist-packages (from pmdarima>=1.8.0->darts) (63.4.3)\n",
            "Requirement already satisfied: urllib3 in /usr/local/lib/python3.9/dist-packages (from pmdarima>=1.8.0->darts) (1.26.15)\n",
            "Requirement already satisfied: cmdstanpy>=1.0.4 in /usr/local/lib/python3.9/dist-packages (from prophet>=1.1.1->darts) (1.1.0)\n",
            "Requirement already satisfied: LunarCalendar>=0.0.9 in /usr/local/lib/python3.9/dist-packages (from prophet>=1.1.1->darts) (0.0.9)\n",
            "Requirement already satisfied: numba>=0.51 in /usr/local/lib/python3.9/dist-packages (from pyod>=0.9.5->darts) (0.56.4)\n",
            "Requirement already satisfied: typing-extensions>=4.0.0 in /usr/local/lib/python3.9/dist-packages (from pytorch-lightning>=1.5.0->darts) (4.5.0)\n",
            "Requirement already satisfied: fsspec[http]>2021.06.0 in /usr/local/lib/python3.9/dist-packages (from pytorch-lightning>=1.5.0->darts) (2023.3.0)\n",
            "Collecting lightning-utilities>=0.7.0\n",
            "  Downloading lightning_utilities-0.8.0-py3-none-any.whl (20 kB)\n",
            "Collecting torchmetrics>=0.7.0\n",
            "  Downloading torchmetrics-0.11.4-py3-none-any.whl (519 kB)\n",
            "\u001b[2K     \u001b[90m━━━━━━━━━━━━━━━━━━━━━━━━━━━━━━━━━━━━━━\u001b[0m \u001b[32m519.2/519.2 KB\u001b[0m \u001b[31m44.1 MB/s\u001b[0m eta \u001b[36m0:00:00\u001b[0m\n",
            "\u001b[?25hRequirement already satisfied: PyYAML>=5.4 in /usr/local/lib/python3.9/dist-packages (from pytorch-lightning>=1.5.0->darts) (6.0)\n",
            "Requirement already satisfied: charset-normalizer~=2.0.0 in /usr/local/lib/python3.9/dist-packages (from requests>=2.22.0->darts) (2.0.12)\n",
            "Requirement already satisfied: idna<4,>=2.5 in /usr/local/lib/python3.9/dist-packages (from requests>=2.22.0->darts) (3.4)\n",
            "Requirement already satisfied: certifi>=2017.4.17 in /usr/local/lib/python3.9/dist-packages (from requests>=2.22.0->darts) (2022.12.7)\n",
            "Requirement already satisfied: threadpoolctl>=2.0.0 in /usr/local/lib/python3.9/dist-packages (from scikit-learn>=1.0.1->darts) (3.1.0)\n",
            "Collecting slicer==0.0.7\n",
            "  Downloading slicer-0.0.7-py3-none-any.whl (14 kB)\n",
            "Requirement already satisfied: cloudpickle in /usr/local/lib/python3.9/dist-packages (from shap>=0.40.0->darts) (2.2.1)\n",
            "Collecting plotly-resampler\n",
            "  Downloading plotly_resampler-0.8.3.2.tar.gz (46 kB)\n",
            "\u001b[2K     \u001b[90m━━━━━━━━━━━━━━━━━━━━━━━━━━━━━━━━━━━━━━━━\u001b[0m \u001b[32m46.4/46.4 KB\u001b[0m \u001b[31m5.0 MB/s\u001b[0m eta \u001b[36m0:00:00\u001b[0m\n",
            "\u001b[?25h  Installing build dependencies ... \u001b[?25l\u001b[?25hdone\n",
            "  Getting requirements to build wheel ... \u001b[?25l\u001b[?25hdone\n",
            "  Preparing metadata (pyproject.toml) ... \u001b[?25l\u001b[?25hdone\n",
            "Collecting fugue>=0.8.1\n",
            "  Downloading fugue-0.8.1-py3-none-any.whl (364 kB)\n",
            "\u001b[2K     \u001b[90m━━━━━━━━━━━━━━━━━━━━━━━━━━━━━━━━━━━━━━\u001b[0m \u001b[32m364.4/364.4 KB\u001b[0m \u001b[31m30.1 MB/s\u001b[0m eta \u001b[36m0:00:00\u001b[0m\n",
            "\u001b[?25hRequirement already satisfied: patsy>=0.5.2 in /usr/local/lib/python3.9/dist-packages (from statsmodels>=0.13.0->darts) (0.5.3)\n",
            "Collecting aiohttp!=4.0.0a0,!=4.0.0a1\n",
            "  Downloading aiohttp-3.8.4-cp39-cp39-manylinux_2_17_x86_64.manylinux2014_x86_64.whl (1.0 MB)\n",
            "\u001b[2K     \u001b[90m━━━━━━━━━━━━━━━━━━━━━━━━━━━━━━━━━━━━━━━━\u001b[0m \u001b[32m1.0/1.0 MB\u001b[0m \u001b[31m49.9 MB/s\u001b[0m eta \u001b[36m0:00:00\u001b[0m\n",
            "\u001b[?25hCollecting sqlglot\n",
            "  Downloading sqlglot-11.4.1-py3-none-any.whl (240 kB)\n",
            "\u001b[2K     \u001b[90m━━━━━━━━━━━━━━━━━━━━━━━━━━━━━━━━━━━━━━\u001b[0m \u001b[32m240.3/240.3 KB\u001b[0m \u001b[31m23.5 MB/s\u001b[0m eta \u001b[36m0:00:00\u001b[0m\n",
            "\u001b[?25hCollecting qpd>=0.4.0\n",
            "  Downloading qpd-0.4.0-py3-none-any.whl (187 kB)\n",
            "\u001b[2K     \u001b[90m━━━━━━━━━━━━━━━━━━━━━━━━━━━━━━━━━━━━━━\u001b[0m \u001b[32m187.8/187.8 KB\u001b[0m \u001b[31m20.5 MB/s\u001b[0m eta \u001b[36m0:00:00\u001b[0m\n",
            "\u001b[?25hRequirement already satisfied: pyarrow>=0.15.1 in /usr/local/lib/python3.9/dist-packages (from fugue>=0.8.1->statsforecast>=1.0.0->darts) (9.0.0)\n",
            "Requirement already satisfied: sqlalchemy in /usr/local/lib/python3.9/dist-packages (from fugue>=0.8.1->statsforecast>=1.0.0->darts) (1.4.46)\n",
            "Collecting adagio>=0.2.4\n",
            "  Downloading adagio-0.2.4-py3-none-any.whl (26 kB)\n",
            "Collecting fugue-sql-antlr>=0.1.5\n",
            "  Downloading fugue-sql-antlr-0.1.5.tar.gz (154 kB)\n",
            "\u001b[2K     \u001b[90m━━━━━━━━━━━━━━━━━━━━━━━━━━━━━━━━━━━━━━\u001b[0m \u001b[32m154.1/154.1 KB\u001b[0m \u001b[31m20.6 MB/s\u001b[0m eta \u001b[36m0:00:00\u001b[0m\n",
            "\u001b[?25h  Preparing metadata (setup.py) ... \u001b[?25l\u001b[?25hdone\n",
            "Requirement already satisfied: jinja2 in /usr/local/lib/python3.9/dist-packages (from fugue>=0.8.1->statsforecast>=1.0.0->darts) (3.1.2)\n",
            "Collecting triad>=0.8.1\n",
            "  Downloading triad-0.8.4-py3-none-any.whl (76 kB)\n",
            "\u001b[2K     \u001b[90m━━━━━━━━━━━━━━━━━━━━━━━━━━━━━━━━━━━━━━━━\u001b[0m \u001b[32m76.8/76.8 KB\u001b[0m \u001b[31m10.4 MB/s\u001b[0m eta \u001b[36m0:00:00\u001b[0m\n",
            "\u001b[?25hRequirement already satisfied: zipp>=3.1.0 in /usr/local/lib/python3.9/dist-packages (from importlib-resources>=3.2.0->matplotlib>=3.3.0->darts) (3.15.0)\n",
            "Requirement already satisfied: ephem>=3.7.5.3 in /usr/local/lib/python3.9/dist-packages (from LunarCalendar>=0.0.9->prophet>=1.1.1->darts) (4.1.4)\n",
            "Requirement already satisfied: llvmlite<0.40,>=0.39.0dev0 in /usr/local/lib/python3.9/dist-packages (from numba>=0.51->pyod>=0.9.5->darts) (0.39.1)\n",
            "Requirement already satisfied: tenacity>=6.2.0 in /usr/local/lib/python3.9/dist-packages (from plotly->catboost>=1.0.6->darts) (8.2.2)\n",
            "Collecting orjson<4.0.0,>=3.8.0\n",
            "  Downloading orjson-3.8.7-cp39-cp39-manylinux_2_28_x86_64.whl (140 kB)\n",
            "\u001b[2K     \u001b[90m━━━━━━━━━━━━━━━━━━━━━━━━━━━━━━━━━━━━━━\u001b[0m \u001b[32m140.9/140.9 KB\u001b[0m \u001b[31m15.4 MB/s\u001b[0m eta \u001b[36m0:00:00\u001b[0m\n",
            "\u001b[?25hCollecting dash<3.0.0,>=2.2.0\n",
            "  Downloading dash-2.9.1-py3-none-any.whl (10.2 MB)\n",
            "\u001b[2K     \u001b[90m━━━━━━━━━━━━━━━━━━━━━━━━━━━━━━━━━━━━━━━\u001b[0m \u001b[32m10.2/10.2 MB\u001b[0m \u001b[31m102.8 MB/s\u001b[0m eta \u001b[36m0:00:00\u001b[0m\n",
            "\u001b[?25hCollecting jupyter-dash>=0.4.2\n",
            "  Downloading jupyter_dash-0.4.2-py3-none-any.whl (23 kB)\n",
            "Collecting trace-updater>=0.0.8\n",
            "  Downloading trace_updater-0.0.9-py3-none-any.whl (185 kB)\n",
            "\u001b[2K     \u001b[90m━━━━━━━━━━━━━━━━━━━━━━━━━━━━━━━━━━━━━━\u001b[0m \u001b[32m185.1/185.1 KB\u001b[0m \u001b[31m24.2 MB/s\u001b[0m eta \u001b[36m0:00:00\u001b[0m\n",
            "\u001b[?25hRequirement already satisfied: attrs>=17.3.0 in /usr/local/lib/python3.9/dist-packages (from aiohttp!=4.0.0a0,!=4.0.0a1->fsspec[http]>2021.06.0->pytorch-lightning>=1.5.0->darts) (22.2.0)\n",
            "Collecting frozenlist>=1.1.1\n",
            "  Downloading frozenlist-1.3.3-cp39-cp39-manylinux_2_5_x86_64.manylinux1_x86_64.manylinux_2_17_x86_64.manylinux2014_x86_64.whl (158 kB)\n",
            "\u001b[2K     \u001b[90m━━━━━━━━━━━━━━━━━━━━━━━━━━━━━━━━━━━━━━\u001b[0m \u001b[32m158.8/158.8 KB\u001b[0m \u001b[31m23.2 MB/s\u001b[0m eta \u001b[36m0:00:00\u001b[0m\n",
            "\u001b[?25hCollecting async-timeout<5.0,>=4.0.0a3\n",
            "  Downloading async_timeout-4.0.2-py3-none-any.whl (5.8 kB)\n",
            "Collecting yarl<2.0,>=1.0\n",
            "  Downloading yarl-1.8.2-cp39-cp39-manylinux_2_17_x86_64.manylinux2014_x86_64.whl (264 kB)\n",
            "\u001b[2K     \u001b[90m━━━━━━━━━━━━━━━━━━━━━━━━━━━━━━━━━━━━━━\u001b[0m \u001b[32m264.6/264.6 KB\u001b[0m \u001b[31m25.8 MB/s\u001b[0m eta \u001b[36m0:00:00\u001b[0m\n",
            "\u001b[?25hCollecting aiosignal>=1.1.2\n",
            "  Downloading aiosignal-1.3.1-py3-none-any.whl (7.6 kB)\n",
            "Collecting multidict<7.0,>=4.5\n",
            "  Downloading multidict-6.0.4-cp39-cp39-manylinux_2_17_x86_64.manylinux2014_x86_64.whl (114 kB)\n",
            "\u001b[2K     \u001b[90m━━━━━━━━━━━━━━━━━━━━━━━━━━━━━━━━━━━━━━\u001b[0m \u001b[32m114.2/114.2 KB\u001b[0m \u001b[31m13.8 MB/s\u001b[0m eta \u001b[36m0:00:00\u001b[0m\n",
            "\u001b[?25hCollecting dash-table==5.0.0\n",
            "  Downloading dash_table-5.0.0-py3-none-any.whl (3.9 kB)\n",
            "Collecting dash-core-components==2.0.0\n",
            "  Downloading dash_core_components-2.0.0-py3-none-any.whl (3.8 kB)\n",
            "Collecting dash-html-components==2.0.0\n",
            "  Downloading dash_html_components-2.0.0-py3-none-any.whl (4.1 kB)\n",
            "Requirement already satisfied: Flask>=1.0.4 in /usr/local/lib/python3.9/dist-packages (from dash<3.0.0,>=2.2.0->plotly-resampler->statsforecast>=1.0.0->darts) (2.2.3)\n",
            "Collecting antlr4-python3-runtime<4.12,>=4.11.1\n",
            "  Downloading antlr4_python3_runtime-4.11.1-py3-none-any.whl (144 kB)\n",
            "\u001b[2K     \u001b[90m━━━━━━━━━━━━━━━━━━━━━━━━━━━━━━━━━━━━━━\u001b[0m \u001b[32m144.2/144.2 KB\u001b[0m \u001b[31m17.3 MB/s\u001b[0m eta \u001b[36m0:00:00\u001b[0m\n",
            "\u001b[?25hRequirement already satisfied: ipykernel in /usr/local/lib/python3.9/dist-packages (from jupyter-dash>=0.4.2->plotly-resampler->statsforecast>=1.0.0->darts) (5.3.4)\n",
            "Collecting nest-asyncio\n",
            "  Downloading nest_asyncio-1.5.6-py3-none-any.whl (5.2 kB)\n",
            "Collecting ansi2html\n",
            "  Downloading ansi2html-1.8.0-py3-none-any.whl (16 kB)\n",
            "Requirement already satisfied: ipython in /usr/local/lib/python3.9/dist-packages (from jupyter-dash>=0.4.2->plotly-resampler->statsforecast>=1.0.0->darts) (7.9.0)\n",
            "Collecting retrying\n",
            "  Downloading retrying-1.3.4-py3-none-any.whl (11 kB)\n",
            "Collecting fs\n",
            "  Downloading fs-2.4.16-py2.py3-none-any.whl (135 kB)\n",
            "\u001b[2K     \u001b[90m━━━━━━━━━━━━━━━━━━━━━━━━━━━━━━━━━━━━━━\u001b[0m \u001b[32m135.3/135.3 KB\u001b[0m \u001b[31m15.2 MB/s\u001b[0m eta \u001b[36m0:00:00\u001b[0m\n",
            "\u001b[?25hRequirement already satisfied: MarkupSafe>=2.0 in /usr/local/lib/python3.9/dist-packages (from jinja2->fugue>=0.8.1->statsforecast>=1.0.0->darts) (2.1.2)\n",
            "Requirement already satisfied: greenlet!=0.4.17 in /usr/local/lib/python3.9/dist-packages (from sqlalchemy->fugue>=0.8.1->statsforecast>=1.0.0->darts) (2.0.2)\n",
            "Requirement already satisfied: click>=8.0 in /usr/local/lib/python3.9/dist-packages (from Flask>=1.0.4->dash<3.0.0,>=2.2.0->plotly-resampler->statsforecast>=1.0.0->darts) (8.1.3)\n",
            "Requirement already satisfied: itsdangerous>=2.0 in /usr/local/lib/python3.9/dist-packages (from Flask>=1.0.4->dash<3.0.0,>=2.2.0->plotly-resampler->statsforecast>=1.0.0->darts) (2.1.2)\n",
            "Requirement already satisfied: importlib-metadata>=3.6.0 in /usr/local/lib/python3.9/dist-packages (from Flask>=1.0.4->dash<3.0.0,>=2.2.0->plotly-resampler->statsforecast>=1.0.0->darts) (6.0.0)\n",
            "Requirement already satisfied: Werkzeug>=2.2.2 in /usr/local/lib/python3.9/dist-packages (from Flask>=1.0.4->dash<3.0.0,>=2.2.0->plotly-resampler->statsforecast>=1.0.0->darts) (2.2.3)\n",
            "Collecting appdirs~=1.4.3\n",
            "  Downloading appdirs-1.4.4-py2.py3-none-any.whl (9.6 kB)\n",
            "Requirement already satisfied: tornado>=4.2 in /usr/local/lib/python3.9/dist-packages (from ipykernel->jupyter-dash>=0.4.2->plotly-resampler->statsforecast>=1.0.0->darts) (6.2)\n",
            "Requirement already satisfied: jupyter-client in /usr/local/lib/python3.9/dist-packages (from ipykernel->jupyter-dash>=0.4.2->plotly-resampler->statsforecast>=1.0.0->darts) (6.1.12)\n",
            "Requirement already satisfied: traitlets>=4.1.0 in /usr/local/lib/python3.9/dist-packages (from ipykernel->jupyter-dash>=0.4.2->plotly-resampler->statsforecast>=1.0.0->darts) (5.7.1)\n",
            "Collecting jedi>=0.10\n",
            "  Downloading jedi-0.18.2-py2.py3-none-any.whl (1.6 MB)\n",
            "\u001b[2K     \u001b[90m━━━━━━━━━━━━━━━━━━━━━━━━━━━━━━━━━━━━━━━━\u001b[0m \u001b[32m1.6/1.6 MB\u001b[0m \u001b[31m76.9 MB/s\u001b[0m eta \u001b[36m0:00:00\u001b[0m\n",
            "\u001b[?25hRequirement already satisfied: pygments in /usr/local/lib/python3.9/dist-packages (from ipython->jupyter-dash>=0.4.2->plotly-resampler->statsforecast>=1.0.0->darts) (2.6.1)\n",
            "Requirement already satisfied: decorator in /usr/local/lib/python3.9/dist-packages (from ipython->jupyter-dash>=0.4.2->plotly-resampler->statsforecast>=1.0.0->darts) (4.4.2)\n",
            "Requirement already satisfied: prompt-toolkit<2.1.0,>=2.0.0 in /usr/local/lib/python3.9/dist-packages (from ipython->jupyter-dash>=0.4.2->plotly-resampler->statsforecast>=1.0.0->darts) (2.0.10)\n",
            "Requirement already satisfied: pexpect in /usr/local/lib/python3.9/dist-packages (from ipython->jupyter-dash>=0.4.2->plotly-resampler->statsforecast>=1.0.0->darts) (4.8.0)\n",
            "Requirement already satisfied: backcall in /usr/local/lib/python3.9/dist-packages (from ipython->jupyter-dash>=0.4.2->plotly-resampler->statsforecast>=1.0.0->darts) (0.2.0)\n",
            "Requirement already satisfied: pickleshare in /usr/local/lib/python3.9/dist-packages (from ipython->jupyter-dash>=0.4.2->plotly-resampler->statsforecast>=1.0.0->darts) (0.7.5)\n",
            "Requirement already satisfied: parso<0.9.0,>=0.8.0 in /usr/local/lib/python3.9/dist-packages (from jedi>=0.10->ipython->jupyter-dash>=0.4.2->plotly-resampler->statsforecast>=1.0.0->darts) (0.8.3)\n",
            "Requirement already satisfied: wcwidth in /usr/local/lib/python3.9/dist-packages (from prompt-toolkit<2.1.0,>=2.0.0->ipython->jupyter-dash>=0.4.2->plotly-resampler->statsforecast>=1.0.0->darts) (0.2.6)\n",
            "Requirement already satisfied: jupyter-core>=4.6.0 in /usr/local/lib/python3.9/dist-packages (from jupyter-client->ipykernel->jupyter-dash>=0.4.2->plotly-resampler->statsforecast>=1.0.0->darts) (5.2.0)\n",
            "Requirement already satisfied: pyzmq>=13 in /usr/local/lib/python3.9/dist-packages (from jupyter-client->ipykernel->jupyter-dash>=0.4.2->plotly-resampler->statsforecast>=1.0.0->darts) (23.2.1)\n",
            "Requirement already satisfied: ptyprocess>=0.5 in /usr/local/lib/python3.9/dist-packages (from pexpect->ipython->jupyter-dash>=0.4.2->plotly-resampler->statsforecast>=1.0.0->darts) (0.7.0)\n",
            "Requirement already satisfied: platformdirs>=2.5 in /usr/local/lib/python3.9/dist-packages (from jupyter-core>=4.6.0->jupyter-client->ipykernel->jupyter-dash>=0.4.2->plotly-resampler->statsforecast>=1.0.0->darts) (3.1.1)\n",
            "Building wheels for collected packages: pyod, plotly-resampler, fugue-sql-antlr\n",
            "  Building wheel for pyod (setup.py) ... \u001b[?25l\u001b[?25hdone\n",
            "  Created wheel for pyod: filename=pyod-1.0.9-py3-none-any.whl size=184112 sha256=600d57b0912a5601cc873e9ee06bd3127399f5439bf0867195cfcc9d7366f324\n",
            "  Stored in directory: /root/.cache/pip/wheels/1b/9c/b8/9759d7cc64a1e01bb9872ade80cb7db445ccf506e083325106\n",
            "  Building wheel for plotly-resampler (pyproject.toml) ... \u001b[?25l\u001b[?25hdone\n",
            "  Created wheel for plotly-resampler: filename=plotly_resampler-0.8.3.2-cp39-cp39-manylinux_2_31_x86_64.whl size=75072 sha256=dc758edcfd6df75dffc9b1046c2a46744b3f49449127dfbb11df9d5795f953b9\n",
            "  Stored in directory: /root/.cache/pip/wheels/9e/36/06/4c11e300918011376af149098621ec7ebe06d8256566d43d51\n",
            "  Building wheel for fugue-sql-antlr (setup.py) ... \u001b[?25l\u001b[?25hdone\n",
            "  Created wheel for fugue-sql-antlr: filename=fugue_sql_antlr-0.1.5-py3-none-any.whl size=157611 sha256=35f5f8c7983a0715f6981eef5dd9cd34049956ed8a3babc8b4f115b857dd740d\n",
            "  Stored in directory: /root/.cache/pip/wheels/61/d4/e5/7c90c375fba26867c6ec01bccb003b4cb983fe8386f2e0ffe0\n",
            "Successfully built pyod plotly-resampler fugue-sql-antlr\n",
            "Installing collected packages: trace-updater, sqlglot, dash-table, dash-html-components, dash-core-components, appdirs, antlr4-python3-runtime, slicer, retrying, orjson, nest-asyncio, multidict, lightning-utilities, jedi, fs, frozenlist, async-timeout, ansi2html, yarl, torchmetrics, aiosignal, triad, shap, pyod, nfoursid, dash, catboost, aiohttp, pmdarima, jupyter-dash, fugue-sql-antlr, adagio, tbats, qpd, pytorch-lightning, plotly-resampler, fugue, statsforecast, darts\n",
            "Successfully installed adagio-0.2.4 aiohttp-3.8.4 aiosignal-1.3.1 ansi2html-1.8.0 antlr4-python3-runtime-4.11.1 appdirs-1.4.4 async-timeout-4.0.2 catboost-1.1.1 darts-0.23.1 dash-2.9.1 dash-core-components-2.0.0 dash-html-components-2.0.0 dash-table-5.0.0 frozenlist-1.3.3 fs-2.4.16 fugue-0.8.1 fugue-sql-antlr-0.1.5 jedi-0.18.2 jupyter-dash-0.4.2 lightning-utilities-0.8.0 multidict-6.0.4 nest-asyncio-1.5.6 nfoursid-1.0.1 orjson-3.8.7 plotly-resampler-0.8.3.2 pmdarima-2.0.3 pyod-1.0.9 pytorch-lightning-2.0.0 qpd-0.4.0 retrying-1.3.4 shap-0.41.0 slicer-0.0.7 sqlglot-11.4.1 statsforecast-1.5.0 tbats-1.1.2 torchmetrics-0.11.4 trace-updater-0.0.9 triad-0.8.4 yarl-1.8.2\n"
          ]
        }
      ],
      "source": [
        "!pip install darts"
      ]
    },
    {
      "cell_type": "code",
      "execution_count": 4,
      "metadata": {
        "colab": {
          "base_uri": "https://localhost:8080/"
        },
        "id": "goaIQKx3p3YR",
        "outputId": "2e287eda-3c90-4772-9dba-b63624d59182"
      },
      "outputs": [
        {
          "output_type": "stream",
          "name": "stdout",
          "text": [
            "Looking in indexes: https://pypi.org/simple, https://us-python.pkg.dev/colab-wheels/public/simple/\n",
            "Collecting afinn\n",
            "  Downloading afinn-0.1.tar.gz (52 kB)\n",
            "\u001b[2K     \u001b[90m━━━━━━━━━━━━━━━━━━━━━━━━━━━━━━━━━━━━━━━━\u001b[0m \u001b[32m52.6/52.6 KB\u001b[0m \u001b[31m4.3 MB/s\u001b[0m eta \u001b[36m0:00:00\u001b[0m\n",
            "\u001b[?25h  Preparing metadata (setup.py) ... \u001b[?25l\u001b[?25hdone\n",
            "Building wheels for collected packages: afinn\n",
            "  Building wheel for afinn (setup.py) ... \u001b[?25l\u001b[?25hdone\n",
            "  Created wheel for afinn: filename=afinn-0.1-py3-none-any.whl size=53448 sha256=8410ecff98878b169602c049e43b3a885a589a2c42fe71e9325b7578efd65c48\n",
            "  Stored in directory: /root/.cache/pip/wheels/79/91/ee/8374d9bc8c6c0896a2db75afdfd63d43653902407a0e76cd94\n",
            "Successfully built afinn\n",
            "Installing collected packages: afinn\n",
            "Successfully installed afinn-0.1\n"
          ]
        }
      ],
      "source": [
        "!pip install afinn"
      ]
    },
    {
      "cell_type": "code",
      "execution_count": 5,
      "metadata": {
        "colab": {
          "base_uri": "https://localhost:8080/"
        },
        "id": "GhWckt7dkiNb",
        "outputId": "c18201a2-6852-4ff0-dd1f-c070ac16c405"
      },
      "outputs": [
        {
          "output_type": "stream",
          "name": "stdout",
          "text": [
            "Looking in indexes: https://pypi.org/simple, https://us-python.pkg.dev/colab-wheels/public/simple/\n",
            "Collecting pyLDAvis==2.1.2\n",
            "  Downloading pyLDAvis-2.1.2.tar.gz (1.6 MB)\n",
            "\u001b[2K     \u001b[90m━━━━━━━━━━━━━━━━━━━━━━━━━━━━━━━━━━━━━━━━\u001b[0m \u001b[32m1.6/1.6 MB\u001b[0m \u001b[31m37.8 MB/s\u001b[0m eta \u001b[36m0:00:00\u001b[0m\n",
            "\u001b[?25h  Preparing metadata (setup.py) ... \u001b[?25l\u001b[?25hdone\n",
            "Requirement already satisfied: wheel>=0.23.0 in /usr/local/lib/python3.9/dist-packages (from pyLDAvis==2.1.2) (0.40.0)\n",
            "Requirement already satisfied: numpy>=1.9.2 in /usr/local/lib/python3.9/dist-packages (from pyLDAvis==2.1.2) (1.22.4)\n",
            "Requirement already satisfied: scipy>=0.18.0 in /usr/local/lib/python3.9/dist-packages (from pyLDAvis==2.1.2) (1.10.1)\n",
            "Requirement already satisfied: pandas>=0.17.0 in /usr/local/lib/python3.9/dist-packages (from pyLDAvis==2.1.2) (1.4.4)\n",
            "Requirement already satisfied: joblib>=0.8.4 in /usr/local/lib/python3.9/dist-packages (from pyLDAvis==2.1.2) (1.1.1)\n",
            "Requirement already satisfied: jinja2>=2.7.2 in /usr/local/lib/python3.9/dist-packages (from pyLDAvis==2.1.2) (3.1.2)\n",
            "Requirement already satisfied: numexpr in /usr/local/lib/python3.9/dist-packages (from pyLDAvis==2.1.2) (2.8.4)\n",
            "Requirement already satisfied: pytest in /usr/local/lib/python3.9/dist-packages (from pyLDAvis==2.1.2) (3.6.4)\n",
            "Requirement already satisfied: future in /usr/local/lib/python3.9/dist-packages (from pyLDAvis==2.1.2) (0.18.3)\n",
            "Collecting funcy\n",
            "  Downloading funcy-1.18-py2.py3-none-any.whl (33 kB)\n",
            "Requirement already satisfied: MarkupSafe>=2.0 in /usr/local/lib/python3.9/dist-packages (from jinja2>=2.7.2->pyLDAvis==2.1.2) (2.1.2)\n",
            "Requirement already satisfied: python-dateutil>=2.8.1 in /usr/local/lib/python3.9/dist-packages (from pandas>=0.17.0->pyLDAvis==2.1.2) (2.8.2)\n",
            "Requirement already satisfied: pytz>=2020.1 in /usr/local/lib/python3.9/dist-packages (from pandas>=0.17.0->pyLDAvis==2.1.2) (2022.7.1)\n",
            "Requirement already satisfied: py>=1.5.0 in /usr/local/lib/python3.9/dist-packages (from pytest->pyLDAvis==2.1.2) (1.11.0)\n",
            "Requirement already satisfied: attrs>=17.4.0 in /usr/local/lib/python3.9/dist-packages (from pytest->pyLDAvis==2.1.2) (22.2.0)\n",
            "Requirement already satisfied: atomicwrites>=1.0 in /usr/local/lib/python3.9/dist-packages (from pytest->pyLDAvis==2.1.2) (1.4.1)\n",
            "Requirement already satisfied: pluggy<0.8,>=0.5 in /usr/local/lib/python3.9/dist-packages (from pytest->pyLDAvis==2.1.2) (0.7.1)\n",
            "Requirement already satisfied: six>=1.10.0 in /usr/local/lib/python3.9/dist-packages (from pytest->pyLDAvis==2.1.2) (1.15.0)\n",
            "Requirement already satisfied: setuptools in /usr/local/lib/python3.9/dist-packages (from pytest->pyLDAvis==2.1.2) (63.4.3)\n",
            "Requirement already satisfied: more-itertools>=4.0.0 in /usr/local/lib/python3.9/dist-packages (from pytest->pyLDAvis==2.1.2) (9.1.0)\n",
            "Building wheels for collected packages: pyLDAvis\n",
            "  Building wheel for pyLDAvis (setup.py) ... \u001b[?25l\u001b[?25hdone\n",
            "  Created wheel for pyLDAvis: filename=pyLDAvis-2.1.2-py2.py3-none-any.whl size=97736 sha256=895b97a34d30489741cd08584eba00c5d78d4fc17d0b20463e3deb8c75178d1b\n",
            "  Stored in directory: /root/.cache/pip/wheels/59/70/ee/99a0df99d8b4a7b87c79640ebee0927c0f6ccff046e9cc2471\n",
            "Successfully built pyLDAvis\n",
            "Installing collected packages: funcy, pyLDAvis\n",
            "Successfully installed funcy-1.18 pyLDAvis-2.1.2\n"
          ]
        }
      ],
      "source": [
        "!pip install pyLDAvis==2.1.2"
      ]
    },
    {
      "cell_type": "markdown",
      "metadata": {
        "id": "BvVTShjqf-tS"
      },
      "source": [
        "# Import Libraries"
      ]
    },
    {
      "cell_type": "code",
      "execution_count": 6,
      "metadata": {
        "colab": {
          "base_uri": "https://localhost:8080/"
        },
        "id": "jBijV5AF3H4e",
        "outputId": "bef04358-a1c1-4d77-91ad-c96b732cb295"
      },
      "outputs": [
        {
          "output_type": "stream",
          "name": "stderr",
          "text": [
            "[nltk_data] Downloading package vader_lexicon to /root/nltk_data...\n",
            "[nltk_data] Downloading package stopwords to /root/nltk_data...\n",
            "[nltk_data]   Unzipping corpora/stopwords.zip.\n",
            "[nltk_data] Downloading package punkt to /root/nltk_data...\n",
            "[nltk_data]   Unzipping tokenizers/punkt.zip.\n",
            "[nltk_data] Downloading package wordnet to /root/nltk_data...\n",
            "[nltk_data] Downloading package omw-1.4 to /root/nltk_data...\n"
          ]
        }
      ],
      "source": [
        "from collections import Counter\n",
        "\n",
        "import pandas as pd\n",
        "import numpy as np\n",
        "import re\n",
        "import seaborn as sns\n",
        "import matplotlib.pyplot as plt\n",
        "\n",
        "from sklearn.cluster import KMeans\n",
        "from sklearn.preprocessing import MinMaxScaler\n",
        "from sklearn.feature_extraction.text import CountVectorizer , TfidfVectorizer\n",
        "from statsmodels.tsa.seasonal import seasonal_decompose\n",
        "from statsmodels.tsa.stattools import adfuller\n",
        "from prophet import Prophet\n",
        "\n",
        "import nltk\n",
        "nltk.download('vader_lexicon')\n",
        "nltk.download('stopwords')\n",
        "nltk.download('punkt')\n",
        "nltk.download('wordnet')\n",
        "nltk.download('omw-1.4')\n",
        "\n",
        "from nltk.corpus import stopwords\n",
        "stop=set(stopwords.words('english'))\n",
        "from nltk.sentiment.vader import SentimentIntensityAnalyzer\n",
        "sent = SentimentIntensityAnalyzer()\n",
        "\n",
        "import fasttext\n",
        "from sklearn.model_selection import train_test_split\n",
        "from sklearn.metrics import f1_score , precision_score , recall_score , accuracy_score , classification_report , ConfusionMatrixDisplay , confusion_matrix\n",
        "\n",
        "import gensim\n",
        "from nltk.stem import WordNetLemmatizer,PorterStemmer\n",
        "from nltk.tokenize import word_tokenize\n",
        "import pyLDAvis.gensim\n",
        "\n",
        "from textblob import TextBlob\n",
        "from afinn import Afinn\n",
        "\n",
        "from darts.metrics import mape,mse,rmse\n",
        "from darts.models import Theta,Prophet,ARIMA\n",
        "from darts.utils.statistics import plot_acf , plot_pacf\n",
        "from darts.models import (\n",
        "    NaiveSeasonal,\n",
        "    NaiveDrift,\n",
        "    Prophet,\n",
        "    ExponentialSmoothing,\n",
        "    ARIMA,\n",
        "    AutoARIMA,\n",
        "    Theta,\n",
        "    FFT\n",
        ")\n",
        "\n",
        "import warnings\n",
        "warnings.filterwarnings('ignore')"
      ]
    },
    {
      "cell_type": "markdown",
      "source": [
        "# Mount Drive"
      ],
      "metadata": {
        "id": "rW7Q7be2NcwS"
      }
    },
    {
      "cell_type": "code",
      "execution_count": 7,
      "metadata": {
        "id": "UT3N5kCJ3KSV",
        "colab": {
          "base_uri": "https://localhost:8080/"
        },
        "outputId": "0f9526b2-b89e-4fb8-f53f-05f560b8ad51"
      },
      "outputs": [
        {
          "output_type": "stream",
          "name": "stdout",
          "text": [
            "Mounted at /content/drive\n"
          ]
        }
      ],
      "source": [
        "from google.colab import drive\n",
        "drive.mount('/content/drive')"
      ]
    },
    {
      "cell_type": "markdown",
      "source": [
        "## Load Data"
      ],
      "metadata": {
        "id": "8vMw95WtNg0N"
      }
    },
    {
      "cell_type": "code",
      "execution_count": 132,
      "metadata": {
        "id": "IQ88hhDf3UUj"
      },
      "outputs": [],
      "source": [
        "df1=pd.read_csv('/content/drive/MyDrive/NIIT/CapeStone/electronics_final.csv')"
      ]
    },
    {
      "cell_type": "code",
      "execution_count": 133,
      "metadata": {
        "colab": {
          "base_uri": "https://localhost:8080/"
        },
        "id": "XPw1cGyu3y1Y",
        "outputId": "4b894b75-0d39-40d0-f9e9-6e381d3f2972"
      },
      "outputs": [
        {
          "output_type": "execute_result",
          "data": {
            "text/plain": [
              "(209836, 15)"
            ]
          },
          "metadata": {},
          "execution_count": 133
        }
      ],
      "source": [
        "# Check Shape\n",
        "df1.shape"
      ]
    },
    {
      "cell_type": "code",
      "source": [
        "# Display first 5 rows\n",
        "df1.head()"
      ],
      "metadata": {
        "colab": {
          "base_uri": "https://localhost:8080/",
          "height": 634
        },
        "id": "txqV8zdtOfMh",
        "outputId": "f4862dd5-b910-4518-b711-adb054ab9f34"
      },
      "execution_count": 134,
      "outputs": [
        {
          "output_type": "execute_result",
          "data": {
            "text/plain": [
              "   overall  verified   reviewTime      reviewerID        asin  \\\n",
              "0      4.0      True   11 1, 2013   AJIC7H0QB0HQ8  B007136B7U   \n",
              "1      5.0      True   12 8, 2015  A24UCU88FE1FPN  B00005141S   \n",
              "2      1.0      True  08 18, 2016  A3C5MTRFKQYHMW  B016P6ETUE   \n",
              "3      4.0      True  08 17, 2010  A253WC2BIJB7ET  B00000K4KH   \n",
              "4      5.0      True  06 12, 2018  A3SMSPKX6LL5U5  B018I846KA   \n",
              "\n",
              "                                           style       reviewerName  \\\n",
              "0  {'Product Packaging:': ' Standard Packaging'}      K RAM SANTOSH   \n",
              "1                   {'Style:': ' Live Gamer HD'}       Fabian Chang   \n",
              "2                       {'Color:': ' Black/Red'}         Leon Blair   \n",
              "3                        {'Style:': ' Standard'}  Mike in San Diego   \n",
              "4      {'Size:': ' 58-62mm', 'Color:': ' black'}   Michael R. Smith   \n",
              "\n",
              "                                          reviewText  \\\n",
              "0  they are very good in technology sound is supe...   \n",
              "1  This is a pretty awesome product. It's good en...   \n",
              "2  Sent it back, worked for 10 days and then went...   \n",
              "3  Not much to say about this product. It is what...   \n",
              "4  If you encounter a lens filter that won't come...   \n",
              "\n",
              "                                             summary  unixReviewTime  \\\n",
              "0                                          liking it      1383264000   \n",
              "1  Great Product, but still needs some reconsidering      1449532800   \n",
              "2                                           One Star      1471478400   \n",
              "3          Received what I ordered on a timely basis      1282003200   \n",
              "4  If you encounter a lens filter that won't come...      1528761600   \n",
              "\n",
              "                                               title       brand  \\\n",
              "0  Skullcandy Skullcrusher (Discontinued by Manuf...  Skullcandy   \n",
              "1  AVerMedia Live Gamer Portable 2, Full HD 1080p...   AVerMedia   \n",
              "2  ShhhMouse Wireless Silent Mouse | Portable and...   Shhhmouse   \n",
              "3  Kensington 64068F MicroSaver Keyed Laptop Lock...  Kensington   \n",
              "4  Neewer Rubber-coated Metal Camera Lens Filter ...      Neewer   \n",
              "\n",
              "               main_cat               date    price  \n",
              "0  Home Audio & Theater   February 1, 2012   $18.89  \n",
              "1       All Electronics  September 4, 1999  $102.01  \n",
              "2             Computers   October 15, 2015   $10.99  \n",
              "3             Computers      April 2, 2004   $10.86  \n",
              "4        Camera & Photo  November 25, 2015   $12.99  "
            ],
            "text/html": [
              "\n",
              "  <div id=\"df-19b5e177-5e8f-4cf6-9e95-60eb5323da3a\">\n",
              "    <div class=\"colab-df-container\">\n",
              "      <div>\n",
              "<style scoped>\n",
              "    .dataframe tbody tr th:only-of-type {\n",
              "        vertical-align: middle;\n",
              "    }\n",
              "\n",
              "    .dataframe tbody tr th {\n",
              "        vertical-align: top;\n",
              "    }\n",
              "\n",
              "    .dataframe thead th {\n",
              "        text-align: right;\n",
              "    }\n",
              "</style>\n",
              "<table border=\"1\" class=\"dataframe\">\n",
              "  <thead>\n",
              "    <tr style=\"text-align: right;\">\n",
              "      <th></th>\n",
              "      <th>overall</th>\n",
              "      <th>verified</th>\n",
              "      <th>reviewTime</th>\n",
              "      <th>reviewerID</th>\n",
              "      <th>asin</th>\n",
              "      <th>style</th>\n",
              "      <th>reviewerName</th>\n",
              "      <th>reviewText</th>\n",
              "      <th>summary</th>\n",
              "      <th>unixReviewTime</th>\n",
              "      <th>title</th>\n",
              "      <th>brand</th>\n",
              "      <th>main_cat</th>\n",
              "      <th>date</th>\n",
              "      <th>price</th>\n",
              "    </tr>\n",
              "  </thead>\n",
              "  <tbody>\n",
              "    <tr>\n",
              "      <th>0</th>\n",
              "      <td>4.0</td>\n",
              "      <td>True</td>\n",
              "      <td>11 1, 2013</td>\n",
              "      <td>AJIC7H0QB0HQ8</td>\n",
              "      <td>B007136B7U</td>\n",
              "      <td>{'Product Packaging:': ' Standard Packaging'}</td>\n",
              "      <td>K RAM SANTOSH</td>\n",
              "      <td>they are very good in technology sound is supe...</td>\n",
              "      <td>liking it</td>\n",
              "      <td>1383264000</td>\n",
              "      <td>Skullcandy Skullcrusher (Discontinued by Manuf...</td>\n",
              "      <td>Skullcandy</td>\n",
              "      <td>Home Audio &amp; Theater</td>\n",
              "      <td>February 1, 2012</td>\n",
              "      <td>$18.89</td>\n",
              "    </tr>\n",
              "    <tr>\n",
              "      <th>1</th>\n",
              "      <td>5.0</td>\n",
              "      <td>True</td>\n",
              "      <td>12 8, 2015</td>\n",
              "      <td>A24UCU88FE1FPN</td>\n",
              "      <td>B00005141S</td>\n",
              "      <td>{'Style:': ' Live Gamer HD'}</td>\n",
              "      <td>Fabian Chang</td>\n",
              "      <td>This is a pretty awesome product. It's good en...</td>\n",
              "      <td>Great Product, but still needs some reconsidering</td>\n",
              "      <td>1449532800</td>\n",
              "      <td>AVerMedia Live Gamer Portable 2, Full HD 1080p...</td>\n",
              "      <td>AVerMedia</td>\n",
              "      <td>All Electronics</td>\n",
              "      <td>September 4, 1999</td>\n",
              "      <td>$102.01</td>\n",
              "    </tr>\n",
              "    <tr>\n",
              "      <th>2</th>\n",
              "      <td>1.0</td>\n",
              "      <td>True</td>\n",
              "      <td>08 18, 2016</td>\n",
              "      <td>A3C5MTRFKQYHMW</td>\n",
              "      <td>B016P6ETUE</td>\n",
              "      <td>{'Color:': ' Black/Red'}</td>\n",
              "      <td>Leon Blair</td>\n",
              "      <td>Sent it back, worked for 10 days and then went...</td>\n",
              "      <td>One Star</td>\n",
              "      <td>1471478400</td>\n",
              "      <td>ShhhMouse Wireless Silent Mouse | Portable and...</td>\n",
              "      <td>Shhhmouse</td>\n",
              "      <td>Computers</td>\n",
              "      <td>October 15, 2015</td>\n",
              "      <td>$10.99</td>\n",
              "    </tr>\n",
              "    <tr>\n",
              "      <th>3</th>\n",
              "      <td>4.0</td>\n",
              "      <td>True</td>\n",
              "      <td>08 17, 2010</td>\n",
              "      <td>A253WC2BIJB7ET</td>\n",
              "      <td>B00000K4KH</td>\n",
              "      <td>{'Style:': ' Standard'}</td>\n",
              "      <td>Mike in San Diego</td>\n",
              "      <td>Not much to say about this product. It is what...</td>\n",
              "      <td>Received what I ordered on a timely basis</td>\n",
              "      <td>1282003200</td>\n",
              "      <td>Kensington 64068F MicroSaver Keyed Laptop Lock...</td>\n",
              "      <td>Kensington</td>\n",
              "      <td>Computers</td>\n",
              "      <td>April 2, 2004</td>\n",
              "      <td>$10.86</td>\n",
              "    </tr>\n",
              "    <tr>\n",
              "      <th>4</th>\n",
              "      <td>5.0</td>\n",
              "      <td>True</td>\n",
              "      <td>06 12, 2018</td>\n",
              "      <td>A3SMSPKX6LL5U5</td>\n",
              "      <td>B018I846KA</td>\n",
              "      <td>{'Size:': ' 58-62mm', 'Color:': ' black'}</td>\n",
              "      <td>Michael R. Smith</td>\n",
              "      <td>If you encounter a lens filter that won't come...</td>\n",
              "      <td>If you encounter a lens filter that won't come...</td>\n",
              "      <td>1528761600</td>\n",
              "      <td>Neewer Rubber-coated Metal Camera Lens Filter ...</td>\n",
              "      <td>Neewer</td>\n",
              "      <td>Camera &amp; Photo</td>\n",
              "      <td>November 25, 2015</td>\n",
              "      <td>$12.99</td>\n",
              "    </tr>\n",
              "  </tbody>\n",
              "</table>\n",
              "</div>\n",
              "      <button class=\"colab-df-convert\" onclick=\"convertToInteractive('df-19b5e177-5e8f-4cf6-9e95-60eb5323da3a')\"\n",
              "              title=\"Convert this dataframe to an interactive table.\"\n",
              "              style=\"display:none;\">\n",
              "        \n",
              "  <svg xmlns=\"http://www.w3.org/2000/svg\" height=\"24px\"viewBox=\"0 0 24 24\"\n",
              "       width=\"24px\">\n",
              "    <path d=\"M0 0h24v24H0V0z\" fill=\"none\"/>\n",
              "    <path d=\"M18.56 5.44l.94 2.06.94-2.06 2.06-.94-2.06-.94-.94-2.06-.94 2.06-2.06.94zm-11 1L8.5 8.5l.94-2.06 2.06-.94-2.06-.94L8.5 2.5l-.94 2.06-2.06.94zm10 10l.94 2.06.94-2.06 2.06-.94-2.06-.94-.94-2.06-.94 2.06-2.06.94z\"/><path d=\"M17.41 7.96l-1.37-1.37c-.4-.4-.92-.59-1.43-.59-.52 0-1.04.2-1.43.59L10.3 9.45l-7.72 7.72c-.78.78-.78 2.05 0 2.83L4 21.41c.39.39.9.59 1.41.59.51 0 1.02-.2 1.41-.59l7.78-7.78 2.81-2.81c.8-.78.8-2.07 0-2.86zM5.41 20L4 18.59l7.72-7.72 1.47 1.35L5.41 20z\"/>\n",
              "  </svg>\n",
              "      </button>\n",
              "      \n",
              "  <style>\n",
              "    .colab-df-container {\n",
              "      display:flex;\n",
              "      flex-wrap:wrap;\n",
              "      gap: 12px;\n",
              "    }\n",
              "\n",
              "    .colab-df-convert {\n",
              "      background-color: #E8F0FE;\n",
              "      border: none;\n",
              "      border-radius: 50%;\n",
              "      cursor: pointer;\n",
              "      display: none;\n",
              "      fill: #1967D2;\n",
              "      height: 32px;\n",
              "      padding: 0 0 0 0;\n",
              "      width: 32px;\n",
              "    }\n",
              "\n",
              "    .colab-df-convert:hover {\n",
              "      background-color: #E2EBFA;\n",
              "      box-shadow: 0px 1px 2px rgba(60, 64, 67, 0.3), 0px 1px 3px 1px rgba(60, 64, 67, 0.15);\n",
              "      fill: #174EA6;\n",
              "    }\n",
              "\n",
              "    [theme=dark] .colab-df-convert {\n",
              "      background-color: #3B4455;\n",
              "      fill: #D2E3FC;\n",
              "    }\n",
              "\n",
              "    [theme=dark] .colab-df-convert:hover {\n",
              "      background-color: #434B5C;\n",
              "      box-shadow: 0px 1px 3px 1px rgba(0, 0, 0, 0.15);\n",
              "      filter: drop-shadow(0px 1px 2px rgba(0, 0, 0, 0.3));\n",
              "      fill: #FFFFFF;\n",
              "    }\n",
              "  </style>\n",
              "\n",
              "      <script>\n",
              "        const buttonEl =\n",
              "          document.querySelector('#df-19b5e177-5e8f-4cf6-9e95-60eb5323da3a button.colab-df-convert');\n",
              "        buttonEl.style.display =\n",
              "          google.colab.kernel.accessAllowed ? 'block' : 'none';\n",
              "\n",
              "        async function convertToInteractive(key) {\n",
              "          const element = document.querySelector('#df-19b5e177-5e8f-4cf6-9e95-60eb5323da3a');\n",
              "          const dataTable =\n",
              "            await google.colab.kernel.invokeFunction('convertToInteractive',\n",
              "                                                     [key], {});\n",
              "          if (!dataTable) return;\n",
              "\n",
              "          const docLinkHtml = 'Like what you see? Visit the ' +\n",
              "            '<a target=\"_blank\" href=https://colab.research.google.com/notebooks/data_table.ipynb>data table notebook</a>'\n",
              "            + ' to learn more about interactive tables.';\n",
              "          element.innerHTML = '';\n",
              "          dataTable['output_type'] = 'display_data';\n",
              "          await google.colab.output.renderOutput(dataTable, element);\n",
              "          const docLink = document.createElement('div');\n",
              "          docLink.innerHTML = docLinkHtml;\n",
              "          element.appendChild(docLink);\n",
              "        }\n",
              "      </script>\n",
              "    </div>\n",
              "  </div>\n",
              "  "
            ]
          },
          "metadata": {},
          "execution_count": 134
        }
      ]
    },
    {
      "cell_type": "code",
      "source": [
        "# feature selection\n",
        "df = df1[['asin','reviewerID','reviewerName','reviewText','overall','reviewTime','summary','main_cat']]\n",
        "df.head()"
      ],
      "metadata": {
        "colab": {
          "base_uri": "https://localhost:8080/",
          "height": 250
        },
        "id": "jnv5W3HGPW9B",
        "outputId": "1007ae19-04ab-49d6-adad-646bdd8bbd99"
      },
      "execution_count": 135,
      "outputs": [
        {
          "output_type": "execute_result",
          "data": {
            "text/plain": [
              "         asin      reviewerID       reviewerName  \\\n",
              "0  B007136B7U   AJIC7H0QB0HQ8      K RAM SANTOSH   \n",
              "1  B00005141S  A24UCU88FE1FPN       Fabian Chang   \n",
              "2  B016P6ETUE  A3C5MTRFKQYHMW         Leon Blair   \n",
              "3  B00000K4KH  A253WC2BIJB7ET  Mike in San Diego   \n",
              "4  B018I846KA  A3SMSPKX6LL5U5   Michael R. Smith   \n",
              "\n",
              "                                          reviewText  overall   reviewTime  \\\n",
              "0  they are very good in technology sound is supe...      4.0   11 1, 2013   \n",
              "1  This is a pretty awesome product. It's good en...      5.0   12 8, 2015   \n",
              "2  Sent it back, worked for 10 days and then went...      1.0  08 18, 2016   \n",
              "3  Not much to say about this product. It is what...      4.0  08 17, 2010   \n",
              "4  If you encounter a lens filter that won't come...      5.0  06 12, 2018   \n",
              "\n",
              "                                             summary              main_cat  \n",
              "0                                          liking it  Home Audio & Theater  \n",
              "1  Great Product, but still needs some reconsidering       All Electronics  \n",
              "2                                           One Star             Computers  \n",
              "3          Received what I ordered on a timely basis             Computers  \n",
              "4  If you encounter a lens filter that won't come...        Camera & Photo  "
            ],
            "text/html": [
              "\n",
              "  <div id=\"df-bc35ad64-7dc0-4d0f-9ca6-b0f99f7dc06e\">\n",
              "    <div class=\"colab-df-container\">\n",
              "      <div>\n",
              "<style scoped>\n",
              "    .dataframe tbody tr th:only-of-type {\n",
              "        vertical-align: middle;\n",
              "    }\n",
              "\n",
              "    .dataframe tbody tr th {\n",
              "        vertical-align: top;\n",
              "    }\n",
              "\n",
              "    .dataframe thead th {\n",
              "        text-align: right;\n",
              "    }\n",
              "</style>\n",
              "<table border=\"1\" class=\"dataframe\">\n",
              "  <thead>\n",
              "    <tr style=\"text-align: right;\">\n",
              "      <th></th>\n",
              "      <th>asin</th>\n",
              "      <th>reviewerID</th>\n",
              "      <th>reviewerName</th>\n",
              "      <th>reviewText</th>\n",
              "      <th>overall</th>\n",
              "      <th>reviewTime</th>\n",
              "      <th>summary</th>\n",
              "      <th>main_cat</th>\n",
              "    </tr>\n",
              "  </thead>\n",
              "  <tbody>\n",
              "    <tr>\n",
              "      <th>0</th>\n",
              "      <td>B007136B7U</td>\n",
              "      <td>AJIC7H0QB0HQ8</td>\n",
              "      <td>K RAM SANTOSH</td>\n",
              "      <td>they are very good in technology sound is supe...</td>\n",
              "      <td>4.0</td>\n",
              "      <td>11 1, 2013</td>\n",
              "      <td>liking it</td>\n",
              "      <td>Home Audio &amp; Theater</td>\n",
              "    </tr>\n",
              "    <tr>\n",
              "      <th>1</th>\n",
              "      <td>B00005141S</td>\n",
              "      <td>A24UCU88FE1FPN</td>\n",
              "      <td>Fabian Chang</td>\n",
              "      <td>This is a pretty awesome product. It's good en...</td>\n",
              "      <td>5.0</td>\n",
              "      <td>12 8, 2015</td>\n",
              "      <td>Great Product, but still needs some reconsidering</td>\n",
              "      <td>All Electronics</td>\n",
              "    </tr>\n",
              "    <tr>\n",
              "      <th>2</th>\n",
              "      <td>B016P6ETUE</td>\n",
              "      <td>A3C5MTRFKQYHMW</td>\n",
              "      <td>Leon Blair</td>\n",
              "      <td>Sent it back, worked for 10 days and then went...</td>\n",
              "      <td>1.0</td>\n",
              "      <td>08 18, 2016</td>\n",
              "      <td>One Star</td>\n",
              "      <td>Computers</td>\n",
              "    </tr>\n",
              "    <tr>\n",
              "      <th>3</th>\n",
              "      <td>B00000K4KH</td>\n",
              "      <td>A253WC2BIJB7ET</td>\n",
              "      <td>Mike in San Diego</td>\n",
              "      <td>Not much to say about this product. It is what...</td>\n",
              "      <td>4.0</td>\n",
              "      <td>08 17, 2010</td>\n",
              "      <td>Received what I ordered on a timely basis</td>\n",
              "      <td>Computers</td>\n",
              "    </tr>\n",
              "    <tr>\n",
              "      <th>4</th>\n",
              "      <td>B018I846KA</td>\n",
              "      <td>A3SMSPKX6LL5U5</td>\n",
              "      <td>Michael R. Smith</td>\n",
              "      <td>If you encounter a lens filter that won't come...</td>\n",
              "      <td>5.0</td>\n",
              "      <td>06 12, 2018</td>\n",
              "      <td>If you encounter a lens filter that won't come...</td>\n",
              "      <td>Camera &amp; Photo</td>\n",
              "    </tr>\n",
              "  </tbody>\n",
              "</table>\n",
              "</div>\n",
              "      <button class=\"colab-df-convert\" onclick=\"convertToInteractive('df-bc35ad64-7dc0-4d0f-9ca6-b0f99f7dc06e')\"\n",
              "              title=\"Convert this dataframe to an interactive table.\"\n",
              "              style=\"display:none;\">\n",
              "        \n",
              "  <svg xmlns=\"http://www.w3.org/2000/svg\" height=\"24px\"viewBox=\"0 0 24 24\"\n",
              "       width=\"24px\">\n",
              "    <path d=\"M0 0h24v24H0V0z\" fill=\"none\"/>\n",
              "    <path d=\"M18.56 5.44l.94 2.06.94-2.06 2.06-.94-2.06-.94-.94-2.06-.94 2.06-2.06.94zm-11 1L8.5 8.5l.94-2.06 2.06-.94-2.06-.94L8.5 2.5l-.94 2.06-2.06.94zm10 10l.94 2.06.94-2.06 2.06-.94-2.06-.94-.94-2.06-.94 2.06-2.06.94z\"/><path d=\"M17.41 7.96l-1.37-1.37c-.4-.4-.92-.59-1.43-.59-.52 0-1.04.2-1.43.59L10.3 9.45l-7.72 7.72c-.78.78-.78 2.05 0 2.83L4 21.41c.39.39.9.59 1.41.59.51 0 1.02-.2 1.41-.59l7.78-7.78 2.81-2.81c.8-.78.8-2.07 0-2.86zM5.41 20L4 18.59l7.72-7.72 1.47 1.35L5.41 20z\"/>\n",
              "  </svg>\n",
              "      </button>\n",
              "      \n",
              "  <style>\n",
              "    .colab-df-container {\n",
              "      display:flex;\n",
              "      flex-wrap:wrap;\n",
              "      gap: 12px;\n",
              "    }\n",
              "\n",
              "    .colab-df-convert {\n",
              "      background-color: #E8F0FE;\n",
              "      border: none;\n",
              "      border-radius: 50%;\n",
              "      cursor: pointer;\n",
              "      display: none;\n",
              "      fill: #1967D2;\n",
              "      height: 32px;\n",
              "      padding: 0 0 0 0;\n",
              "      width: 32px;\n",
              "    }\n",
              "\n",
              "    .colab-df-convert:hover {\n",
              "      background-color: #E2EBFA;\n",
              "      box-shadow: 0px 1px 2px rgba(60, 64, 67, 0.3), 0px 1px 3px 1px rgba(60, 64, 67, 0.15);\n",
              "      fill: #174EA6;\n",
              "    }\n",
              "\n",
              "    [theme=dark] .colab-df-convert {\n",
              "      background-color: #3B4455;\n",
              "      fill: #D2E3FC;\n",
              "    }\n",
              "\n",
              "    [theme=dark] .colab-df-convert:hover {\n",
              "      background-color: #434B5C;\n",
              "      box-shadow: 0px 1px 3px 1px rgba(0, 0, 0, 0.15);\n",
              "      filter: drop-shadow(0px 1px 2px rgba(0, 0, 0, 0.3));\n",
              "      fill: #FFFFFF;\n",
              "    }\n",
              "  </style>\n",
              "\n",
              "      <script>\n",
              "        const buttonEl =\n",
              "          document.querySelector('#df-bc35ad64-7dc0-4d0f-9ca6-b0f99f7dc06e button.colab-df-convert');\n",
              "        buttonEl.style.display =\n",
              "          google.colab.kernel.accessAllowed ? 'block' : 'none';\n",
              "\n",
              "        async function convertToInteractive(key) {\n",
              "          const element = document.querySelector('#df-bc35ad64-7dc0-4d0f-9ca6-b0f99f7dc06e');\n",
              "          const dataTable =\n",
              "            await google.colab.kernel.invokeFunction('convertToInteractive',\n",
              "                                                     [key], {});\n",
              "          if (!dataTable) return;\n",
              "\n",
              "          const docLinkHtml = 'Like what you see? Visit the ' +\n",
              "            '<a target=\"_blank\" href=https://colab.research.google.com/notebooks/data_table.ipynb>data table notebook</a>'\n",
              "            + ' to learn more about interactive tables.';\n",
              "          element.innerHTML = '';\n",
              "          dataTable['output_type'] = 'display_data';\n",
              "          await google.colab.output.renderOutput(dataTable, element);\n",
              "          const docLink = document.createElement('div');\n",
              "          docLink.innerHTML = docLinkHtml;\n",
              "          element.appendChild(docLink);\n",
              "        }\n",
              "      </script>\n",
              "    </div>\n",
              "  </div>\n",
              "  "
            ]
          },
          "metadata": {},
          "execution_count": 135
        }
      ]
    },
    {
      "cell_type": "code",
      "source": [
        "# check datatypes\n",
        "df.dtypes"
      ],
      "metadata": {
        "colab": {
          "base_uri": "https://localhost:8080/"
        },
        "id": "FyybVg4aPW1y",
        "outputId": "e36707f8-5614-4860-c92e-751d29d4979e"
      },
      "execution_count": 136,
      "outputs": [
        {
          "output_type": "execute_result",
          "data": {
            "text/plain": [
              "asin             object\n",
              "reviewerID       object\n",
              "reviewerName     object\n",
              "reviewText       object\n",
              "overall         float64\n",
              "reviewTime       object\n",
              "summary          object\n",
              "main_cat         object\n",
              "dtype: object"
            ]
          },
          "metadata": {},
          "execution_count": 136
        }
      ]
    },
    {
      "cell_type": "code",
      "source": [
        "df[\"reviewTime\"] = pd.to_datetime(df[\"reviewTime\"])"
      ],
      "metadata": {
        "id": "0ql2koS7PWwO"
      },
      "execution_count": 137,
      "outputs": []
    },
    {
      "cell_type": "code",
      "source": [
        "df.info()"
      ],
      "metadata": {
        "colab": {
          "base_uri": "https://localhost:8080/"
        },
        "id": "QRbYHgPJPWog",
        "outputId": "e8a970a3-88c3-4476-a592-8ed7b891bb90"
      },
      "execution_count": 138,
      "outputs": [
        {
          "output_type": "stream",
          "name": "stdout",
          "text": [
            "<class 'pandas.core.frame.DataFrame'>\n",
            "RangeIndex: 209836 entries, 0 to 209835\n",
            "Data columns (total 8 columns):\n",
            " #   Column        Non-Null Count   Dtype         \n",
            "---  ------        --------------   -----         \n",
            " 0   asin          209836 non-null  object        \n",
            " 1   reviewerID    209836 non-null  object        \n",
            " 2   reviewerName  209822 non-null  object        \n",
            " 3   reviewText    209836 non-null  object        \n",
            " 4   overall       209836 non-null  float64       \n",
            " 5   reviewTime    209836 non-null  datetime64[ns]\n",
            " 6   summary       209834 non-null  object        \n",
            " 7   main_cat      209559 non-null  object        \n",
            "dtypes: datetime64[ns](1), float64(1), object(6)\n",
            "memory usage: 12.8+ MB\n"
          ]
        }
      ]
    },
    {
      "cell_type": "markdown",
      "source": [
        "## Data Exploration"
      ],
      "metadata": {
        "id": "5LaYmmM7RsDp"
      }
    },
    {
      "cell_type": "code",
      "source": [
        "# Checking description\n",
        "df.describe()"
      ],
      "metadata": {
        "colab": {
          "base_uri": "https://localhost:8080/",
          "height": 300
        },
        "id": "WwaLVeXLPWhh",
        "outputId": "2fffd14a-96a1-416a-c457-eb738c7792fe"
      },
      "execution_count": 139,
      "outputs": [
        {
          "output_type": "execute_result",
          "data": {
            "text/plain": [
              "             overall\n",
              "count  209836.000000\n",
              "mean        4.229851\n",
              "std         1.288201\n",
              "min         1.000000\n",
              "25%         4.000000\n",
              "50%         5.000000\n",
              "75%         5.000000\n",
              "max         5.000000"
            ],
            "text/html": [
              "\n",
              "  <div id=\"df-831da6a9-f59a-4e30-b9ba-ac94978ab6d4\">\n",
              "    <div class=\"colab-df-container\">\n",
              "      <div>\n",
              "<style scoped>\n",
              "    .dataframe tbody tr th:only-of-type {\n",
              "        vertical-align: middle;\n",
              "    }\n",
              "\n",
              "    .dataframe tbody tr th {\n",
              "        vertical-align: top;\n",
              "    }\n",
              "\n",
              "    .dataframe thead th {\n",
              "        text-align: right;\n",
              "    }\n",
              "</style>\n",
              "<table border=\"1\" class=\"dataframe\">\n",
              "  <thead>\n",
              "    <tr style=\"text-align: right;\">\n",
              "      <th></th>\n",
              "      <th>overall</th>\n",
              "    </tr>\n",
              "  </thead>\n",
              "  <tbody>\n",
              "    <tr>\n",
              "      <th>count</th>\n",
              "      <td>209836.000000</td>\n",
              "    </tr>\n",
              "    <tr>\n",
              "      <th>mean</th>\n",
              "      <td>4.229851</td>\n",
              "    </tr>\n",
              "    <tr>\n",
              "      <th>std</th>\n",
              "      <td>1.288201</td>\n",
              "    </tr>\n",
              "    <tr>\n",
              "      <th>min</th>\n",
              "      <td>1.000000</td>\n",
              "    </tr>\n",
              "    <tr>\n",
              "      <th>25%</th>\n",
              "      <td>4.000000</td>\n",
              "    </tr>\n",
              "    <tr>\n",
              "      <th>50%</th>\n",
              "      <td>5.000000</td>\n",
              "    </tr>\n",
              "    <tr>\n",
              "      <th>75%</th>\n",
              "      <td>5.000000</td>\n",
              "    </tr>\n",
              "    <tr>\n",
              "      <th>max</th>\n",
              "      <td>5.000000</td>\n",
              "    </tr>\n",
              "  </tbody>\n",
              "</table>\n",
              "</div>\n",
              "      <button class=\"colab-df-convert\" onclick=\"convertToInteractive('df-831da6a9-f59a-4e30-b9ba-ac94978ab6d4')\"\n",
              "              title=\"Convert this dataframe to an interactive table.\"\n",
              "              style=\"display:none;\">\n",
              "        \n",
              "  <svg xmlns=\"http://www.w3.org/2000/svg\" height=\"24px\"viewBox=\"0 0 24 24\"\n",
              "       width=\"24px\">\n",
              "    <path d=\"M0 0h24v24H0V0z\" fill=\"none\"/>\n",
              "    <path d=\"M18.56 5.44l.94 2.06.94-2.06 2.06-.94-2.06-.94-.94-2.06-.94 2.06-2.06.94zm-11 1L8.5 8.5l.94-2.06 2.06-.94-2.06-.94L8.5 2.5l-.94 2.06-2.06.94zm10 10l.94 2.06.94-2.06 2.06-.94-2.06-.94-.94-2.06-.94 2.06-2.06.94z\"/><path d=\"M17.41 7.96l-1.37-1.37c-.4-.4-.92-.59-1.43-.59-.52 0-1.04.2-1.43.59L10.3 9.45l-7.72 7.72c-.78.78-.78 2.05 0 2.83L4 21.41c.39.39.9.59 1.41.59.51 0 1.02-.2 1.41-.59l7.78-7.78 2.81-2.81c.8-.78.8-2.07 0-2.86zM5.41 20L4 18.59l7.72-7.72 1.47 1.35L5.41 20z\"/>\n",
              "  </svg>\n",
              "      </button>\n",
              "      \n",
              "  <style>\n",
              "    .colab-df-container {\n",
              "      display:flex;\n",
              "      flex-wrap:wrap;\n",
              "      gap: 12px;\n",
              "    }\n",
              "\n",
              "    .colab-df-convert {\n",
              "      background-color: #E8F0FE;\n",
              "      border: none;\n",
              "      border-radius: 50%;\n",
              "      cursor: pointer;\n",
              "      display: none;\n",
              "      fill: #1967D2;\n",
              "      height: 32px;\n",
              "      padding: 0 0 0 0;\n",
              "      width: 32px;\n",
              "    }\n",
              "\n",
              "    .colab-df-convert:hover {\n",
              "      background-color: #E2EBFA;\n",
              "      box-shadow: 0px 1px 2px rgba(60, 64, 67, 0.3), 0px 1px 3px 1px rgba(60, 64, 67, 0.15);\n",
              "      fill: #174EA6;\n",
              "    }\n",
              "\n",
              "    [theme=dark] .colab-df-convert {\n",
              "      background-color: #3B4455;\n",
              "      fill: #D2E3FC;\n",
              "    }\n",
              "\n",
              "    [theme=dark] .colab-df-convert:hover {\n",
              "      background-color: #434B5C;\n",
              "      box-shadow: 0px 1px 3px 1px rgba(0, 0, 0, 0.15);\n",
              "      filter: drop-shadow(0px 1px 2px rgba(0, 0, 0, 0.3));\n",
              "      fill: #FFFFFF;\n",
              "    }\n",
              "  </style>\n",
              "\n",
              "      <script>\n",
              "        const buttonEl =\n",
              "          document.querySelector('#df-831da6a9-f59a-4e30-b9ba-ac94978ab6d4 button.colab-df-convert');\n",
              "        buttonEl.style.display =\n",
              "          google.colab.kernel.accessAllowed ? 'block' : 'none';\n",
              "\n",
              "        async function convertToInteractive(key) {\n",
              "          const element = document.querySelector('#df-831da6a9-f59a-4e30-b9ba-ac94978ab6d4');\n",
              "          const dataTable =\n",
              "            await google.colab.kernel.invokeFunction('convertToInteractive',\n",
              "                                                     [key], {});\n",
              "          if (!dataTable) return;\n",
              "\n",
              "          const docLinkHtml = 'Like what you see? Visit the ' +\n",
              "            '<a target=\"_blank\" href=https://colab.research.google.com/notebooks/data_table.ipynb>data table notebook</a>'\n",
              "            + ' to learn more about interactive tables.';\n",
              "          element.innerHTML = '';\n",
              "          dataTable['output_type'] = 'display_data';\n",
              "          await google.colab.output.renderOutput(dataTable, element);\n",
              "          const docLink = document.createElement('div');\n",
              "          docLink.innerHTML = docLinkHtml;\n",
              "          element.appendChild(docLink);\n",
              "        }\n",
              "      </script>\n",
              "    </div>\n",
              "  </div>\n",
              "  "
            ]
          },
          "metadata": {},
          "execution_count": 139
        }
      ]
    },
    {
      "cell_type": "markdown",
      "source": [
        "# **Dataset Details**\n",
        "### **This file has reviewer ID , Reviewer Name, Reviewer text, Summary(obtained from Reviewer text),Overall Rating on a scale 5, Review time**\n",
        "### Description of columns in the file:\n",
        "- reviewerID - ID of the reviewer, e.g. A236WRQL1MB9HM\n",
        "\n",
        "- asin - ID of the product, e.g. 7391002801\n",
        "\n",
        "- reviewerName - name of the reviewer\n",
        "\n",
        "- reviewText - text of the review\n",
        "\n",
        "- overall - rating of the product\n",
        "\n",
        "- summary - summary of the review\n",
        "\n",
        "- reviewTime - time of the review (raw)"
      ],
      "metadata": {
        "id": "vGGNuQBcSDcp"
      }
    },
    {
      "cell_type": "markdown",
      "source": [
        "## Data Preprocessing"
      ],
      "metadata": {
        "id": "CfzxQ3l9T_92"
      }
    },
    {
      "cell_type": "code",
      "source": [
        "# Removing the duplicates\n",
        "df.drop_duplicates([\"reviewText\",\"asin\",\"reviewerName\"], keep = \"first\", inplace = True)"
      ],
      "metadata": {
        "id": "J6ya726wSCyO"
      },
      "execution_count": 140,
      "outputs": []
    },
    {
      "cell_type": "code",
      "source": [
        "# Checking null values\n",
        "(df.isnull().sum()*100)/df.shape[0]"
      ],
      "metadata": {
        "colab": {
          "base_uri": "https://localhost:8080/"
        },
        "id": "ytC6NY78UDbg",
        "outputId": "c65bb665-8820-4992-c183-d23b6c200efd"
      },
      "execution_count": 141,
      "outputs": [
        {
          "output_type": "execute_result",
          "data": {
            "text/plain": [
              "asin            0.000000\n",
              "reviewerID      0.000000\n",
              "reviewerName    0.006693\n",
              "reviewText      0.000000\n",
              "overall         0.000000\n",
              "reviewTime      0.000000\n",
              "summary         0.000956\n",
              "main_cat        0.132426\n",
              "dtype: float64"
            ]
          },
          "metadata": {},
          "execution_count": 141
        }
      ]
    },
    {
      "cell_type": "code",
      "source": [
        "# Dropping null values since it is very less\n",
        "df.dropna(inplace = True)"
      ],
      "metadata": {
        "id": "8jvY9FgHUDrF"
      },
      "execution_count": 142,
      "outputs": []
    },
    {
      "cell_type": "code",
      "source": [
        "df.isnull().sum()"
      ],
      "metadata": {
        "colab": {
          "base_uri": "https://localhost:8080/"
        },
        "id": "XTvGdVe3U1-r",
        "outputId": "f6e3bac3-f827-4f1e-80cb-4fa507033ba0"
      },
      "execution_count": 143,
      "outputs": [
        {
          "output_type": "execute_result",
          "data": {
            "text/plain": [
              "asin            0\n",
              "reviewerID      0\n",
              "reviewerName    0\n",
              "reviewText      0\n",
              "overall         0\n",
              "reviewTime      0\n",
              "summary         0\n",
              "main_cat        0\n",
              "dtype: int64"
            ]
          },
          "metadata": {},
          "execution_count": 143
        }
      ]
    },
    {
      "cell_type": "markdown",
      "source": [
        "## Exploratory Data Analysis"
      ],
      "metadata": {
        "id": "XAdSPhjPVQwv"
      }
    },
    {
      "cell_type": "code",
      "execution_count": 20,
      "metadata": {
        "id": "_sQIfLuAbPRg",
        "colab": {
          "base_uri": "https://localhost:8080/",
          "height": 1000
        },
        "outputId": "0b8dd3a4-c5e3-4ec2-f348-174f88b4cd19"
      },
      "outputs": [
        {
          "output_type": "display_data",
          "data": {
            "text/plain": [
              "<Figure size 1440x504 with 1 Axes>"
            ],
            "image/png": "[encoded data removed]"
          },
          "metadata": {
            "needs_background": "light"
          }
        },
        {
          "output_type": "display_data",
          "data": {
            "text/plain": [
              "<Figure size 1440x504 with 1 Axes>"
            ],
            "image/png": "[encoded data removed]"
          },
          "metadata": {
            "needs_background": "light"
          }
        },
        {
          "output_type": "display_data",
          "data": {
            "text/plain": [
              "<Figure size 1440x504 with 1 Axes>"
            ],
            "image/png": "[encoded data removed]"
          },
          "metadata": {
            "needs_background": "light"
          }
        },
        {
          "output_type": "display_data",
          "data": {
            "text/plain": [
              "<Figure size 1440x504 with 1 Axes>"
            ],
            "image/png": "[encoded data removed]"
          },
          "metadata": {
            "needs_background": "light"
          }
        },
        {
          "output_type": "display_data",
          "data": {
            "text/plain": [
              "<Figure size 1440x504 with 1 Axes>"
            ],
            "image/png": "[encoded data removed]"
          },
          "metadata": {
            "needs_background": "light"
          }
        },
        {
          "output_type": "display_data",
          "data": {
            "text/plain": [
              "<Figure size 1440x504 with 1 Axes>"
            ],
            "image/png": "[encoded data removed]"
          },
          "metadata": {
            "needs_background": "light"
          }
        }
      ],
      "source": [
        "\n",
        "def word_eda():\n",
        "\n",
        "  plt.figure(figsize=(20,7))\n",
        "  n,bins,patches=plt.hist(df['reviewText'].str.len(),range=(0,2000),edgecolor = 'white');\n",
        "  plt.xticks(bins)\n",
        "  plt.title('Distribution of No of sentences in each review')\n",
        "  plt.show()\n",
        "\n",
        "  plt.figure(figsize=(20,7))\n",
        "  n,bins,patches = plt.hist(df['reviewText'].str.split().apply(lambda x : [len(i) for i in x]).map(lambda x: np.mean(x)),edgecolor='white',range=(0,10))\n",
        "  plt.xticks(bins)\n",
        "  plt.title('Distribution of Average word length of Each Review')\n",
        "  plt.show()\n",
        "\n",
        "  plt.figure(figsize=(20,7))\n",
        "  n,bins,patches=plt.hist(df['reviewText'].str.split().map(lambda x: len(x)),range=(0,600),edgecolor = 'white');\n",
        "  plt.xticks(bins)\n",
        "  plt.title('Distribution of No of Words in each review')\n",
        "  plt.show()\n",
        "\n",
        "  new= df['reviewText'].str.split()\n",
        "  new=new.values.tolist()\n",
        "  corpus=[word for i in new for word in i]\n",
        "  from collections import defaultdict\n",
        "  dic=defaultdict(int)\n",
        "  for word in corpus:\n",
        "    if word in stop:\n",
        "      dic[word]+=1\n",
        "            \n",
        "  top=sorted(dic.items(), key=lambda x:x[1],reverse=True)[:10] \n",
        "  x,y=zip(*top)\n",
        "  plt.figure(figsize=(20,7))\n",
        "  plt.bar(x,y)\n",
        "  plt.title('Top 10 Stopwords from the review text')\n",
        "\n",
        "  new= df['reviewText'].str.split()\n",
        "  new=new.values.tolist()\n",
        "  corpus=[word for i in new for word in i]\n",
        "\n",
        "  counter=Counter(corpus)\n",
        "  most=counter.most_common()\n",
        "  x, y=[], []\n",
        "  for word,count in most[:40]:\n",
        "    if (word not in stop):\n",
        "      x.append(word)\n",
        "      y.append(count)\n",
        "    \n",
        "  plt.figure(figsize=(20,7))\n",
        "  sns.barplot(x=y,y=x)\n",
        "  plt.title('Most Common Words used in Review')\n",
        "  plt.show()\n",
        "\n",
        "  new= df['reviewText'].str.split()\n",
        "  new=new.values.tolist()\n",
        "  corpus=[word for i in new for word in i]\n",
        "\n",
        "  def get_top_ngram(corpus, n=None):\n",
        "    vec = CountVectorizer(ngram_range=(n, n)).fit(corpus)\n",
        "    bag_of_words = vec.transform(corpus)\n",
        "    sum_words = bag_of_words.sum(axis=0) \n",
        "    words_freq = [(word, sum_words[0, idx]) for word, idx in vec.vocabulary_.items()]\n",
        "    words_freq =sorted(words_freq, key = lambda x: x[1], reverse=True)\n",
        "    return words_freq[:10]\n",
        "\n",
        "  top_n_bigrams= get_top_ngram(df['reviewText'],2)[:10]\n",
        "  x,y=map(list,zip(*top_n_bigrams))\n",
        "    \n",
        "  plt.figure(figsize=(20,7))\n",
        "  sns.barplot(x=y,y=x)\n",
        "  plt.title('Top 10 N-Grams')\n",
        "  plt.show()\n",
        "\n",
        "  \n",
        "word_eda()"
      ]
    },
    {
      "cell_type": "code",
      "execution_count": 21,
      "metadata": {
        "id": "yqA-IKrQlmHE"
      },
      "outputs": [],
      "source": [
        "def get_lda_objects(text):\n",
        "    def _preprocess_text(text):\n",
        "        corpus=[]\n",
        "        stem=PorterStemmer()\n",
        "        lem=WordNetLemmatizer()\n",
        "        for news in text:\n",
        "            words=[w for w in word_tokenize(news) if (w not in stop)]\n",
        "\n",
        "            words=[lem.lemmatize(w) for w in words if len(w)>2]\n",
        "\n",
        "            corpus.append(words)\n",
        "        return corpus\n",
        "    \n",
        "    corpus=_preprocess_text(text)\n",
        "    \n",
        "    dic=gensim.corpora.Dictionary(corpus)\n",
        "    bow_corpus = [dic.doc2bow(doc) for doc in corpus]\n",
        "    \n",
        "    lda_model =  gensim.models.LdaMulticore(bow_corpus, num_topics = 4, id2word = dic, passes = 10, workers = 2)\n",
        "    \n",
        "    return lda_model, bow_corpus, dic"
      ]
    },
    {
      "cell_type": "code",
      "execution_count": 22,
      "metadata": {
        "id": "CKTjpB_Gm5Kw"
      },
      "outputs": [],
      "source": [
        "lda_model, bow_corpus, dic = get_lda_objects(df['reviewText'])"
      ]
    },
    {
      "cell_type": "code",
      "execution_count": 23,
      "metadata": {
        "colab": {
          "base_uri": "https://localhost:8080/",
          "height": 862
        },
        "id": "b66pTOpBm5DZ",
        "outputId": "04841e4e-3f07-4ba5-f70d-ad81be92dec6"
      },
      "outputs": [
        {
          "output_type": "execute_result",
          "data": {
            "text/plain": [
              "PreparedData(topic_coordinates=              x         y  topics  cluster       Freq\n",
              "topic                                                \n",
              "0      0.037800  0.064643       1        1  36.276130\n",
              "2      0.136637 -0.156800       2        1  24.902079\n",
              "3      0.105743  0.116090       3        1  24.677294\n",
              "1     -0.280180 -0.023933       4        1  14.144496, topic_info=           Term          Freq         Total Category  logprob  loglift\n",
              "343       great  43264.000000  43264.000000  Default  30.0000  30.0000\n",
              "405      camera  19802.000000  19802.000000  Default  29.0000  29.0000\n",
              "382       Great  15918.000000  15918.000000  Default  28.0000  28.0000\n",
              "64        cable  21265.000000  21265.000000  Default  27.0000  27.0000\n",
              "325       price  22058.000000  22058.000000  Default  26.0000  26.0000\n",
              "...         ...           ...           ...      ...      ...      ...\n",
              "459   perfectly   3616.841849   7857.217457   Topic4  -5.2006   1.1800\n",
              "38         This   4441.644625  28429.662138   Topic4  -4.9951   0.0994\n",
              "394        nice   3376.982429  11889.703835   Topic4  -5.2692   0.6972\n",
              "1081     needed   3027.487713   7367.780086   Topic4  -5.3784   1.0665\n",
              "239         buy   2982.114031  11440.523880   Topic4  -5.3935   0.6113\n",
              "\n",
              "[296 rows x 6 columns], token_table=      Topic      Freq   Term\n",
              "term                        \n",
              "10        1  0.537690    've\n",
              "10        2  0.360058    've\n",
              "10        3  0.098766    've\n",
              "10        4  0.003493    've\n",
              "0         1  0.359144    ...\n",
              "...     ...       ...    ...\n",
              "284       4  0.076622  would\n",
              "202       1  0.442181   year\n",
              "202       2  0.553840   year\n",
              "202       3  0.003971   year\n",
              "1732      4  0.999326   zoom\n",
              "\n",
              "[469 rows x 3 columns], R=30, lambda_step=0.01, plot_opts={'xlab': 'PC1', 'ylab': 'PC2'}, topic_order=[1, 3, 4, 2])"
            ],
            "text/html": [
              "\n",
              "<link rel=\"stylesheet\" type=\"text/css\" href=\"https://cdn.rawgit.com/bmabey/pyLDAvis/files/ldavis.v1.0.0.css\">\n",
              "\n",
              "\n",
              "<div id=\"ldavis_el30761405721278119524622853747\"></div>\n",
              "<script type=\"text/javascript\">\n",
              "\n",
              "var ldavis_el30761405721278119524622853747_data = {\"mdsDat\": {\"x\": [0.03779984986828857, 0.1366371202167973, 0.10574263697131611, -0.28017960705640155], \"y\": [0.06464317471992391, -0.15680007193306275, 0.11608994278338196, -0.023933045570243186], \"topics\": [1, 2, 3, 4], \"cluster\": [1, 1, 1, 1], \"Freq\": [36.27613025765778, 24.902079493153227, 24.677294340014626, 14.144495909174346]}, \"tinfo\": {\"Term\": [\"great\", \"camera\", \"Great\", \"cable\", \"price\", \"Works\", \"product\", \"good\", \"lens\", \"sound\", \"case\", \"quality\", \"drive\", \"work\", \"Good\", \"love\", \"Very\", \"well\", \"card\", \"headphone\", \"picture\", \"fit\", \"monitor\", \"easy\", \"n't\", \"power\", \"working\", \"keyboard\", \"expected\", \"fast\", \"sound\", \"headphone\", \"keyboard\", \"cover\", \"iPad\", \"ear\", \"volume\", \"bass\", \"comfortable\", \"strap\", \"pair\", \"material\", \"headset\", \"wear\", \"key\", \"pad\", \"mic\", \"fall\", \"listen\", \"pocket\", \"listening\", \"ipad\", \"earbuds\", \"backpack\", \"stylus\", \"pen\", \"Bose\", \"Kindle\", \"rubber\", \"bud\", \"case\", \"feel\", \"bag\", \"music\", \"hold\", \"fit\", \"plastic\", \"hand\", \"mouse\", \"speaker\", \"They\", \"like\", \"really\", \"These\", \"The\", \"n't\", \"little\", \"look\", \"love\", \"one\", \"much\", \"would\", \"quality\", \"good\", \"use\", \"well\", \"get\", \"great\", \"This\", \"nice\", \"better\", \"'ve\", \"price\", \"work\", \"drive\", \"file\", \"Windows\", \"customer\", \"data\", \"stopped\", \"backup\", \"transfer\", \"SSD\", \"3.0\", \"THE\", \"failed\", \"disk\", \"download\", \"email\", \"disc\", \"defective\", \"error\", \"boot\", \"RAM\", \"died\", \"refund\", \"reader\", \"2.0\", \"THIS\", \"contacted\", \"printer\", \"Seagate\", \"repair\", \"recognized\", \"card\", \"sent\", \"apps\", \"return\", \"working\", \"warranty\", \"AND\", \"software\", \"memory\", \"machine\", \"update\", \"driver\", \"USB\", \"faster\", \"battery\", \"month\", \"Amazon\", \"charge\", \"support\", \"computer\", \"replacement\", \"worked\", \"service\", \"day\", \"problem\", \"new\", \"time\", \"year\", \"n't\", \"one\", \"work\", \"issue\", \"speed\", \"week\", \"would\", \"hard\", \"first\", \"product\", \"bought\", \"get\", \"back\", \"use\", \"...\", \"The\", \"This\", \"got\", \"'ve\", \"using\", \"monitor\", \"fan\", \"signal\", \"remote\", \"wall\", \"mount\", \"channel\", \"HDMI\", \"antenna\", \"outlet\", \"input\", \"screw\", \"receiver\", \"station\", \"output\", \"extension\", \"surge\", \"cable\", \"reception\", \"mounting\", \"strip\", \"projector\", \"mounted\", \"LED\", \"panel\", \"cooler\", \"plate\", \"location\", \"component\", \"alarm\", \"switch\", \"radio\", \"connector\", \"router\", \"class=\", \"nbsp\", \"power\", \"plug\", \"house\", \"setup\", \"network\", \"connection\", \"system\", \"wire\", \"setting\", \"audio\", \"unit\", \"connect\", \"device\", \"The\", \"need\", \"This\", \"set\", \"get\", \"adapter\", \"n't\", \"work\", \"one\", \"use\", \"would\", \"easy\", \"well\", \"great\", \"using\", \"make\", \"like\", \"good\", \"camera\", \"Great\", \"Works\", \"lens\", \"Good\", \"Excellent\", \"Perfect\", \"Canon\", \"described\", \"tripod\", \"Nikon\", \"focus\", \"Awesome\", \"zoom\", \"shot\", \"shoot\", \"delivery\", \"Fast\", \"shooting\", \"Exactly\", \"photography\", \"Arrived\", \"photographer\", \"DSLR\", \"GoPro\", \"shutter\", \"Work\", \"Item\", \"hood\", \"ISO\", \"filter\", \"Easy\", \"photo\", \"Very\", \"picture\", \"great\", \"price\", \"expected\", \"image\", \"product\", \"advertised\", \"Love\", \"good\", \"quality\", \"fast\", \"well\", \"work\", \"easy\", \"love\", \"recommend\", \"perfect\", \"use\", \"perfectly\", \"This\", \"nice\", \"needed\", \"buy\"], \"Freq\": [43264.0, 19802.0, 15918.0, 21265.0, 22058.0, 11900.0, 27280.0, 32743.0, 11059.0, 20732.0, 22063.0, 23174.0, 13274.0, 43387.0, 6912.0, 13965.0, 9222.0, 25598.0, 8493.0, 11086.0, 8189.0, 15064.0, 7042.0, 13341.0, 57451.0, 8366.0, 7350.0, 7629.0, 5951.0, 6043.0, 20732.16214459318, 11085.277767291, 7628.682691691738, 7097.540781286951, 5913.642705175782, 5555.20699838919, 3835.4326198151284, 3468.7432608140507, 3158.165222348385, 2469.992779928014, 3946.704935291632, 1985.7591915630994, 1834.3074155044499, 1667.620071225389, 3615.99123674267, 1626.9648602581221, 1646.1462774940298, 1554.1138442554754, 1528.5152809747344, 2619.543317210062, 1429.9790324672151, 1341.5034650144946, 1280.1802392719767, 1269.9221286625454, 1262.5341893761104, 1211.2417756337472, 1204.7585259433897, 1168.4539141648804, 1163.683287515896, 1129.7406814061237, 21754.66391014437, 6757.550635747422, 5595.759577326072, 4634.7234296664265, 5042.900415911742, 12640.08016670452, 3264.439514635301, 3083.147084017139, 4703.442233338862, 8308.520394759114, 7054.848990449579, 16671.556417016352, 10175.469888354728, 4645.193071941535, 27656.596378998376, 28650.322003511308, 8777.438307078375, 7008.183538099927, 8775.373131260874, 15399.688588754881, 7840.205739412341, 11662.586072004564, 10679.28347445523, 13115.840736683136, 12924.745380262057, 10088.991826172758, 9316.13738210214, 12258.99960338186, 9930.191870946315, 6758.590274711696, 6715.967427528323, 6619.629639373948, 7338.8059646524025, 7273.402723976807, 13273.748336693221, 2983.6598816857004, 2528.6745238297526, 2343.8112352004855, 2095.163253612929, 2037.6277411962187, 1718.561623151591, 1660.0354706128824, 1460.0421977859253, 1363.5924644314007, 1185.8856364120138, 1212.9639397901615, 1172.7661084771141, 1079.9281511265579, 1009.6113240250683, 1003.699953378511, 1002.1498597348469, 1003.3091695138819, 948.3190966723168, 933.0223251413834, 923.9799777683098, 857.2865567427963, 781.6527027324386, 719.1193517414996, 696.4751309615303, 692.2874983285558, 659.4435027202712, 577.843354544106, 563.0236176430382, 535.9736835734873, 8458.074067677826, 1463.0755625785964, 944.127161584958, 3829.7472168918653, 6754.838324850112, 1747.9496722756408, 969.5479444115322, 3135.1092339524553, 2760.397187676047, 1348.5310506004616, 1896.5524131603454, 1864.3403405397632, 5987.551517307042, 1488.0058656053538, 7558.513140348882, 6233.274367720033, 4246.628694202952, 3092.051614990806, 2711.025448001955, 6887.627663548512, 2689.107400851045, 5491.717313009013, 2643.8528411193834, 5330.0369931196565, 7094.557434004949, 5734.79576739602, 9431.734015641357, 5718.570136299014, 18492.70187348356, 13404.484866843484, 14796.258945299222, 5411.36252369957, 3422.3669033784336, 3245.9197533317665, 7766.825074276294, 3828.6299232689275, 4267.941977609461, 7355.648651478864, 5311.931189456686, 6460.073410330229, 4741.514476212628, 7211.4083304364985, 5019.039993821191, 7951.034658742537, 5948.162009611456, 4363.60920207283, 4432.915826330042, 4419.391329876215, 7041.978751961606, 4599.52409663614, 3494.519508325866, 3320.7595219941923, 3158.034043325866, 3107.6308937448775, 2870.4146939238517, 3207.101614834245, 2729.334267151749, 2103.8742886858367, 2038.2307063598894, 2048.0772636944866, 1972.2665533193867, 1695.6610596851438, 1329.7122680759649, 1310.8676132198564, 1230.5898312126346, 21251.980503821113, 1146.3330284990664, 1099.6966514331166, 1076.522426598012, 1068.87482980914, 1018.1277928573006, 1058.805098764285, 941.9633354966879, 876.4463959239343, 871.3145331113172, 802.1769831489888, 755.6371370401026, 710.8603632422506, 4144.014162863206, 3815.7689374360943, 2226.536022602842, 3881.742550377151, 1290.3281705461504, 1121.966589718061, 7280.714131868815, 5371.269712225576, 2490.8149993388915, 2798.7987166353414, 1680.45820006633, 3526.662918028675, 4410.068936142727, 3279.793089549143, 2727.8817060835536, 2752.735396362118, 3936.8183578797702, 2648.1486011673965, 5387.427755324292, 15449.037675410607, 5704.328561416381, 8109.663632871457, 4241.637671821823, 6886.542726241452, 3150.761378370227, 10249.195217982862, 8794.493813977486, 7536.8887718286705, 6299.274231645345, 5239.244675330454, 4089.1371465102616, 4453.754223949874, 4549.6541656751215, 3799.1730741511656, 3752.9807794591193, 3609.380554950664, 3587.4996717307654, 19801.786730449214, 15918.055658503965, 11900.1983035131, 11058.807834616739, 6911.263995514793, 3544.535809737243, 3006.612654529169, 2832.4985498289698, 2726.854917991294, 2341.930551544756, 1788.2015716104302, 1719.5985218428848, 1596.0878609779534, 1605.3076071966632, 2353.4250303055073, 1495.09969465303, 1319.3349463899594, 1153.3058181897363, 1067.9456127593849, 1015.8662580563438, 910.6531956832495, 854.742475341933, 716.4901179734317, 707.7215608992321, 632.8293178305231, 555.6121676652799, 525.5136590581982, 650.2817767374378, 453.3310328550602, 451.7408355020535, 2772.509638643715, 2713.7270551034635, 3345.579114659152, 6843.622281047026, 6114.292288382099, 24578.137942442438, 13362.429922883315, 4357.256064707498, 2391.44283246588, 14109.83497423522, 2803.9596909009265, 3434.81742366895, 14242.398438280625, 10504.660809764158, 3753.701842932244, 9151.061606652667, 12523.180234978645, 5776.188189088239, 5189.629471201928, 4348.641315171728, 3757.0678911267987, 5953.754486423583, 3616.8418485432126, 4441.644624998106, 3376.9824289751923, 3027.4877130120726, 2982.1140309601587], \"Total\": [43264.0, 19802.0, 15918.0, 21265.0, 22058.0, 11900.0, 27280.0, 32743.0, 11059.0, 20732.0, 22063.0, 23174.0, 13274.0, 43387.0, 6912.0, 13965.0, 9222.0, 25598.0, 8493.0, 11086.0, 8189.0, 15064.0, 7042.0, 13341.0, 57451.0, 8366.0, 7350.0, 7629.0, 5951.0, 6043.0, 20732.925058238907, 11086.014826459288, 7629.433762141003, 7098.292423536622, 5914.387772374369, 5555.94048066237, 3836.186517772731, 3469.4800792830547, 3158.9063277091946, 2470.808904643106, 3948.19598125821, 1986.5146331659384, 1835.0620663712855, 1668.3605185208517, 3617.615450755739, 1627.7137330335604, 1646.9067551540154, 1554.8708850142252, 1529.2633905208895, 2620.886178473061, 1430.7221158751947, 1342.2456505418932, 1280.9108928578407, 1270.6591566924446, 1263.2715701431655, 1211.9868142238176, 1205.504322641144, 1169.1945081433923, 1164.4297562732995, 1130.4694929269656, 22063.58476323766, 6870.339537479842, 5805.606115814155, 4925.858657010049, 5541.797059615913, 15064.723598342282, 3546.1441369924137, 3349.68381552771, 5478.495959476702, 10608.978652617508, 9019.427117931527, 26447.8085679822, 15301.854346579546, 5902.045222941744, 53652.224229846215, 57451.59003149168, 13271.431279782615, 10250.77019240064, 13965.527910295106, 36387.12015828354, 13961.477169432366, 26715.681725219434, 23174.154763996034, 32743.642972309943, 32389.182428767483, 25598.17063806365, 23097.41904448869, 43264.69916968176, 28429.66213842733, 11889.70383498699, 12390.84302940741, 12311.920206046365, 22058.78312880409, 43387.33571823216, 13274.491506127082, 2984.407577921144, 2529.4181423169016, 2344.566862138111, 2095.9061170222335, 2038.3952061582163, 1719.310710012216, 1660.7853120372044, 1460.7825939537336, 1364.3370231370698, 1186.6201701780458, 1213.7173420193467, 1173.505298172152, 1080.686504644762, 1010.3594759333691, 1004.4442690526221, 1002.8983002299353, 1004.066436047653, 949.0678894192154, 933.7628638446251, 924.7275421584917, 858.0292578969697, 782.4037731088293, 719.8749163368184, 697.2134278712285, 693.0322075943985, 660.207979652897, 578.5762132192424, 563.7882145642616, 536.7106718142575, 8493.029799226977, 1465.2718009391126, 948.6821991783843, 3951.9219977734183, 7350.2938067733985, 1802.3558388292013, 981.285683520173, 3338.6436884233676, 2962.4574761292133, 1397.12573859056, 2034.4414822789429, 2035.9897616234614, 7840.723742134036, 1608.4933713730898, 10912.998099074674, 8845.375184309925, 5793.957658746345, 3942.4177937985687, 3376.3195647602574, 10860.216818149767, 3361.516364502276, 8512.733852713727, 3359.0924427513864, 8529.56162429421, 13045.208745898572, 9862.045713522859, 20530.836806543983, 10326.082310133574, 57451.59003149168, 36387.12015828354, 43387.33571823216, 10547.64879810452, 5154.777468812795, 4762.181219714862, 26715.681725219434, 6867.1504704264535, 8683.16705641829, 27280.6396816341, 14557.825286993124, 23097.41904448869, 11365.229043377356, 32389.182428767483, 13273.226769123954, 53652.224229846215, 28429.66213842733, 10224.71814532882, 12311.920206046365, 12653.75149857575, 7042.730510026089, 4600.270759540059, 3495.2558747778253, 3321.512911032973, 3158.7736077378195, 3108.3845318884905, 2871.146752959392, 3207.921158590885, 2730.061979513048, 2104.6125688957773, 2038.9694977839679, 2048.823881874497, 1973.0128678913816, 1696.3962682289678, 1330.4531574989767, 1311.6242158709254, 1231.325131294712, 21265.67344999566, 1147.0736115988784, 1100.4371309980531, 1077.2673220479498, 1069.6157730490502, 1018.8738390746278, 1059.6127857535387, 942.7039069592498, 877.1852853769335, 872.0625238234131, 802.9362721687788, 756.3898469590572, 711.5996605852863, 4152.522935688846, 3824.230515085608, 2236.7079051443284, 4047.7595200257656, 1303.04884929682, 1132.9655739308, 8366.14689185129, 6418.843408099595, 2838.5913344903943, 3293.1995802410506, 1811.4996380833757, 4380.751138299739, 5866.058527785597, 4103.152050829292, 3563.3385022809603, 3692.3722793211373, 6227.392690846566, 3558.1193927079053, 10282.854324086382, 53652.224229846215, 13873.049300230732, 28429.66213842733, 8750.737083702525, 23097.41904448869, 4835.223439027825, 57451.59003149168, 43387.33571823216, 36387.12015828354, 32389.182428767483, 26715.681725219434, 13341.243456968707, 25598.17063806365, 43264.69916968176, 12653.75149857575, 11537.2095450848, 26447.8085679822, 32743.642972309943, 19802.55527057873, 15918.820677321586, 11900.958745937733, 11059.55287492948, 6912.261926530091, 3545.294254098195, 3007.3763947109032, 2833.2502463078285, 2727.6265589833147, 2342.690701241615, 1788.9493775698486, 1720.3612361954622, 1596.8501572993234, 1606.0821399536894, 2354.5658186824226, 1495.8601831789342, 1320.1059617112226, 1154.0691377946844, 1068.7077836208134, 1016.6135808927422, 911.4045904623223, 855.494379336305, 717.247344364955, 708.4757315222175, 633.599529261523, 556.3650286701518, 526.2639802161622, 651.273697872537, 454.08180862214, 452.5059493597997, 2807.0937735007606, 3223.911900960351, 4095.2650161240485, 9222.861686551274, 8189.677256127053, 43264.69916968176, 22058.78312880409, 5951.321307795888, 2983.589031083422, 27280.6396816341, 3678.766668421887, 4794.991854943359, 32743.642972309943, 23174.154763996034, 6043.598477834874, 25598.17063806365, 43387.33571823216, 13341.243456968707, 13965.527910295106, 10727.095611429988, 8329.994360139655, 32389.182428767483, 7857.217457412751, 28429.66213842733, 11889.70383498699, 7367.7800863680295, 11440.523879552544], \"Category\": [\"Default\", \"Default\", \"Default\", \"Default\", \"Default\", \"Default\", \"Default\", \"Default\", \"Default\", \"Default\", \"Default\", \"Default\", \"Default\", \"Default\", \"Default\", \"Default\", \"Default\", \"Default\", \"Default\", \"Default\", \"Default\", \"Default\", \"Default\", \"Default\", \"Default\", \"Default\", \"Default\", \"Default\", \"Default\", \"Default\", \"Topic1\", \"Topic1\", \"Topic1\", \"Topic1\", \"Topic1\", \"Topic1\", \"Topic1\", \"Topic1\", \"Topic1\", \"Topic1\", \"Topic1\", \"Topic1\", \"Topic1\", \"Topic1\", \"Topic1\", \"Topic1\", \"Topic1\", \"Topic1\", \"Topic1\", \"Topic1\", \"Topic1\", \"Topic1\", \"Topic1\", \"Topic1\", \"Topic1\", \"Topic1\", \"Topic1\", \"Topic1\", \"Topic1\", \"Topic1\", \"Topic1\", \"Topic1\", \"Topic1\", \"Topic1\", \"Topic1\", \"Topic1\", \"Topic1\", \"Topic1\", \"Topic1\", \"Topic1\", \"Topic1\", \"Topic1\", \"Topic1\", \"Topic1\", \"Topic1\", \"Topic1\", \"Topic1\", \"Topic1\", \"Topic1\", \"Topic1\", \"Topic1\", \"Topic1\", \"Topic1\", \"Topic1\", \"Topic1\", \"Topic1\", \"Topic1\", \"Topic1\", \"Topic1\", \"Topic1\", \"Topic1\", \"Topic1\", \"Topic1\", \"Topic1\", \"Topic2\", \"Topic2\", \"Topic2\", \"Topic2\", \"Topic2\", \"Topic2\", \"Topic2\", \"Topic2\", \"Topic2\", \"Topic2\", \"Topic2\", \"Topic2\", \"Topic2\", \"Topic2\", \"Topic2\", \"Topic2\", \"Topic2\", \"Topic2\", \"Topic2\", \"Topic2\", \"Topic2\", \"Topic2\", \"Topic2\", \"Topic2\", \"Topic2\", \"Topic2\", \"Topic2\", \"Topic2\", \"Topic2\", \"Topic2\", \"Topic2\", \"Topic2\", \"Topic2\", \"Topic2\", \"Topic2\", \"Topic2\", \"Topic2\", \"Topic2\", \"Topic2\", \"Topic2\", \"Topic2\", \"Topic2\", \"Topic2\", \"Topic2\", \"Topic2\", \"Topic2\", \"Topic2\", \"Topic2\", \"Topic2\", \"Topic2\", \"Topic2\", \"Topic2\", \"Topic2\", \"Topic2\", \"Topic2\", \"Topic2\", \"Topic2\", \"Topic2\", \"Topic2\", \"Topic2\", \"Topic2\", \"Topic2\", \"Topic2\", \"Topic2\", \"Topic2\", \"Topic2\", \"Topic2\", \"Topic2\", \"Topic2\", \"Topic2\", \"Topic2\", \"Topic2\", \"Topic2\", \"Topic2\", \"Topic2\", \"Topic2\", \"Topic2\", \"Topic2\", \"Topic3\", \"Topic3\", \"Topic3\", \"Topic3\", \"Topic3\", \"Topic3\", \"Topic3\", \"Topic3\", \"Topic3\", \"Topic3\", \"Topic3\", \"Topic3\", \"Topic3\", \"Topic3\", \"Topic3\", \"Topic3\", \"Topic3\", \"Topic3\", \"Topic3\", \"Topic3\", \"Topic3\", \"Topic3\", \"Topic3\", \"Topic3\", \"Topic3\", \"Topic3\", \"Topic3\", \"Topic3\", \"Topic3\", \"Topic3\", \"Topic3\", \"Topic3\", \"Topic3\", \"Topic3\", \"Topic3\", \"Topic3\", \"Topic3\", \"Topic3\", \"Topic3\", \"Topic3\", \"Topic3\", \"Topic3\", \"Topic3\", \"Topic3\", \"Topic3\", \"Topic3\", \"Topic3\", \"Topic3\", \"Topic3\", \"Topic3\", \"Topic3\", \"Topic3\", \"Topic3\", \"Topic3\", \"Topic3\", \"Topic3\", \"Topic3\", \"Topic3\", \"Topic3\", \"Topic3\", \"Topic3\", \"Topic3\", \"Topic3\", \"Topic3\", \"Topic3\", \"Topic3\", \"Topic3\", \"Topic4\", \"Topic4\", \"Topic4\", \"Topic4\", \"Topic4\", \"Topic4\", \"Topic4\", \"Topic4\", \"Topic4\", \"Topic4\", \"Topic4\", \"Topic4\", \"Topic4\", \"Topic4\", \"Topic4\", \"Topic4\", \"Topic4\", \"Topic4\", \"Topic4\", \"Topic4\", \"Topic4\", \"Topic4\", \"Topic4\", \"Topic4\", \"Topic4\", \"Topic4\", \"Topic4\", \"Topic4\", \"Topic4\", \"Topic4\", \"Topic4\", \"Topic4\", \"Topic4\", \"Topic4\", \"Topic4\", \"Topic4\", \"Topic4\", \"Topic4\", \"Topic4\", \"Topic4\", \"Topic4\", \"Topic4\", \"Topic4\", \"Topic4\", \"Topic4\", \"Topic4\", \"Topic4\", \"Topic4\", \"Topic4\", \"Topic4\", \"Topic4\", \"Topic4\", \"Topic4\", \"Topic4\", \"Topic4\", \"Topic4\", \"Topic4\"], \"logprob\": [30.0, 29.0, 28.0, 27.0, 26.0, 25.0, 24.0, 23.0, 22.0, 21.0, 20.0, 19.0, 18.0, 17.0, 16.0, 15.0, 14.0, 13.0, 12.0, 11.0, 10.0, 9.0, 8.0, 7.0, 6.0, 5.0, 4.0, 3.0, 2.0, 1.0, -4.396299839019775, -5.02239990234375, -5.396100044250488, -5.468299865722656, -5.650700092315674, -5.7133002281188965, -6.083700180053711, -6.184199810028076, -6.2779998779296875, -6.523799896240234, -6.055099964141846, -6.742000102996826, -6.821300029754639, -6.916600227355957, -6.142600059509277, -6.941299915313721, -6.929599761962891, -6.987100124359131, -7.003699779510498, -6.465000152587891, -7.070300102233887, -7.134200096130371, -7.181000232696533, -7.189000129699707, -7.194900035858154, -7.236400127410889, -7.241700172424316, -7.272299766540527, -7.276400089263916, -7.306000232696533, -4.348199844360352, -5.517300128936768, -5.705999851226807, -5.894400119781494, -5.809999942779541, -4.89109992980957, -6.244900226593018, -6.30210018157959, -5.879700183868408, -5.310699939727783, -5.474299907684326, -4.614299774169922, -5.107999801635742, -5.892199993133545, -4.108099937438965, -4.072800159454346, -5.255799770355225, -5.480899810791016, -5.256100177764893, -4.693699836730957, -5.36870002746582, -4.97160005569458, -5.059700012207031, -4.8541998863220215, -4.868899822235107, -5.116600036621094, -5.196300029754639, -4.9217000007629395, -5.132400035858154, -5.517199993133545, -5.523499965667725, -5.538000106811523, -5.434800148010254, -5.44379997253418, -4.466000080108643, -5.958600044250488, -6.124100208282471, -6.199999809265137, -6.31220006942749, -6.340000152587891, -6.510300159454346, -6.545000076293945, -6.673299789428711, -6.741700172424316, -6.88129997253418, -6.858699798583984, -6.892399787902832, -6.974899768829346, -7.042200088500977, -7.048099994659424, -7.049600124359131, -7.048500061035156, -7.104899883270264, -7.121099948883057, -7.130899906158447, -7.2058000564575195, -7.298099994659424, -7.381499767303467, -7.41349983215332, -7.419600009918213, -7.468200206756592, -7.600200176239014, -7.626200199127197, -7.67549991607666, -4.9166998863220215, -6.671299934387207, -7.109300136566162, -5.709000110626221, -5.141499996185303, -6.4934000968933105, -7.082699775695801, -5.90910005569458, -6.036399841308594, -6.752799987792969, -6.411799907684326, -6.428899765014648, -5.2621002197265625, -6.654399871826172, -5.029099941253662, -5.22189998626709, -5.6057000160217285, -5.922999858856201, -6.054500102996826, -5.122099876403809, -6.062600135803223, -5.348599910736084, -6.079599857330322, -5.378399848937988, -5.09250020980835, -5.305200099945068, -4.807700157165527, -5.30810022354126, -4.134399890899658, -4.456200122833252, -4.357399940490723, -5.36329984664917, -5.821499824523926, -5.8744001388549805, -5.0019001960754395, -5.7093000411987305, -5.6006999015808105, -5.056300163269043, -5.381800174713135, -5.186200141906738, -5.4953999519348145, -5.076099872589111, -5.438600063323975, -4.978499889373779, -5.268700122833252, -5.578499794006348, -5.562699794769287, -5.565800189971924, -5.090799808502197, -5.5167999267578125, -5.791500091552734, -5.84250020980835, -5.8927998542785645, -5.908899784088135, -5.98829984664917, -5.877399921417236, -6.038700103759766, -6.298900127410889, -6.330599784851074, -6.325799942016602, -6.363500118255615, -6.514699935913086, -6.757800102233887, -6.771999835968018, -6.83519983291626, -3.986299991607666, -6.906199932098389, -6.947700023651123, -6.968999862670898, -6.976099967956543, -7.024799823760986, -6.985599994659424, -7.102499961853027, -7.174600124359131, -7.180500030517578, -7.263199806213379, -7.32289981842041, -7.383999824523926, -5.621099948883057, -5.70359992980957, -6.242300033569336, -5.686399936676025, -6.787799835205078, -6.927599906921387, -5.057499885559082, -5.361700057983398, -6.130099773406982, -6.013500213623047, -6.52370023727417, -5.782400131225586, -5.558800220489502, -5.854899883270264, -6.0391998291015625, -6.030099868774414, -5.672399997711182, -6.068900108337402, -5.358699798583984, -4.305200099945068, -5.301499843597412, -4.949699878692627, -5.597799777984619, -5.1132001876831055, -5.895100116729736, -4.7154998779296875, -4.868599891662598, -5.022900104522705, -5.202300071716309, -5.386600017547607, -5.634399890899658, -5.548999786376953, -5.527699947357178, -5.707900047302246, -5.720200061798096, -5.759200096130371, -5.7652997970581055, -3.5004000663757324, -3.7186999320983887, -4.0096001625061035, -4.082900047302246, -4.552999973297119, -5.220799922943115, -5.38539981842041, -5.445000171661377, -5.482999801635742, -5.635200023651123, -5.90500020980835, -5.9440999031066895, -6.018599987030029, -6.012899875640869, -5.630300045013428, -6.084000110626221, -6.209000110626221, -6.343500137329102, -6.420400142669678, -6.470399856567383, -6.579800128936768, -6.643099784851074, -6.8196001052856445, -6.831900119781494, -6.943699836730957, -7.07390022277832, -7.129499912261963, -6.916500091552734, -7.277299880981445, -7.280799865722656, -5.466400146484375, -5.487800121307373, -5.278500080108643, -4.562900066375732, -4.67549991607666, -3.2843000888824463, -3.893699884414673, -5.0142998695373535, -5.614299774169922, -3.8392999172210693, -5.455100059509277, -5.252200126647949, -3.829900026321411, -4.134399890899658, -5.163400173187256, -4.272299766540527, -3.9586000442504883, -4.732399940490723, -4.8394999504089355, -5.016300201416016, -5.162499904632568, -4.702099800109863, -5.2006001472473145, -4.995100021362305, -5.269199848175049, -5.378399848937988, -5.393499851226807], \"loglift\": [30.0, 29.0, 28.0, 27.0, 26.0, 25.0, 24.0, 23.0, 22.0, 21.0, 20.0, 19.0, 18.0, 17.0, 16.0, 15.0, 14.0, 13.0, 12.0, 11.0, 10.0, 9.0, 8.0, 7.0, 6.0, 5.0, 4.0, 3.0, 2.0, 1.0, 1.014, 1.0139, 1.0139, 1.0139, 1.0139, 1.0139, 1.0138, 1.0138, 1.0138, 1.0137, 1.0136, 1.0136, 1.0136, 1.0136, 1.0136, 1.0136, 1.0135, 1.0135, 1.0135, 1.0135, 1.0135, 1.0135, 1.0134, 1.0134, 1.0134, 1.0134, 1.0134, 1.0134, 1.0134, 1.0134, 0.9999, 0.9975, 0.9772, 0.9531, 0.9197, 0.8385, 0.9312, 0.9311, 0.8615, 0.7696, 0.7683, 0.5525, 0.606, 0.7745, 0.3514, 0.3182, 0.6006, 0.6337, 0.5494, 0.1541, 0.437, 0.1851, 0.2393, 0.0991, 0.0953, 0.0829, 0.106, -0.2471, -0.0378, 0.4492, 0.4015, 0.3935, -0.0865, -0.7719, 1.3902, 1.39, 1.3899, 1.3899, 1.3899, 1.3898, 1.3898, 1.3898, 1.3897, 1.3897, 1.3896, 1.3896, 1.3896, 1.3895, 1.3895, 1.3895, 1.3895, 1.3895, 1.3894, 1.3894, 1.3894, 1.3894, 1.3893, 1.3892, 1.3892, 1.3891, 1.3891, 1.389, 1.3889, 1.3888, 1.3861, 1.3887, 1.3854, 1.3588, 1.3057, 1.3596, 1.3782, 1.3273, 1.3196, 1.3548, 1.32, 1.3021, 1.1206, 1.3124, 1.0229, 1.0402, 1.0795, 1.1473, 1.1708, 0.9348, 1.167, 0.9519, 1.1508, 0.92, 0.7811, 0.8481, 0.6124, 0.7993, 0.2567, 0.3916, 0.3144, 0.7228, 0.9806, 1.0069, 0.1548, 0.806, 0.68, 0.0795, 0.382, 0.1161, 0.516, -0.1119, 0.4177, -0.519, -0.1741, 0.5387, 0.3687, 0.3383, 1.3992, 1.3991, 1.3991, 1.3991, 1.3991, 1.399, 1.399, 1.399, 1.399, 1.3989, 1.3989, 1.3989, 1.3989, 1.3989, 1.3987, 1.3987, 1.3987, 1.3986, 1.3986, 1.3986, 1.3986, 1.3986, 1.3986, 1.3985, 1.3985, 1.3984, 1.3984, 1.3983, 1.3983, 1.3982, 1.3972, 1.3971, 1.3947, 1.3574, 1.3895, 1.3895, 1.2603, 1.2211, 1.2686, 1.2366, 1.3242, 1.1824, 1.114, 1.1753, 1.1321, 1.1056, 0.9407, 1.1039, 0.7529, 0.1543, 0.5106, 0.1449, 0.6751, 0.1891, 0.971, -0.3245, -0.1968, -0.1751, -0.2381, -0.2298, 0.2168, -0.3495, -0.853, 0.1961, 0.2763, -0.5924, -0.812, 1.9558, 1.9558, 1.9558, 1.9558, 1.9557, 1.9556, 1.9556, 1.9556, 1.9556, 1.9555, 1.9554, 1.9554, 1.9554, 1.9554, 1.9554, 1.9553, 1.9553, 1.9552, 1.9551, 1.9551, 1.955, 1.955, 1.9548, 1.9548, 1.9546, 1.9545, 1.9544, 1.9543, 1.9542, 1.9542, 1.9434, 1.7836, 1.7537, 1.6575, 1.6636, 1.3904, 1.4546, 1.6441, 1.7346, 1.2965, 1.6843, 1.6222, 1.1234, 1.1646, 1.4796, 0.9272, 0.7133, 1.1187, 0.9659, 1.0529, 1.1596, 0.262, 1.18, 0.0994, 0.6972, 1.0665, 0.6113]}, \"token.table\": {\"Topic\": [1, 2, 3, 4, 1, 2, 3, 4, 2, 2, 1, 2, 1, 2, 3, 4, 4, 4, 1, 4, 4, 3, 4, 4, 4, 4, 4, 4, 4, 3, 4, 4, 1, 3, 1, 4, 4, 4, 2, 2, 2, 2, 2, 1, 2, 3, 4, 1, 2, 3, 4, 1, 2, 3, 1, 2, 3, 4, 2, 3, 1, 2, 3, 4, 2, 4, 4, 2, 3, 2, 3, 4, 3, 3, 1, 2, 3, 1, 2, 3, 1, 2, 3, 1, 2, 1, 4, 1, 1, 2, 4, 1, 2, 3, 4, 2, 1, 2, 3, 4, 1, 1, 2, 3, 4, 2, 3, 4, 2, 4, 1, 3, 3, 1, 2, 2, 3, 1, 3, 1, 2, 3, 2, 3, 2, 3, 2, 3, 2, 3, 1, 2, 2, 1, 2, 3, 4, 2, 4, 4, 1, 2, 3, 2, 2, 2, 2, 2, 1, 2, 3, 1, 1, 1, 2, 3, 4, 2, 2, 1, 2, 3, 4, 3, 2, 1, 3, 2, 4, 2, 3, 4, 1, 3, 4, 2, 3, 4, 1, 2, 3, 4, 1, 3, 4, 4, 1, 2, 3, 4, 1, 2, 3, 4, 1, 2, 3, 4, 1, 2, 3, 4, 1, 3, 4, 1, 2, 3, 1, 1, 1, 2, 3, 4, 4, 1, 3, 1, 2, 3, 4, 3, 1, 1, 2, 3, 4, 1, 2, 3, 1, 4, 1, 2, 3, 4, 1, 1, 1, 2, 3, 4, 3, 1, 2, 3, 4, 1, 4, 2, 3, 1, 2, 3, 4, 1, 2, 4, 1, 3, 1, 2, 3, 3, 3, 1, 2, 1, 2, 3, 4, 1, 2, 1, 2, 3, 4, 2, 3, 1, 2, 3, 4, 1, 2, 3, 4, 2, 3, 1, 2, 3, 4, 1, 3, 4, 1, 2, 3, 4, 3, 3, 1, 1, 3, 3, 1, 1, 3, 4, 1, 2, 3, 4, 1, 2, 4, 4, 4, 1, 2, 3, 4, 1, 3, 3, 1, 2, 3, 1, 4, 2, 3, 1, 2, 3, 4, 2, 1, 2, 3, 4, 1, 2, 3, 4, 3, 1, 2, 3, 4, 1, 3, 2, 1, 2, 3, 4, 3, 3, 2, 1, 2, 3, 4, 2, 3, 2, 1, 2, 1, 2, 2, 3, 1, 3, 1, 2, 2, 3, 4, 1, 2, 3, 4, 1, 2, 3, 4, 2, 3, 4, 4, 4, 3, 4, 4, 3, 2, 3, 1, 1, 3, 2, 3, 4, 3, 2, 1, 3, 1, 2, 3, 3, 2, 3, 2, 3, 1, 2, 3, 4, 2, 4, 2, 3, 1, 2, 3, 1, 2, 3, 4, 1, 2, 3, 4, 1, 3, 1, 2, 1, 1, 2, 1, 2, 3, 4, 1, 3, 1, 2, 3, 4, 1, 2, 3, 4, 1, 2, 3, 1, 2, 3, 4, 1, 2, 3, 4], \"Freq\": [0.5376902943822628, 0.3600575641988778, 0.09876607220072985, 0.00349255025051923, 0.3591440184755185, 0.37812960535528156, 0.06976449782008184, 0.1929447936471162, 0.9987846272776519, 0.9997529766242839, 0.011209783434870488, 0.9884990847113067, 0.14049118891492338, 0.7330050114516948, 0.08094639754434775, 0.04573730351652911, 0.999422112700859, 0.9994676035848215, 0.9995816500765099, 0.9995587236568821, 0.9993285140181226, 0.15819290838812292, 0.841834418363462, 0.9993964462955498, 0.9999170015019615, 0.9990735929419902, 0.9990537725584775, 0.9998174365289534, 0.9999484460979728, 0.9997128487436737, 0.9988818945684239, 0.9980442970801712, 0.9989783495089375, 0.999421688977542, 0.28362926176775854, 0.7163724368913608, 0.999469309986212, 0.9998748428325882, 0.9991830218632982, 0.9994642639110208, 0.9990040841533455, 0.9994773642032794, 0.9982596034116362, 0.5154865505951323, 0.14819516085554818, 0.2879470557234768, 0.04838569206150209, 0.7870153183415972, 0.035072587921789154, 0.11911125270056896, 0.058793178786767326, 0.7822004555005441, 0.17185126945795084, 0.046011791500032005, 0.34928308158041677, 0.20921810364957896, 0.28526543722227393, 0.1562452616697091, 0.763705009503399, 0.2363302242167332, 0.19907053389700563, 0.037298618551508685, 0.021576817127180896, 0.7420690272282716, 0.9998346883380387, 0.9994983882118367, 0.9999194396049764, 0.34827759693739957, 0.6516761923692078, 0.11661516988356098, 0.12096445360882199, 0.7622119728519929, 0.9991573062516738, 0.9996110053467587, 0.0010540937743599068, 0.9950645229957521, 0.0031622813230797204, 0.2526830799876813, 0.001624971575483481, 0.7455911245510038, 0.3786109354749349, 0.4172375217341718, 0.20413138979824516, 0.9994812482254011, 0.9998192822214119, 0.9638959117045163, 0.035999686480744086, 0.9998616278888813, 0.2224869809338529, 0.6926602507738856, 0.08485294248136235, 0.5420131611756195, 0.08441717787220042, 0.26890825685484876, 0.10467407237117012, 0.9988748018649447, 0.4546008671990958, 0.36488966554270125, 0.11361587101047212, 0.06690559755997572, 0.9995846920859845, 0.34928470427320063, 0.30820266948631264, 0.08190184381981706, 0.26065239943510615, 0.0006113138166335689, 0.999357017776662, 0.9999719596500986, 0.9958754649335899, 0.004003282786443847, 0.9860138428750788, 0.013959653578741633, 0.9996005940977382, 0.21560373467699231, 0.7842902913191296, 0.009209171249777555, 0.9899859093510871, 0.9997130881339391, 0.9994845951983299, 0.16565046813738402, 0.6342414811174547, 0.20008808630491132, 0.2554720344300212, 0.744213363224088, 0.19494373750969457, 0.8051130704879306, 0.004470856465880255, 0.9956597349515327, 0.998510592172936, 0.998648762813635, 0.9999588036785224, 0.9997582230870592, 0.9995676728958066, 0.33776647932224674, 0.6248855726440733, 0.014889393569567977, 0.02250994933352009, 0.9991042957897831, 0.9991622174709454, 0.9997702915081058, 0.07040846609137648, 0.40562667412587194, 0.5238817773953661, 0.99921323619626, 0.999557696662413, 0.9995694112562261, 0.9993647513485073, 0.9999629736380595, 0.0412575748578519, 0.9155252325599517, 0.04273105967420375, 0.9998307252092344, 0.9992888710191163, 0.24465485623793726, 0.01589057277035622, 0.30649317008484234, 0.4329431524602713, 0.9996442098659618, 0.9989378829832706, 0.17139051098851926, 0.03915096966698528, 0.05729820024224026, 0.7321063297813514, 0.9995240893974263, 0.9994089711051231, 0.9994398988220702, 0.9999411426948083, 0.3787478616249895, 0.621153111638362, 0.9250892956616721, 0.01119059631848797, 0.0634133791380985, 0.9836486192760933, 0.016156406738627754, 0.0002911064277230226, 0.9998634308784902, 0.012112171072075796, 0.987854423025476, 0.404460720055369, 0.49152572699211694, 0.10065451860147849, 0.003339795239637158, 0.839046260456508, 0.003186251621986739, 0.15771945528834358, 0.9997900230557036, 0.4033351077908813, 0.27968492876010015, 0.2981718427818591, 0.01883327306666309, 0.400566302628321, 0.05491142208948773, 0.10954798166573554, 0.4349546570625608, 0.40724838971745453, 0.4268088311063813, 0.1127659446071626, 0.05320440057788071, 0.2833487863147015, 0.04340721271710657, 0.1051665696820207, 0.5680843845372978, 0.9203853765864476, 0.042690596448868634, 0.03671988365881708, 0.3985641514317992, 0.5575820737421845, 0.043831863200939555, 0.9999084588578335, 0.9994212368122318, 0.9099936258491423, 0.06712624009833054, 0.01533798496870456, 0.0075787690433599, 0.9976175909239293, 0.12224373258093388, 0.8775479477207675, 0.9999344357540809, 0.06569269358415193, 0.13272605438430696, 0.8013838283658534, 0.9995245157982885, 0.9998169854066623, 0.1391779370075167, 0.5130053250324746, 0.2810104940669479, 0.06683954059284691, 0.9995534487350219, 0.0002764251794068092, 0.0002764251794068092, 0.9999431462210007, 0.9999500092873795, 0.6303735886905646, 0.12212732074559282, 0.1364574305172893, 0.11104889815164276, 0.9998277664119064, 0.9994952787356942, 0.661345397867574, 0.05538212002195134, 0.19040900312308984, 0.09283098213203271, 0.9988339396273008, 0.6836559466717289, 0.007804291628672705, 0.16252437316710908, 0.14594025345617959, 0.6283328533202992, 0.3716293457244847, 0.9655537527788229, 0.03435624917226353, 0.4974339746169374, 0.1473493216324784, 0.32529529652158323, 0.029903244684238266, 0.9997409366347741, 0.9316589426985642, 0.06818663276272101, 0.9994494192514678, 0.9998962746018679, 0.29529555791293166, 0.7046620262141282, 0.999876292046706, 0.9991423481091424, 0.9996027660411125, 0.8584472882314991, 0.14146218336793787, 0.5615451649460923, 0.13128983256966673, 0.2005518446236044, 0.10657898028568691, 0.9409526993641759, 0.0590759947173625, 0.49868071509066514, 0.3218883931648053, 0.17839367012091542, 0.001026951559872574, 0.009709032871877769, 0.9903213529315325, 0.2577659692985107, 0.17451102116098835, 0.41115690404885485, 0.1564904696160701, 0.09799423863584834, 0.1619212281060486, 0.3292714999038339, 0.41084288137217856, 0.07231577486739228, 0.9274084105131225, 0.25146912436224245, 0.5815223500876857, 0.10332541843755043, 0.06377987065477843, 0.5684750515072351, 0.14752259806830748, 0.2840272597928588, 0.4232266783688894, 0.3683721036919866, 0.20713373213417657, 0.001264183584738241, 0.9997089398282466, 0.9996593961264832, 0.9995615119421336, 0.9996970815876701, 0.0002532802334906689, 0.9992533106587833, 0.9991857879869348, 0.4513808578301321, 0.09747905759523065, 0.4510207135286719, 0.336251352889241, 0.10487173155970272, 0.09863542713442913, 0.46034108380029704, 0.009034824328662993, 0.17410350665774904, 0.8170411406407129, 0.9982609285698236, 0.9995560802890876, 0.05384827584873003, 0.06386088042831249, 0.13565858155995253, 0.7465495658483796, 0.9204363595802092, 0.07924099786827168, 0.9987815967383226, 0.01869495676566567, 0.14441854101476728, 0.8367551065699192, 0.9996618783065286, 0.00038155033523149944, 0.1296893317826873, 0.8702931103315634, 0.3327019426750165, 0.007842681030491601, 0.053720098388049406, 0.6057451094186634, 0.9981703043735822, 0.16381493325446977, 0.5438778434442972, 0.19877029570839502, 0.09359758236018138, 0.16491548777827308, 0.26964177108179077, 0.048275994088460915, 0.5172166109249685, 0.999424304442244, 0.46081508079816447, 0.0001294545596399001, 0.08574207000149385, 0.45330671633905023, 0.002091924105631722, 0.9978477983863313, 0.9994839325643523, 0.6649520881287462, 0.08227760972521783, 0.13867600304758715, 0.11403846621962281, 0.9994866389835236, 0.9990640429803089, 0.9986758753802022, 0.3769892752415684, 0.10245084408765669, 0.11522224139430726, 0.4054219480775423, 0.9988004396266248, 0.9998455790940118, 0.9986019314630924, 0.19990978092397296, 0.7999366084889334, 0.03087105465865392, 0.9691486831364305, 0.04101034144413385, 0.9590490691935398, 0.9996309298427112, 0.9995978756974742, 0.0013649344774929626, 0.9984495702861022, 0.7871173672833892, 0.0017861967487520177, 0.21106891581086343, 0.2589496151381608, 0.08365009632883216, 0.48475916479085523, 0.1726711687880675, 0.007296528237033027, 0.13246005107229186, 0.7655741934856191, 0.094574231380005, 0.029454637545198503, 0.8499333040104187, 0.12055145469529696, 0.9994249575003018, 0.9993377201591856, 0.00042470675148065473, 0.9993349862339806, 0.9993439043589345, 0.9999267936920808, 0.9390040664927811, 0.06080313413015457, 0.9999553821645374, 0.7832045168598728, 0.21679749533971687, 0.6638501895966669, 0.28575433351136476, 0.05024465198875999, 0.9997664058590617, 0.9998061189719136, 0.999672615457397, 0.9997518517061841, 0.9997850263161272, 0.8029453219699896, 0.19696002918112987, 0.9997359500862537, 0.001926539629978687, 0.9979475283289598, 0.24803707516864038, 0.7517824752534048, 0.30685549056587613, 0.45940650587576887, 0.09721961256658553, 0.13657504691217726, 0.9995271441579399, 0.9997051675489005, 0.36773014224171113, 0.6322067991290903, 0.0034407477732702994, 0.9324426465562511, 0.06439113689977274, 0.3990529871640184, 0.22263606115587903, 0.19447851188751658, 0.1838268073945505, 0.2991207785632603, 0.3492244968219412, 0.30022716981818387, 0.05136816540716491, 0.9996907038364183, 0.9997550923763816, 0.029960787341015885, 0.9698417828165883, 0.999783908503678, 0.3183415183202061, 0.6816204277489373, 0.3941297267937571, 0.07438031517646085, 0.17399680871636375, 0.3574864832877065, 0.20057750475848501, 0.7993854381626134, 0.1676295600917424, 0.34102117023476153, 0.20268587260371, 0.2886326111685536, 0.0022319504319923142, 0.6451511459211468, 0.17879097671012117, 0.1739746626200325, 0.07999680223097337, 0.9190108827724918, 0.000952342883702064, 0.43656007433979127, 0.2907281229012397, 0.19610205174193318, 0.07662166442369484, 0.4421812515981132, 0.5538402492092881, 0.003970528102392169, 0.9993262237797373], \"Term\": [\"'ve\", \"'ve\", \"'ve\", \"'ve\", \"...\", \"...\", \"...\", \"...\", \"2.0\", \"3.0\", \"AND\", \"AND\", \"Amazon\", \"Amazon\", \"Amazon\", \"Amazon\", \"Arrived\", \"Awesome\", \"Bose\", \"Canon\", \"DSLR\", \"Easy\", \"Easy\", \"Exactly\", \"Excellent\", \"Fast\", \"GoPro\", \"Good\", \"Great\", \"HDMI\", \"ISO\", \"Item\", \"Kindle\", \"LED\", \"Love\", \"Love\", \"Nikon\", \"Perfect\", \"RAM\", \"SSD\", \"Seagate\", \"THE\", \"THIS\", \"The\", \"The\", \"The\", \"The\", \"These\", \"These\", \"These\", \"These\", \"They\", \"They\", \"They\", \"This\", \"This\", \"This\", \"This\", \"USB\", \"USB\", \"Very\", \"Very\", \"Very\", \"Very\", \"Windows\", \"Work\", \"Works\", \"adapter\", \"adapter\", \"advertised\", \"advertised\", \"advertised\", \"alarm\", \"antenna\", \"apps\", \"apps\", \"apps\", \"audio\", \"audio\", \"audio\", \"back\", \"back\", \"back\", \"backpack\", \"backup\", \"bag\", \"bag\", \"bass\", \"battery\", \"battery\", \"battery\", \"better\", \"better\", \"better\", \"better\", \"boot\", \"bought\", \"bought\", \"bought\", \"bought\", \"bud\", \"buy\", \"buy\", \"buy\", \"buy\", \"cable\", \"cable\", \"camera\", \"card\", \"card\", \"case\", \"case\", \"channel\", \"charge\", \"charge\", \"class=\", \"class=\", \"comfortable\", \"component\", \"computer\", \"computer\", \"computer\", \"connect\", \"connect\", \"connection\", \"connection\", \"connector\", \"connector\", \"contacted\", \"cooler\", \"cover\", \"customer\", \"data\", \"day\", \"day\", \"day\", \"day\", \"defective\", \"delivery\", \"described\", \"device\", \"device\", \"device\", \"died\", \"disc\", \"disk\", \"download\", \"drive\", \"driver\", \"driver\", \"driver\", \"ear\", \"earbuds\", \"easy\", \"easy\", \"easy\", \"easy\", \"email\", \"error\", \"expected\", \"expected\", \"expected\", \"expected\", \"extension\", \"failed\", \"fall\", \"fan\", \"fast\", \"fast\", \"faster\", \"faster\", \"faster\", \"feel\", \"feel\", \"feel\", \"file\", \"filter\", \"filter\", \"first\", \"first\", \"first\", \"first\", \"fit\", \"fit\", \"fit\", \"focus\", \"get\", \"get\", \"get\", \"get\", \"good\", \"good\", \"good\", \"good\", \"got\", \"got\", \"got\", \"got\", \"great\", \"great\", \"great\", \"great\", \"hand\", \"hand\", \"hand\", \"hard\", \"hard\", \"hard\", \"headphone\", \"headset\", \"hold\", \"hold\", \"hold\", \"hold\", \"hood\", \"house\", \"house\", \"iPad\", \"image\", \"image\", \"image\", \"input\", \"ipad\", \"issue\", \"issue\", \"issue\", \"issue\", \"key\", \"key\", \"key\", \"keyboard\", \"lens\", \"like\", \"like\", \"like\", \"like\", \"listen\", \"listening\", \"little\", \"little\", \"little\", \"little\", \"location\", \"look\", \"look\", \"look\", \"look\", \"love\", \"love\", \"machine\", \"machine\", \"make\", \"make\", \"make\", \"make\", \"material\", \"memory\", \"memory\", \"mic\", \"monitor\", \"month\", \"month\", \"mount\", \"mounted\", \"mounting\", \"mouse\", \"mouse\", \"much\", \"much\", \"much\", \"much\", \"music\", \"music\", \"n't\", \"n't\", \"n't\", \"n't\", \"nbsp\", \"nbsp\", \"need\", \"need\", \"need\", \"need\", \"needed\", \"needed\", \"needed\", \"needed\", \"network\", \"network\", \"new\", \"new\", \"new\", \"new\", \"nice\", \"nice\", \"nice\", \"one\", \"one\", \"one\", \"one\", \"outlet\", \"output\", \"pad\", \"pair\", \"pair\", \"panel\", \"pen\", \"perfect\", \"perfect\", \"perfect\", \"perfectly\", \"perfectly\", \"perfectly\", \"perfectly\", \"photo\", \"photo\", \"photo\", \"photographer\", \"photography\", \"picture\", \"picture\", \"picture\", \"picture\", \"plastic\", \"plastic\", \"plate\", \"plug\", \"plug\", \"plug\", \"pocket\", \"pocket\", \"power\", \"power\", \"price\", \"price\", \"price\", \"price\", \"printer\", \"problem\", \"problem\", \"problem\", \"problem\", \"product\", \"product\", \"product\", \"product\", \"projector\", \"quality\", \"quality\", \"quality\", \"quality\", \"radio\", \"radio\", \"reader\", \"really\", \"really\", \"really\", \"really\", \"receiver\", \"reception\", \"recognized\", \"recommend\", \"recommend\", \"recommend\", \"recommend\", \"refund\", \"remote\", \"repair\", \"replacement\", \"replacement\", \"return\", \"return\", \"router\", \"router\", \"rubber\", \"screw\", \"sent\", \"sent\", \"service\", \"service\", \"service\", \"set\", \"set\", \"set\", \"set\", \"setting\", \"setting\", \"setting\", \"setting\", \"setup\", \"setup\", \"setup\", \"shoot\", \"shooting\", \"shot\", \"shot\", \"shutter\", \"signal\", \"software\", \"software\", \"sound\", \"speaker\", \"speaker\", \"speed\", \"speed\", \"speed\", \"station\", \"stopped\", \"strap\", \"strip\", \"stylus\", \"support\", \"support\", \"surge\", \"switch\", \"switch\", \"system\", \"system\", \"time\", \"time\", \"time\", \"time\", \"transfer\", \"tripod\", \"unit\", \"unit\", \"update\", \"update\", \"update\", \"use\", \"use\", \"use\", \"use\", \"using\", \"using\", \"using\", \"using\", \"volume\", \"wall\", \"warranty\", \"warranty\", \"wear\", \"week\", \"week\", \"well\", \"well\", \"well\", \"well\", \"wire\", \"wire\", \"work\", \"work\", \"work\", \"work\", \"worked\", \"worked\", \"worked\", \"worked\", \"working\", \"working\", \"working\", \"would\", \"would\", \"would\", \"would\", \"year\", \"year\", \"year\", \"zoom\"]}, \"R\": 30, \"lambda.step\": 0.01, \"plot.opts\": {\"xlab\": \"PC1\", \"ylab\": \"PC2\"}, \"topic.order\": [1, 3, 4, 2]};\n",
              "\n",
              "function LDAvis_load_lib(url, callback){\n",
              "  var s = document.createElement('script');\n",
              "  s.src = url;\n",
              "  s.async = true;\n",
              "  s.onreadystatechange = s.onload = callback;\n",
              "  s.onerror = function(){console.warn(\"failed to load library \" + url);};\n",
              "  document.getElementsByTagName(\"head\")[0].appendChild(s);\n",
              "}\n",
              "\n",
              "if(typeof(LDAvis) !== \"undefined\"){\n",
              "   // already loaded: just create the visualization\n",
              "   !function(LDAvis){\n",
              "       new LDAvis(\"#\" + \"ldavis_el30761405721278119524622853747\", ldavis_el30761405721278119524622853747_data);\n",
              "   }(LDAvis);\n",
              "}else if(typeof define === \"function\" && define.amd){\n",
              "   // require.js is available: use it to load d3/LDAvis\n",
              "   require.config({paths: {d3: \"https://cdnjs.cloudflare.com/ajax/libs/d3/3.5.5/d3.min\"}});\n",
              "   require([\"d3\"], function(d3){\n",
              "      window.d3 = d3;\n",
              "      LDAvis_load_lib(\"https://cdn.rawgit.com/bmabey/pyLDAvis/files/ldavis.v1.0.0.js\", function(){\n",
              "        new LDAvis(\"#\" + \"ldavis_el30761405721278119524622853747\", ldavis_el30761405721278119524622853747_data);\n",
              "      });\n",
              "    });\n",
              "}else{\n",
              "    // require.js not available: dynamically load d3 & LDAvis\n",
              "    LDAvis_load_lib(\"https://cdnjs.cloudflare.com/ajax/libs/d3/3.5.5/d3.min.js\", function(){\n",
              "         LDAvis_load_lib(\"https://cdn.rawgit.com/bmabey/pyLDAvis/files/ldavis.v1.0.0.js\", function(){\n",
              "                 new LDAvis(\"#\" + \"ldavis_el30761405721278119524622853747\", ldavis_el30761405721278119524622853747_data);\n",
              "            })\n",
              "         });\n",
              "}\n",
              "</script>"
            ]
          },
          "metadata": {},
          "execution_count": 23
        }
      ],
      "source": [
        "def plot_lda_vis(lda_model, bow_corpus, dic):\n",
        "    pyLDAvis.enable_notebook()\n",
        "    vis = pyLDAvis.gensim.prepare(lda_model, bow_corpus, dic)\n",
        "    return vis\n",
        "\n",
        "plot_lda_vis(lda_model, bow_corpus, dic)\n"
      ]
    },
    {
      "cell_type": "markdown",
      "source": [
        "# Sentiment Analysis\n",
        "\n",
        "# What is sentiment analysis?\n",
        "Sentiment analysis is a text analysis method that detects polarity (e.g. a positive , negative , neutral) within the text, whether a whole document, paragraph, sentence, or clause.\n",
        "Sentiment analysis aims to measure the attitude, sentiments, evaluations, attitudes, and emotions of a speaker/writer based on the computational treatment of subjectivity in a text.\n",
        "# Creating 'Actual_sentiment' column\n",
        "This is an important preprocessing phase, we are deciding the outcome column (sentiment of review) based on the overall score. If the score is greater than 3, we take that as positive and if the value is less than 3 it is negative If it is equal to 3, we take that as neutral sentiment"
      ],
      "metadata": {
        "id": "66UcBh-qVu4B"
      }
    },
    {
      "cell_type": "code",
      "source": [
        "def column(data):\n",
        "    if data['overall']==1:\n",
        "        return 'Negative'\n",
        "    elif data['overall']==2:\n",
        "        return 'Negative'\n",
        "    elif data['overall']==3:\n",
        "        return 'Neutral'\n",
        "    elif data['overall']==4:\n",
        "        return 'Positive'\n",
        "    elif data['overall']==5:\n",
        "        return 'Positive'\n",
        "\n",
        "df['Actual_Sentiment'] = df.apply(lambda data: column(data), axis=1)"
      ],
      "metadata": {
        "id": "GZ9__EJ9V5cA"
      },
      "execution_count": 144,
      "outputs": []
    },
    {
      "cell_type": "code",
      "execution_count": 145,
      "metadata": {
        "colab": {
          "base_uri": "https://localhost:8080/",
          "height": 1000
        },
        "id": "TirCbjDonWhR",
        "outputId": "396c4ae6-2783-4433-a5b4-38737f865bce"
      },
      "outputs": [
        {
          "output_type": "execute_result",
          "data": {
            "text/plain": [
              "              asin      reviewerID        reviewerName  \\\n",
              "0       B007136B7U   AJIC7H0QB0HQ8       K RAM SANTOSH   \n",
              "1       B00005141S  A24UCU88FE1FPN        Fabian Chang   \n",
              "2       B016P6ETUE  A3C5MTRFKQYHMW          Leon Blair   \n",
              "3       B00000K4KH  A253WC2BIJB7ET   Mike in San Diego   \n",
              "4       B018I846KA  A3SMSPKX6LL5U5    Michael R. Smith   \n",
              "...            ...             ...                 ...   \n",
              "209831  B00WUIKWGM  A1BE576P3XA07N               Eddie   \n",
              "209832  B004QK7HI8  A1EV0LVQDW54X7            Russells   \n",
              "209833  B000067SCH  A3B1YNOMQBHV1R             SAFTech   \n",
              "209834  B00PFKOU56  A159343D3SPJCZ  Psychological_rape   \n",
              "209835  B004I2GFNC  A3P93T4J28EDVB            R. Beach   \n",
              "\n",
              "                                               reviewText  overall reviewTime  \\\n",
              "0       they are very good in technology sound is supe...      4.0 2013-11-01   \n",
              "1       This is a pretty awesome product. It's good en...      5.0 2015-12-08   \n",
              "2       Sent it back, worked for 10 days and then went...      1.0 2016-08-18   \n",
              "3       Not much to say about this product. It is what...      4.0 2010-08-17   \n",
              "4       If you encounter a lens filter that won't come...      5.0 2018-06-12   \n",
              "...                                                   ...      ...        ...   \n",
              "209831  they don't last as long as the canon brand, ho...      4.0 2014-03-25   \n",
              "209832  Works well.  There are five channels that are ...      4.0 2014-05-21   \n",
              "209833                                        Works well.      4.0 2015-09-28   \n",
              "209834  Yes its very much work like the original don't...      5.0 2015-05-08   \n",
              "209835  I know, silly title.  But I have been looking ...      5.0 2012-11-28   \n",
              "\n",
              "                                                  summary  \\\n",
              "0                                               liking it   \n",
              "1       Great Product, but still needs some reconsidering   \n",
              "2                                                One Star   \n",
              "3               Received what I ordered on a timely basis   \n",
              "4       If you encounter a lens filter that won't come...   \n",
              "...                                                   ...   \n",
              "209831                         Half the life of the canon   \n",
              "209832                                         Works well   \n",
              "209833                                         Four Stars   \n",
              "209834                                          go for it   \n",
              "209835                                 Finally Found Red!   \n",
              "\n",
              "                    main_cat Actual_Sentiment  TextBlob_Subjectivity  \\\n",
              "0       Home Audio & Theater         Positive               0.575286   \n",
              "1            All Electronics         Positive               0.564274   \n",
              "2                  Computers         Negative               0.000000   \n",
              "3                  Computers         Positive               0.200000   \n",
              "4             Camera & Photo         Positive               0.000000   \n",
              "...                      ...              ...                    ...   \n",
              "209831        Camera & Photo         Positive               0.314286   \n",
              "209832  Home Audio & Theater         Positive               0.379167   \n",
              "209833       All Electronics         Positive               0.000000   \n",
              "209834             Computers         Positive               0.524388   \n",
              "209835       Office Products         Positive               0.334722   \n",
              "\n",
              "        TextBlob_Polarity TextBlob_Analysis  \n",
              "0                0.533429          Positive  \n",
              "1                0.082436          Positive  \n",
              "2                0.000000           Neutral  \n",
              "3               -0.100000          Negative  \n",
              "4                0.000000           Neutral  \n",
              "...                   ...               ...  \n",
              "209831           0.061905          Positive  \n",
              "209832          -0.012500          Negative  \n",
              "209833           0.000000           Neutral  \n",
              "209834           0.355340          Positive  \n",
              "209835          -0.072222          Negative  \n",
              "\n",
              "[208881 rows x 12 columns]"
            ],
            "text/html": [
              "\n",
              "  <div id=\"df-4442356a-caa0-47fb-8a5d-5815a84f92af\">\n",
              "    <div class=\"colab-df-container\">\n",
              "      <div>\n",
              "<style scoped>\n",
              "    .dataframe tbody tr th:only-of-type {\n",
              "        vertical-align: middle;\n",
              "    }\n",
              "\n",
              "    .dataframe tbody tr th {\n",
              "        vertical-align: top;\n",
              "    }\n",
              "\n",
              "    .dataframe thead th {\n",
              "        text-align: right;\n",
              "    }\n",
              "</style>\n",
              "<table border=\"1\" class=\"dataframe\">\n",
              "  <thead>\n",
              "    <tr style=\"text-align: right;\">\n",
              "      <th></th>\n",
              "      <th>asin</th>\n",
              "      <th>reviewerID</th>\n",
              "      <th>reviewerName</th>\n",
              "      <th>reviewText</th>\n",
              "      <th>overall</th>\n",
              "      <th>reviewTime</th>\n",
              "      <th>summary</th>\n",
              "      <th>main_cat</th>\n",
              "      <th>Actual_Sentiment</th>\n",
              "      <th>TextBlob_Subjectivity</th>\n",
              "      <th>TextBlob_Polarity</th>\n",
              "      <th>TextBlob_Analysis</th>\n",
              "    </tr>\n",
              "  </thead>\n",
              "  <tbody>\n",
              "    <tr>\n",
              "      <th>0</th>\n",
              "      <td>B007136B7U</td>\n",
              "      <td>AJIC7H0QB0HQ8</td>\n",
              "      <td>K RAM SANTOSH</td>\n",
              "      <td>they are very good in technology sound is supe...</td>\n",
              "      <td>4.0</td>\n",
              "      <td>2013-11-01</td>\n",
              "      <td>liking it</td>\n",
              "      <td>Home Audio &amp; Theater</td>\n",
              "      <td>Positive</td>\n",
              "      <td>0.575286</td>\n",
              "      <td>0.533429</td>\n",
              "      <td>Positive</td>\n",
              "    </tr>\n",
              "    <tr>\n",
              "      <th>1</th>\n",
              "      <td>B00005141S</td>\n",
              "      <td>A24UCU88FE1FPN</td>\n",
              "      <td>Fabian Chang</td>\n",
              "      <td>This is a pretty awesome product. It's good en...</td>\n",
              "      <td>5.0</td>\n",
              "      <td>2015-12-08</td>\n",
              "      <td>Great Product, but still needs some reconsidering</td>\n",
              "      <td>All Electronics</td>\n",
              "      <td>Positive</td>\n",
              "      <td>0.564274</td>\n",
              "      <td>0.082436</td>\n",
              "      <td>Positive</td>\n",
              "    </tr>\n",
              "    <tr>\n",
              "      <th>2</th>\n",
              "      <td>B016P6ETUE</td>\n",
              "      <td>A3C5MTRFKQYHMW</td>\n",
              "      <td>Leon Blair</td>\n",
              "      <td>Sent it back, worked for 10 days and then went...</td>\n",
              "      <td>1.0</td>\n",
              "      <td>2016-08-18</td>\n",
              "      <td>One Star</td>\n",
              "      <td>Computers</td>\n",
              "      <td>Negative</td>\n",
              "      <td>0.000000</td>\n",
              "      <td>0.000000</td>\n",
              "      <td>Neutral</td>\n",
              "    </tr>\n",
              "    <tr>\n",
              "      <th>3</th>\n",
              "      <td>B00000K4KH</td>\n",
              "      <td>A253WC2BIJB7ET</td>\n",
              "      <td>Mike in San Diego</td>\n",
              "      <td>Not much to say about this product. It is what...</td>\n",
              "      <td>4.0</td>\n",
              "      <td>2010-08-17</td>\n",
              "      <td>Received what I ordered on a timely basis</td>\n",
              "      <td>Computers</td>\n",
              "      <td>Positive</td>\n",
              "      <td>0.200000</td>\n",
              "      <td>-0.100000</td>\n",
              "      <td>Negative</td>\n",
              "    </tr>\n",
              "    <tr>\n",
              "      <th>4</th>\n",
              "      <td>B018I846KA</td>\n",
              "      <td>A3SMSPKX6LL5U5</td>\n",
              "      <td>Michael R. Smith</td>\n",
              "      <td>If you encounter a lens filter that won't come...</td>\n",
              "      <td>5.0</td>\n",
              "      <td>2018-06-12</td>\n",
              "      <td>If you encounter a lens filter that won't come...</td>\n",
              "      <td>Camera &amp; Photo</td>\n",
              "      <td>Positive</td>\n",
              "      <td>0.000000</td>\n",
              "      <td>0.000000</td>\n",
              "      <td>Neutral</td>\n",
              "    </tr>\n",
              "    <tr>\n",
              "      <th>...</th>\n",
              "      <td>...</td>\n",
              "      <td>...</td>\n",
              "      <td>...</td>\n",
              "      <td>...</td>\n",
              "      <td>...</td>\n",
              "      <td>...</td>\n",
              "      <td>...</td>\n",
              "      <td>...</td>\n",
              "      <td>...</td>\n",
              "      <td>...</td>\n",
              "      <td>...</td>\n",
              "      <td>...</td>\n",
              "    </tr>\n",
              "    <tr>\n",
              "      <th>209831</th>\n",
              "      <td>B00WUIKWGM</td>\n",
              "      <td>A1BE576P3XA07N</td>\n",
              "      <td>Eddie</td>\n",
              "      <td>they don't last as long as the canon brand, ho...</td>\n",
              "      <td>4.0</td>\n",
              "      <td>2014-03-25</td>\n",
              "      <td>Half the life of the canon</td>\n",
              "      <td>Camera &amp; Photo</td>\n",
              "      <td>Positive</td>\n",
              "      <td>0.314286</td>\n",
              "      <td>0.061905</td>\n",
              "      <td>Positive</td>\n",
              "    </tr>\n",
              "    <tr>\n",
              "      <th>209832</th>\n",
              "      <td>B004QK7HI8</td>\n",
              "      <td>A1EV0LVQDW54X7</td>\n",
              "      <td>Russells</td>\n",
              "      <td>Works well.  There are five channels that are ...</td>\n",
              "      <td>4.0</td>\n",
              "      <td>2014-05-21</td>\n",
              "      <td>Works well</td>\n",
              "      <td>Home Audio &amp; Theater</td>\n",
              "      <td>Positive</td>\n",
              "      <td>0.379167</td>\n",
              "      <td>-0.012500</td>\n",
              "      <td>Negative</td>\n",
              "    </tr>\n",
              "    <tr>\n",
              "      <th>209833</th>\n",
              "      <td>B000067SCH</td>\n",
              "      <td>A3B1YNOMQBHV1R</td>\n",
              "      <td>SAFTech</td>\n",
              "      <td>Works well.</td>\n",
              "      <td>4.0</td>\n",
              "      <td>2015-09-28</td>\n",
              "      <td>Four Stars</td>\n",
              "      <td>All Electronics</td>\n",
              "      <td>Positive</td>\n",
              "      <td>0.000000</td>\n",
              "      <td>0.000000</td>\n",
              "      <td>Neutral</td>\n",
              "    </tr>\n",
              "    <tr>\n",
              "      <th>209834</th>\n",
              "      <td>B00PFKOU56</td>\n",
              "      <td>A159343D3SPJCZ</td>\n",
              "      <td>Psychological_rape</td>\n",
              "      <td>Yes its very much work like the original don't...</td>\n",
              "      <td>5.0</td>\n",
              "      <td>2015-05-08</td>\n",
              "      <td>go for it</td>\n",
              "      <td>Computers</td>\n",
              "      <td>Positive</td>\n",
              "      <td>0.524388</td>\n",
              "      <td>0.355340</td>\n",
              "      <td>Positive</td>\n",
              "    </tr>\n",
              "    <tr>\n",
              "      <th>209835</th>\n",
              "      <td>B004I2GFNC</td>\n",
              "      <td>A3P93T4J28EDVB</td>\n",
              "      <td>R. Beach</td>\n",
              "      <td>I know, silly title.  But I have been looking ...</td>\n",
              "      <td>5.0</td>\n",
              "      <td>2012-11-28</td>\n",
              "      <td>Finally Found Red!</td>\n",
              "      <td>Office Products</td>\n",
              "      <td>Positive</td>\n",
              "      <td>0.334722</td>\n",
              "      <td>-0.072222</td>\n",
              "      <td>Negative</td>\n",
              "    </tr>\n",
              "  </tbody>\n",
              "</table>\n",
              "<p>208881 rows × 12 columns</p>\n",
              "</div>\n",
              "      <button class=\"colab-df-convert\" onclick=\"convertToInteractive('df-4442356a-caa0-47fb-8a5d-5815a84f92af')\"\n",
              "              title=\"Convert this dataframe to an interactive table.\"\n",
              "              style=\"display:none;\">\n",
              "        \n",
              "  <svg xmlns=\"http://www.w3.org/2000/svg\" height=\"24px\"viewBox=\"0 0 24 24\"\n",
              "       width=\"24px\">\n",
              "    <path d=\"M0 0h24v24H0V0z\" fill=\"none\"/>\n",
              "    <path d=\"M18.56 5.44l.94 2.06.94-2.06 2.06-.94-2.06-.94-.94-2.06-.94 2.06-2.06.94zm-11 1L8.5 8.5l.94-2.06 2.06-.94-2.06-.94L8.5 2.5l-.94 2.06-2.06.94zm10 10l.94 2.06.94-2.06 2.06-.94-2.06-.94-.94-2.06-.94 2.06-2.06.94z\"/><path d=\"M17.41 7.96l-1.37-1.37c-.4-.4-.92-.59-1.43-.59-.52 0-1.04.2-1.43.59L10.3 9.45l-7.72 7.72c-.78.78-.78 2.05 0 2.83L4 21.41c.39.39.9.59 1.41.59.51 0 1.02-.2 1.41-.59l7.78-7.78 2.81-2.81c.8-.78.8-2.07 0-2.86zM5.41 20L4 18.59l7.72-7.72 1.47 1.35L5.41 20z\"/>\n",
              "  </svg>\n",
              "      </button>\n",
              "      \n",
              "  <style>\n",
              "    .colab-df-container {\n",
              "      display:flex;\n",
              "      flex-wrap:wrap;\n",
              "      gap: 12px;\n",
              "    }\n",
              "\n",
              "    .colab-df-convert {\n",
              "      background-color: #E8F0FE;\n",
              "      border: none;\n",
              "      border-radius: 50%;\n",
              "      cursor: pointer;\n",
              "      display: none;\n",
              "      fill: #1967D2;\n",
              "      height: 32px;\n",
              "      padding: 0 0 0 0;\n",
              "      width: 32px;\n",
              "    }\n",
              "\n",
              "    .colab-df-convert:hover {\n",
              "      background-color: #E2EBFA;\n",
              "      box-shadow: 0px 1px 2px rgba(60, 64, 67, 0.3), 0px 1px 3px 1px rgba(60, 64, 67, 0.15);\n",
              "      fill: #174EA6;\n",
              "    }\n",
              "\n",
              "    [theme=dark] .colab-df-convert {\n",
              "      background-color: #3B4455;\n",
              "      fill: #D2E3FC;\n",
              "    }\n",
              "\n",
              "    [theme=dark] .colab-df-convert:hover {\n",
              "      background-color: #434B5C;\n",
              "      box-shadow: 0px 1px 3px 1px rgba(0, 0, 0, 0.15);\n",
              "      filter: drop-shadow(0px 1px 2px rgba(0, 0, 0, 0.3));\n",
              "      fill: #FFFFFF;\n",
              "    }\n",
              "  </style>\n",
              "\n",
              "      <script>\n",
              "        const buttonEl =\n",
              "          document.querySelector('#df-4442356a-caa0-47fb-8a5d-5815a84f92af button.colab-df-convert');\n",
              "        buttonEl.style.display =\n",
              "          google.colab.kernel.accessAllowed ? 'block' : 'none';\n",
              "\n",
              "        async function convertToInteractive(key) {\n",
              "          const element = document.querySelector('#df-4442356a-caa0-47fb-8a5d-5815a84f92af');\n",
              "          const dataTable =\n",
              "            await google.colab.kernel.invokeFunction('convertToInteractive',\n",
              "                                                     [key], {});\n",
              "          if (!dataTable) return;\n",
              "\n",
              "          const docLinkHtml = 'Like what you see? Visit the ' +\n",
              "            '<a target=\"_blank\" href=https://colab.research.google.com/notebooks/data_table.ipynb>data table notebook</a>'\n",
              "            + ' to learn more about interactive tables.';\n",
              "          element.innerHTML = '';\n",
              "          dataTable['output_type'] = 'display_data';\n",
              "          await google.colab.output.renderOutput(dataTable, element);\n",
              "          const docLink = document.createElement('div');\n",
              "          docLink.innerHTML = docLinkHtml;\n",
              "          element.appendChild(docLink);\n",
              "        }\n",
              "      </script>\n",
              "    </div>\n",
              "  </div>\n",
              "  "
            ]
          },
          "metadata": {},
          "execution_count": 145
        }
      ],
      "source": [
        "def sentiment_analysis(df):\n",
        "    def getSubjectivity(text):\n",
        "        return TextBlob(text).sentiment.subjectivity\n",
        "  \n",
        " #Create a function to get the polarity\n",
        "    def getPolarity(text):\n",
        "        return TextBlob(text).sentiment.polarity\n",
        "  \n",
        " #Create two new columns ‘Subjectivity’ & ‘Polarity’\n",
        "    df['TextBlob_Subjectivity'] =  df['reviewText'].apply(getSubjectivity)\n",
        "    df['TextBlob_Polarity'] = df['reviewText'].apply(getPolarity)\n",
        "    def getAnalysis(score):\n",
        "        if score < 0:\n",
        "            return 'Negative'\n",
        "        elif score == 0:\n",
        "            return 'Neutral'\n",
        "        elif score > 0:\n",
        "            return 'Positive'\n",
        "    df['TextBlob_Analysis'] = df['TextBlob_Polarity'].apply(getAnalysis)\n",
        "    return df\n",
        "\n",
        "sentiment_analysis(df)"
      ]
    },
    {
      "cell_type": "code",
      "execution_count": 146,
      "metadata": {
        "id": "8DqXndsEm46f"
      },
      "outputs": [],
      "source": [
        "def vader(x):\n",
        "    polarity=sent.polarity_scores(x)\n",
        "    return polarity\n",
        "\n",
        "df['Vader_Polarity']=df['reviewText'].apply(vader)\n",
        "\n",
        "neg=[]\n",
        "pos=[]\n",
        "neu=[]\n",
        "comp = []\n",
        "for i in df['Vader_Polarity']:\n",
        "    neg.append(i['neg'])\n",
        "    pos.append(i['pos'])\n",
        "    neu.append(i['neu'])\n",
        "    comp.append(i['compound'])\n",
        "\n",
        "\n",
        "pol = ['Positive' if score > 0.05\n",
        "                          else 'Negative' if score < -0.05\n",
        "                              else 'Neutral'\n",
        "                                  for score in comp]\n",
        "\n",
        "df['Vader_score'] = comp\n",
        "df['Vader_sentiment'] = pol"
      ]
    },
    {
      "cell_type": "code",
      "source": [
        "neg_2=df[df[\"Vader_sentiment\"] == \"Negative\"][\"reviewText\"]\n",
        "pos_2=df[df[\"Vader_sentiment\"] == \"Positive\"][\"reviewText\"]\n",
        "neu_2=df[df[\"Vader_sentiment\"] == \"Neutral\"][\"reviewText\"]"
      ],
      "metadata": {
        "id": "trQ33bgPp3Vv"
      },
      "execution_count": 147,
      "outputs": []
    },
    {
      "cell_type": "code",
      "source": [
        "# Getting BIGRAM\n",
        "def get_top_n_bigram(corpus, n=None):\n",
        "    vec = CountVectorizer(ngram_range=(2, 2),stop_words='english').fit(corpus)   # converting a text documents to a matrix of token counts.      \n",
        "    bag_of_words = vec.transform(corpus)                                         # Transforming the corpus into numbers\n",
        "    sum_words = bag_of_words.sum(axis=0) \n",
        "    words_freq = [(word, sum_words[0, idx]) for word, idx in vec.vocabulary_.items()]     # it provides a dictionary with the mapping of the word item index \n",
        "    words_freq = sorted(words_freq, key = lambda x: x[1], reverse=True)\n",
        "    return words_freq[:n]"
      ],
      "metadata": {
        "id": "AOybSUznqPkp"
      },
      "execution_count": 148,
      "outputs": []
    },
    {
      "cell_type": "code",
      "source": [
        "# create a function for bigram plots\n",
        "def n_gram_plot(data,title,colour):                            # Creating n_gram_plot function\n",
        "    x=[x[0] for x in data]\n",
        "    y=[x[1] for x in data]\n",
        "    sns.barplot(x=y,y=x,color=colour)\n",
        "    plt.title('{} Reviews Bigrams'.format(title),fontsize=15)\n",
        "    plt.yticks(rotation=0,fontsize=15)\n",
        "\n",
        "common_words_good = get_top_n_bigram(pos_2, 10)                  # Calling get_top_n_bigram for pos columns\n",
        "common_words_neutral = get_top_n_bigram(neu_2, 10)               # Calling get_top_n_bigram for neu columns\n",
        "common_words_bad = get_top_n_bigram(neg_2, 10)                   # Calling get_top_n_bigram for neg columns"
      ],
      "metadata": {
        "id": "Jn2AAC0wqPXK"
      },
      "execution_count": 149,
      "outputs": []
    },
    {
      "cell_type": "code",
      "source": [
        "# bigram plot using function above\n",
        "plt.figure(figsize=(15,10))\n",
        "# good reviews bigrams\n",
        "plt.subplot(151)\n",
        "n_gram_plot(common_words_good,'Good','green')                  # Calling n_gram_plot for pos \n",
        "#============================================= \n",
        "#neutral reviews bigrams\n",
        "plt.subplot(153)\n",
        "n_gram_plot(common_words_neutral,'Neutral','yellow')           # Calling n_gram_plot for pos\n",
        "#============================================= \n",
        "#bad reviews bigrams\n",
        "plt.subplot(155)\n",
        "n_gram_plot(common_words_bad,'Bad','red')                      # Calling n_gram_plot for pos\n",
        "plt.show()"
      ],
      "metadata": {
        "colab": {
          "base_uri": "https://localhost:8080/",
          "height": 609
        },
        "id": "BTkBVJy5h1Rj",
        "outputId": "3e281942-0f94-4b22-b340-5d7ab2607593"
      },
      "execution_count": 150,
      "outputs": [
        {
          "output_type": "display_data",
          "data": {
            "text/plain": [
              "<Figure size 1080x720 with 3 Axes>"
            ],
            "image/png": "[encoded data removed]"
          },
          "metadata": {
            "needs_background": "light"
          }
        }
      ]
    },
    {
      "cell_type": "code",
      "execution_count": 151,
      "metadata": {
        "id": "b-5apaprpPhn"
      },
      "outputs": [],
      "source": [
        "def count_plot(col1,col2,col3):\n",
        "    plt.figure(figsize=(10,7))\n",
        "    plt.subplot(2,2,1)\n",
        "    ax = sns.countplot(x=df['Actual_Sentiment']);\n",
        "    for bar in ax.patches:\n",
        "        count = bar.get_height()\n",
        "        x = bar.get_x() + bar.get_width()/2\n",
        "        y = bar.get_height()\n",
        "        ax.annotate(count, (x,y), va = 'bottom', ha = 'center')\n",
        "    plt.title('Actual Sentiment Count')\n",
        "\n",
        "    plt.figure(figsize=(10,7))\n",
        "    plt.subplot(2,2,2)\n",
        "    ax = sns.countplot(x=df[col1]);\n",
        "    for bar in ax.patches:\n",
        "        count = bar.get_height()\n",
        "        x = bar.get_x() + bar.get_width()/2\n",
        "        y = bar.get_height()\n",
        "        ax.annotate(count, (x,y), va = 'bottom', ha = 'center')\n",
        "    plt.title(f'Sentiment Count of {col1} Model')\n",
        "    \n",
        "\n",
        "    plt.figure(figsize=(10,7))\n",
        "    plt.subplot(2,2,3)\n",
        "    ax = sns.countplot(x=df[col2]);\n",
        "    for bar in ax.patches:\n",
        "        count = bar.get_height()\n",
        "        x = bar.get_x() + bar.get_width()/2\n",
        "        y = bar.get_height()\n",
        "        ax.annotate(count, (x,y), va = 'bottom', ha = 'center')\n",
        "    plt.title(f'Sentiment Count of {col2} Model')\n",
        "    \n",
        "\n",
        "    plt.figure(figsize=(10,7))\n",
        "    plt.subplot(2,2,4)\n",
        "    ax = sns.countplot(x=df[col3]);\n",
        "    for bar in ax.patches:\n",
        "        count = bar.get_height()\n",
        "        x = bar.get_x() + bar.get_width()/2\n",
        "        y = bar.get_height()\n",
        "        ax.annotate(count, (x,y), va = 'bottom', ha = 'center')\n",
        "    plt.title(f'Sentiment Count of {col3} Model')\n",
        "    plt.tight_layout()\n",
        "    plt.show()"
      ]
    },
    {
      "cell_type": "code",
      "execution_count": 152,
      "metadata": {
        "id": "iUwwTbJQpuwD"
      },
      "outputs": [],
      "source": [
        "afn = Afinn()\n",
        "scores = [afn.score(i) for i in df.reviewText]\n",
        "sentiment = ['Positive' if score > 0.05\n",
        "                          else 'Negative' if score < -0.05\n",
        "                              else 'Neutral'\n",
        "                                  for score in scores]\n",
        "\n",
        "df['Afinn_score'] = scores\n",
        "df['Afinn_sentiment'] = sentiment"
      ]
    },
    {
      "cell_type": "code",
      "source": [
        "count_plot('TextBlob_Analysis','Vader_sentiment','Afinn_sentiment')"
      ],
      "metadata": {
        "colab": {
          "base_uri": "https://localhost:8080/",
          "height": 989
        },
        "id": "JQsqRWCmkxI7",
        "outputId": "b35fa994-ef65-4e03-b5a5-7e6a21ceb7ee"
      },
      "execution_count": 153,
      "outputs": [
        {
          "output_type": "display_data",
          "data": {
            "text/plain": [
              "<Figure size 720x504 with 1 Axes>"
            ],
            "image/png": "[encoded data removed]"
          },
          "metadata": {
            "needs_background": "light"
          }
        },
        {
          "output_type": "display_data",
          "data": {
            "text/plain": [
              "<Figure size 720x504 with 1 Axes>"
            ],
            "image/png": "[encoded data removed]"
          },
          "metadata": {
            "needs_background": "light"
          }
        },
        {
          "output_type": "display_data",
          "data": {
            "text/plain": [
              "<Figure size 720x504 with 1 Axes>"
            ],
            "image/png": "[encoded data removed]"
          },
          "metadata": {
            "needs_background": "light"
          }
        },
        {
          "output_type": "display_data",
          "data": {
            "text/plain": [
              "<Figure size 720x504 with 1 Axes>"
            ],
            "image/png": "[encoded data removed]"
          },
          "metadata": {
            "needs_background": "light"
          }
        }
      ]
    },
    {
      "cell_type": "code",
      "source": [
        "print('*'*10,'Vader results','*'*10)\n",
        "print('precision :',precision_score(df['Actual_Sentiment'] , df['Vader_sentiment'] , average = 'weighted'))\n",
        "print('recall :',recall_score(df['Actual_Sentiment'] , df['Vader_sentiment'] , average = 'weighted'))\n",
        "print('f1_score :',f1_score(df['Actual_Sentiment'] , df['Vader_sentiment'] , average = 'weighted'))\n",
        "print(classification_report(df['Actual_Sentiment'] , df['Vader_sentiment']))\n",
        "plt.title('**********Confusion matrix of vader**********')\n",
        "plt.title('**********f1-score = 0.77**********')\n",
        "cm = confusion_matrix(df['Actual_Sentiment'], df['Vader_sentiment'] )\n",
        "disp = ConfusionMatrixDisplay(confusion_matrix=cm , display_labels = ['Negative','Neutral','Positive'])\n",
        "disp.plot();"
      ],
      "metadata": {
        "colab": {
          "base_uri": "https://localhost:8080/",
          "height": 799
        },
        "id": "tlMJDmt2vv8V",
        "outputId": "babdd25d-4547-4814-d245-6029da1268b3"
      },
      "execution_count": 154,
      "outputs": [
        {
          "output_type": "stream",
          "name": "stdout",
          "text": [
            "********** Vader results **********\n",
            "precision : 0.7915425044127081\n",
            "recall : 0.7644687645118512\n",
            "f1_score : 0.7773862751765922\n",
            "              precision    recall  f1-score   support\n",
            "\n",
            "    Negative       0.53      0.51      0.52     28229\n",
            "     Neutral       0.08      0.13      0.10     13306\n",
            "    Positive       0.89      0.86      0.87    167346\n",
            "\n",
            "    accuracy                           0.76    208881\n",
            "   macro avg       0.50      0.50      0.50    208881\n",
            "weighted avg       0.79      0.76      0.78    208881\n",
            "\n"
          ]
        },
        {
          "output_type": "display_data",
          "data": {
            "text/plain": [
              "<Figure size 432x288 with 1 Axes>"
            ],
            "image/png": "[encoded data removed]"
          },
          "metadata": {
            "needs_background": "light"
          }
        },
        {
          "output_type": "display_data",
          "data": {
            "text/plain": [
              "<Figure size 432x288 with 2 Axes>"
            ],
            "image/png": "[encoded data removed]"
          },
          "metadata": {
            "needs_background": "light"
          }
        }
      ]
    },
    {
      "cell_type": "code",
      "source": [
        "print('*'*10,'Affin results','*'*10)\n",
        "print('precision :' ,precision_score(df['Actual_Sentiment'] , df['Afinn_sentiment'] , average = 'weighted'))\n",
        "print('recall :',recall_score(df['Actual_Sentiment'] , df['Afinn_sentiment'] , average = 'weighted'))\n",
        "print('f1_score :',f1_score(df['Actual_Sentiment'] , df['Afinn_sentiment'] , average = 'weighted'))\n",
        "print(classification_report(df['Actual_Sentiment'] , df['Afinn_sentiment']))\n",
        "plt.title('**********Confusion matrix of Affin**********')\n",
        "plt.title('**********f1-score = 0.75**********')\n",
        "cm = confusion_matrix(df['Actual_Sentiment'], df['Afinn_sentiment'] )\n",
        "disp = ConfusionMatrixDisplay(confusion_matrix=cm , display_labels = ['Negative','Neutral','Positive'])\n",
        "disp.plot();"
      ],
      "metadata": {
        "colab": {
          "base_uri": "https://localhost:8080/",
          "height": 799
        },
        "id": "-HGR3oOB4TDg",
        "outputId": "35912895-0d3b-48ae-91c3-db4b838c6a22"
      },
      "execution_count": 155,
      "outputs": [
        {
          "output_type": "stream",
          "name": "stdout",
          "text": [
            "********** Affin results **********\n",
            "precision : 0.776222628516565\n",
            "recall : 0.7304015204829544\n",
            "f1_score : 0.7508699284149124\n",
            "              precision    recall  f1-score   support\n",
            "\n",
            "    Negative       0.50      0.40      0.45     28229\n",
            "     Neutral       0.09      0.19      0.12     13306\n",
            "    Positive       0.88      0.83      0.85    167346\n",
            "\n",
            "    accuracy                           0.73    208881\n",
            "   macro avg       0.49      0.47      0.47    208881\n",
            "weighted avg       0.78      0.73      0.75    208881\n",
            "\n"
          ]
        },
        {
          "output_type": "display_data",
          "data": {
            "text/plain": [
              "<Figure size 432x288 with 1 Axes>"
            ],
            "image/png": "[encoded data removed]"
          },
          "metadata": {
            "needs_background": "light"
          }
        },
        {
          "output_type": "display_data",
          "data": {
            "text/plain": [
              "<Figure size 432x288 with 2 Axes>"
            ],
            "image/png": "[encoded data removed]"
          },
          "metadata": {
            "needs_background": "light"
          }
        }
      ]
    },
    {
      "cell_type": "code",
      "source": [
        "print('*'*10,'TextBlob results','*'*10)\n",
        "print('precision :',precision_score(df['Actual_Sentiment'] , df['TextBlob_Analysis'] , average = 'weighted'))\n",
        "print('recall :',recall_score(df['Actual_Sentiment'] , df['TextBlob_Analysis'] , average = 'weighted'))\n",
        "print('f1_score :',f1_score(df['Actual_Sentiment'] , df['TextBlob_Analysis'] , average = 'weighted'))\n",
        "print(classification_report(df['Actual_Sentiment'] , df['TextBlob_Analysis']))\n",
        "plt.title('**********Confusion matrix of TextBlob**********')\n",
        "plt.title('**********f1-score = 0.75**********')\n",
        "cm = confusion_matrix(df['Actual_Sentiment'], df['TextBlob_Analysis'] )\n",
        "disp = ConfusionMatrixDisplay(confusion_matrix=cm , display_labels = ['Negative','Neutral','Positive'])\n",
        "disp.plot();"
      ],
      "metadata": {
        "colab": {
          "base_uri": "https://localhost:8080/",
          "height": 799
        },
        "id": "m5y9tQOivzgj",
        "outputId": "a03de74b-90c2-4d17-8d8e-912b190889d4"
      },
      "execution_count": 156,
      "outputs": [
        {
          "output_type": "stream",
          "name": "stdout",
          "text": [
            "********** TextBlob results **********\n",
            "precision : 0.7641089719652175\n",
            "recall : 0.7545253038811572\n",
            "f1_score : 0.7576058461076254\n",
            "              precision    recall  f1-score   support\n",
            "\n",
            "    Negative       0.51      0.37      0.42     28229\n",
            "     Neutral       0.06      0.09      0.08     13306\n",
            "    Positive       0.86      0.87      0.87    167346\n",
            "\n",
            "    accuracy                           0.75    208881\n",
            "   macro avg       0.48      0.44      0.46    208881\n",
            "weighted avg       0.76      0.75      0.76    208881\n",
            "\n"
          ]
        },
        {
          "output_type": "display_data",
          "data": {
            "text/plain": [
              "<Figure size 432x288 with 1 Axes>"
            ],
            "image/png": "[encoded data removed]"
          },
          "metadata": {
            "needs_background": "light"
          }
        },
        {
          "output_type": "display_data",
          "data": {
            "text/plain": [
              "<Figure size 432x288 with 2 Axes>"
            ],
            "image/png": "[encoded data removed]"
          },
          "metadata": {
            "needs_background": "light"
          }
        }
      ]
    },
    {
      "cell_type": "code",
      "source": [
        "df.columns"
      ],
      "metadata": {
        "colab": {
          "base_uri": "https://localhost:8080/"
        },
        "id": "I81JnqgXzHwY",
        "outputId": "c3200ccd-8d4e-4939-bd12-b92a5dfcc414"
      },
      "execution_count": 157,
      "outputs": [
        {
          "output_type": "execute_result",
          "data": {
            "text/plain": [
              "Index(['asin', 'reviewerID', 'reviewerName', 'reviewText', 'overall',\n",
              "       'reviewTime', 'summary', 'main_cat', 'Actual_Sentiment',\n",
              "       'TextBlob_Subjectivity', 'TextBlob_Polarity', 'TextBlob_Analysis',\n",
              "       'Vader_Polarity', 'Vader_score', 'Vader_sentiment', 'Afinn_score',\n",
              "       'Afinn_sentiment'],\n",
              "      dtype='object')"
            ]
          },
          "metadata": {},
          "execution_count": 157
        }
      ]
    },
    {
      "cell_type": "code",
      "source": [
        "df['Actual_Sentiment'].value_counts()"
      ],
      "metadata": {
        "colab": {
          "base_uri": "https://localhost:8080/"
        },
        "id": "ddOc8Q-S1aB9",
        "outputId": "52af5489-39e7-412d-9046-b522ecde4743"
      },
      "execution_count": 158,
      "outputs": [
        {
          "output_type": "execute_result",
          "data": {
            "text/plain": [
              "Positive    167346\n",
              "Negative     28229\n",
              "Neutral      13306\n",
              "Name: Actual_Sentiment, dtype: int64"
            ]
          },
          "metadata": {},
          "execution_count": 158
        }
      ]
    },
    {
      "cell_type": "markdown",
      "source": [
        "## Classification Model"
      ],
      "metadata": {
        "id": "ERnA0nsw-8V8"
      }
    },
    {
      "cell_type": "code",
      "source": [
        "class Capestone:\n",
        "  def __init__(self):\n",
        "    # Creating user-defined function to clean the data\n",
        "    def cleaning(text):\n",
        "      text = text.lower()\n",
        "      text = re.sub(r'https?\\S+ | www\\S+' , ' ' , text)\n",
        "      text = re.sub(r'[^a-z]+' , ' ' , text)\n",
        "      text = re.sub(r'\\s+' , ' ' , text)\n",
        "      return text\n",
        "    # Data Cleaning\n",
        "    df['reviewText'] = df['reviewText'].apply(cleaning)\n",
        "    df_3_class = df.copy()\n",
        "\n",
        "    # Separating dataframe based on sentiment to handle imbalance dataset\n",
        "    df_3_class_pos  = df_3_class[df_3_class['Actual_Sentiment'] == 'Positive']\n",
        "    df_3_class_neg  = df_3_class[df_3_class['Actual_Sentiment'] == 'Negative']\n",
        "    df_3_class_neu  = df_3_class[df_3_class['Actual_Sentiment'] == 'Neutral']\n",
        "\n",
        "    # Oversampling to handle imbalanced dataset\n",
        "    df_3_class_neu2 = df_3_class_neu.sample(n=167346 , random_state = 42 , replace = True)\n",
        "    df_3_class_neg2 = df_3_class_neg.sample(n=167346 , random_state = 42 , replace = True)\n",
        "\n",
        "    # Concating Oversampled DataFrames\n",
        "    df_3_class_2 = pd.concat([df_3_class_pos,df_3_class_neg2,df_3_class_neu2])\n",
        "    self.df_3_class = df_3_class_2.copy()\n",
        "\n",
        "  def fastcat(self):\n",
        "    \n",
        "    # Adding __label__ as prefix for fasttext input\n",
        "    self.df_3_class['Target_2.0'] = '__label__' + self.df_3_class['Actual_Sentiment'].astype(str)\n",
        "    self.df_3_class['Target_review_2.0'] = self.df_3_class['Target_2.0'] + ' ' + self.df_3_class['reviewText']\n",
        "\n",
        "    # Train-Test Split\n",
        "    train_3 , test_3 = train_test_split(self.df_3_class[['Target_2.0' , 'Target_review_2.0']], test_size=0.2)\n",
        "\n",
        "    # CSV of train\n",
        "    train_3.to_csv(\"electronics_train_3.txt\", columns=[\"Target_review_2.0\"], index=False, header=False)\n",
        "\n",
        "    # CSV of test file\n",
        "    test_3.to_csv(\"electronics_test_3.txt\", columns=[\"Target_review_2.0\"], index=False, header=False)\n",
        "\n",
        "    # Model training\n",
        "    model_3 = fasttext.train_supervised(input=\"electronics_train_3.txt\")\n",
        "\n",
        "    # Model Testing\n",
        "    model_3.test(\"electronics_test_3.txt\")\n",
        "    test_num , precision_3 ,recall_3 = model_3.test(\"electronics_test_3.txt\")\n",
        "    f1_score_3 = (2*precision_3*recall_3)/(precision_3+recall_3)\n",
        "    print('*'*10,'fasttext results','*'*10)\n",
        "    print('precision',precision_3)\n",
        "    print('Recall',recall_3)\n",
        "    print('f1_score',f1_score_3)\n",
        "    \n",
        "    confu_3 = pd.DataFrame()\n",
        "    confu_3['labeled'] = test_3['Target_2.0']\n",
        "    \n",
        "    from sklearn.metrics import confusion_matrix\n",
        "    confu_3[\"predicted_3\"] = test_3[\"Target_review_2.0\"].apply(lambda x: model_3.predict(x)[0][0])\n",
        "    # predict the data\n",
        "    \n",
        "    plt.title('**********Confusion matrix of fasttext**********')\n",
        "    plt.title('**********f1-score = 0.78**********')\n",
        "    cm = confusion_matrix(confu_3[\"labeled\"], confu_3[\"predicted_3\"])\n",
        "    disp = ConfusionMatrixDisplay(confusion_matrix=cm , display_labels = ['Negative','Neutral','Positive'])\n",
        "    disp.plot();\n",
        "    print(classification_report(confu_3[\"labeled\"], confu_3[\"predicted_3\"]))\n",
        "    return model_3\n",
        "\n",
        "\n",
        "\n",
        "  def checkStationarity(self,df,col1='reviewTime',col2='Vader_score',rt='M'):\n",
        "    tsdf=df[[col1,col2]]\n",
        "    tsdf.set_index(col1,inplace=True)\n",
        "    tsdf=tsdf.resample(rt).mean()\n",
        "    tsdf['Time']=tsdf.index\n",
        "\n",
        "    idx = np.where(tsdf.isnull()==True)\n",
        "    index = idx[0][-1]+1\n",
        "    tsdf = tsdf.iloc[index:,:]\n",
        "\n",
        "    pvalue = adfuller(tsdf[col2])[1]\n",
        "    \n",
        "    if(pvalue>0.05):\n",
        "        print('p-value =', pvalue, 'Data is not Stationary')   \n",
        "    else:\n",
        "        print('p-value =', pvalue, 'Data is Stationary')\n",
        "\n",
        "    return tsdf\n",
        "     \n",
        "\n",
        "\n",
        "  def shift_trail(self,df):\n",
        "    ob = Capestone()\n",
        "    tsdf = ob.checkStationarity(df=df)\n",
        "    for i in range(1,3):\n",
        "      print('shifting of', i)\n",
        "      shift_data = tsdf['Vader_score']-tsdf['Vader_score'].shift(i)\n",
        "      shift_data.dropna(inplace=True)\n",
        "      pvalue = adfuller(shift_data)[1]\n",
        "    \n",
        "      if(pvalue>0.05):\n",
        "          print('p-value =', pvalue, 'Data is not Stationary')   \n",
        "      else:\n",
        "          print('p-value =', pvalue, 'Data is Stationary')\n",
        "\n",
        " \n",
        "  def pacf_acf(self,df,stamp,col1='reviewTime',col2='Vader_score',rt='M'):\n",
        "    # b = Capestone_T1()\n",
        "    # metrics , train = b.model(model=ARIMA(),df=df)\n",
        "\n",
        "    ob = Capestone()\n",
        "    tsdf = ob.checkStationarity(df=df)\n",
        "\n",
        "    idx = np.where(tsdf.isnull()==True)\n",
        "    index = idx[0][-1]+1\n",
        "    tsdf = tsdf.iloc[index:,:] #10\n",
        "\n",
        "    from darts import TimeSeries\n",
        "    series=TimeSeries.from_dataframe(tsdf,'Time',col2)\n",
        "    train,test=series.split_before(pd.Timestamp(stamp))\n",
        "\n",
        "    plot_pacf(train);plot_acf(train)\n",
        " \n",
        "  def model(self,model,df,stamp,col1='reviewTime',col2='Vader_score',rt='M'):\n",
        "\n",
        "    tsdf=df[[col1,col2]]\n",
        "    #tsdf[col1]=tsdf[col1].astype('datetime64[ns]')\n",
        "    tsdf.set_index(col1,inplace=True)\n",
        "    tsdf=tsdf.resample(rt).mean()\n",
        "    tsdf['Time']=tsdf.index\n",
        "\n",
        "    idx = np.where(tsdf.isnull()==True)\n",
        "    index = idx[0][-1]+1\n",
        "    tsdf = tsdf.iloc[index:,:] #10\n",
        "\n",
        "    from time import time\n",
        "    from darts import TimeSeries\n",
        "    start=time()\n",
        "    series=TimeSeries.from_dataframe(tsdf,'Time',col2)\n",
        "    train,test=series.split_before(pd.Timestamp(stamp))\n",
        "    model.fit(train)\n",
        "    forecast=model.predict(len(test)+60)\n",
        "    plt.figure(figsize=(12,7))\n",
        "    new_train = train.append(forecast[0:1])\n",
        "    new_train.plot(label='Historical Trend')\n",
        "    #test.plot(label='predicted')\n",
        "    forecast.plot(label='Forecast Trend')\n",
        "    plt.xticks(fontsize=14)\n",
        "    plt.yticks(fontsize=14)\n",
        "    plt.ylabel('Sentiment Score')\n",
        "    df=pd.DataFrame({'model':[model],'mse':[mse(forecast,test)],'rmse':[rmse(forecast,test)],'mape':[mape(forecast,test)],'execution_time':[time()-start]})\n",
        "    return df\n",
        "   "
      ],
      "metadata": {
        "id": "nWnXXki9kYo_"
      },
      "execution_count": 159,
      "outputs": []
    },
    {
      "cell_type": "code",
      "source": [
        "ob1 = Capestone()\n",
        "ob1.fastcat()"
      ],
      "metadata": {
        "id": "3h1vKNQn-qT6",
        "outputId": "57bacd55-c282-40ef-a5eb-df818854263e",
        "colab": {
          "base_uri": "https://localhost:8080/",
          "height": 818
        }
      },
      "execution_count": 160,
      "outputs": [
        {
          "output_type": "stream",
          "name": "stdout",
          "text": [
            "********** fasttext results **********\n",
            "precision 0.783324037925265\n",
            "Recall 0.783324037925265\n",
            "f1_score 0.7833240379252648\n",
            "                   precision    recall  f1-score   support\n",
            "\n",
            "__label__Negative       0.80      0.80      0.80     33526\n",
            " __label__Neutral       0.70      0.73      0.71     33317\n",
            "__label__Positive       0.85      0.82      0.83     33565\n",
            "\n",
            "         accuracy                           0.78    100408\n",
            "        macro avg       0.78      0.78      0.78    100408\n",
            "     weighted avg       0.79      0.78      0.78    100408\n",
            "\n"
          ]
        },
        {
          "output_type": "execute_result",
          "data": {
            "text/plain": [
              "<fasttext.FastText._FastText at 0x7fd97d4e1520>"
            ]
          },
          "metadata": {},
          "execution_count": 160
        },
        {
          "output_type": "display_data",
          "data": {
            "text/plain": [
              "<Figure size 432x288 with 1 Axes>"
            ],
            "image/png": "[encoded data removed]"
          },
          "metadata": {
            "needs_background": "light"
          }
        },
        {
          "output_type": "display_data",
          "data": {
            "text/plain": [
              "<Figure size 432x288 with 2 Axes>"
            ],
            "image/png": "[encoded data removed]"
          },
          "metadata": {
            "needs_background": "light"
          }
        }
      ]
    },
    {
      "cell_type": "markdown",
      "source": [
        "# Positive Sentiment Forecast"
      ],
      "metadata": {
        "id": "xndQmCS16Vu9"
      }
    },
    {
      "cell_type": "code",
      "source": [
        "pos_df = df[df['Vader_sentiment']=='Positive']\n",
        "neg_df = df[df['Vader_sentiment']=='Negative']\n",
        "neu_df = df[df['Vader_sentiment']=='Neutral']\n",
        "\n",
        "pos_df['Time'] = pos_df.index\n",
        "neg_df['Time'] = neg_df.index\n",
        "neu_df['Time'] = neu_df.index"
      ],
      "metadata": {
        "id": "Lr6RJi1Ps3g2"
      },
      "execution_count": 161,
      "outputs": []
    },
    {
      "cell_type": "code",
      "source": [
        "ob1 = Capestone()\n",
        "ob1.checkStationarity(df=pos_df,col1='reviewTime',col2='Vader_score',rt='M') "
      ],
      "metadata": {
        "id": "Wtk6NngFcVKu",
        "outputId": "3dd32821-e876-4c37-b53c-5888ce253e96",
        "colab": {
          "base_uri": "https://localhost:8080/",
          "height": 473
        }
      },
      "execution_count": 162,
      "outputs": [
        {
          "output_type": "stream",
          "name": "stdout",
          "text": [
            "p-value = 0.8582107530100551 Data is not Stationary\n"
          ]
        },
        {
          "output_type": "execute_result",
          "data": {
            "text/plain": [
              "            Vader_score       Time\n",
              "reviewTime                        \n",
              "2005-12-31     0.802957 2005-12-31\n",
              "2006-01-31     0.926013 2006-01-31\n",
              "2006-02-28     0.747836 2006-02-28\n",
              "2006-03-31     0.776058 2006-03-31\n",
              "2006-04-30     0.883300 2006-04-30\n",
              "...                 ...        ...\n",
              "2018-06-30     0.659726 2018-06-30\n",
              "2018-07-31     0.673614 2018-07-31\n",
              "2018-08-31     0.654475 2018-08-31\n",
              "2018-09-30     0.663749 2018-09-30\n",
              "2018-10-31     0.771550 2018-10-31\n",
              "\n",
              "[155 rows x 2 columns]"
            ],
            "text/html": [
              "\n",
              "  <div id=\"df-bd7687ef-3d17-4835-a2cf-b713fed9455d\">\n",
              "    <div class=\"colab-df-container\">\n",
              "      <div>\n",
              "<style scoped>\n",
              "    .dataframe tbody tr th:only-of-type {\n",
              "        vertical-align: middle;\n",
              "    }\n",
              "\n",
              "    .dataframe tbody tr th {\n",
              "        vertical-align: top;\n",
              "    }\n",
              "\n",
              "    .dataframe thead th {\n",
              "        text-align: right;\n",
              "    }\n",
              "</style>\n",
              "<table border=\"1\" class=\"dataframe\">\n",
              "  <thead>\n",
              "    <tr style=\"text-align: right;\">\n",
              "      <th></th>\n",
              "      <th>Vader_score</th>\n",
              "      <th>Time</th>\n",
              "    </tr>\n",
              "    <tr>\n",
              "      <th>reviewTime</th>\n",
              "      <th></th>\n",
              "      <th></th>\n",
              "    </tr>\n",
              "  </thead>\n",
              "  <tbody>\n",
              "    <tr>\n",
              "      <th>2005-12-31</th>\n",
              "      <td>0.802957</td>\n",
              "      <td>2005-12-31</td>\n",
              "    </tr>\n",
              "    <tr>\n",
              "      <th>2006-01-31</th>\n",
              "      <td>0.926013</td>\n",
              "      <td>2006-01-31</td>\n",
              "    </tr>\n",
              "    <tr>\n",
              "      <th>2006-02-28</th>\n",
              "      <td>0.747836</td>\n",
              "      <td>2006-02-28</td>\n",
              "    </tr>\n",
              "    <tr>\n",
              "      <th>2006-03-31</th>\n",
              "      <td>0.776058</td>\n",
              "      <td>2006-03-31</td>\n",
              "    </tr>\n",
              "    <tr>\n",
              "      <th>2006-04-30</th>\n",
              "      <td>0.883300</td>\n",
              "      <td>2006-04-30</td>\n",
              "    </tr>\n",
              "    <tr>\n",
              "      <th>...</th>\n",
              "      <td>...</td>\n",
              "      <td>...</td>\n",
              "    </tr>\n",
              "    <tr>\n",
              "      <th>2018-06-30</th>\n",
              "      <td>0.659726</td>\n",
              "      <td>2018-06-30</td>\n",
              "    </tr>\n",
              "    <tr>\n",
              "      <th>2018-07-31</th>\n",
              "      <td>0.673614</td>\n",
              "      <td>2018-07-31</td>\n",
              "    </tr>\n",
              "    <tr>\n",
              "      <th>2018-08-31</th>\n",
              "      <td>0.654475</td>\n",
              "      <td>2018-08-31</td>\n",
              "    </tr>\n",
              "    <tr>\n",
              "      <th>2018-09-30</th>\n",
              "      <td>0.663749</td>\n",
              "      <td>2018-09-30</td>\n",
              "    </tr>\n",
              "    <tr>\n",
              "      <th>2018-10-31</th>\n",
              "      <td>0.771550</td>\n",
              "      <td>2018-10-31</td>\n",
              "    </tr>\n",
              "  </tbody>\n",
              "</table>\n",
              "<p>155 rows × 2 columns</p>\n",
              "</div>\n",
              "      <button class=\"colab-df-convert\" onclick=\"convertToInteractive('df-bd7687ef-3d17-4835-a2cf-b713fed9455d')\"\n",
              "              title=\"Convert this dataframe to an interactive table.\"\n",
              "              style=\"display:none;\">\n",
              "        \n",
              "  <svg xmlns=\"http://www.w3.org/2000/svg\" height=\"24px\"viewBox=\"0 0 24 24\"\n",
              "       width=\"24px\">\n",
              "    <path d=\"M0 0h24v24H0V0z\" fill=\"none\"/>\n",
              "    <path d=\"M18.56 5.44l.94 2.06.94-2.06 2.06-.94-2.06-.94-.94-2.06-.94 2.06-2.06.94zm-11 1L8.5 8.5l.94-2.06 2.06-.94-2.06-.94L8.5 2.5l-.94 2.06-2.06.94zm10 10l.94 2.06.94-2.06 2.06-.94-2.06-.94-.94-2.06-.94 2.06-2.06.94z\"/><path d=\"M17.41 7.96l-1.37-1.37c-.4-.4-.92-.59-1.43-.59-.52 0-1.04.2-1.43.59L10.3 9.45l-7.72 7.72c-.78.78-.78 2.05 0 2.83L4 21.41c.39.39.9.59 1.41.59.51 0 1.02-.2 1.41-.59l7.78-7.78 2.81-2.81c.8-.78.8-2.07 0-2.86zM5.41 20L4 18.59l7.72-7.72 1.47 1.35L5.41 20z\"/>\n",
              "  </svg>\n",
              "      </button>\n",
              "      \n",
              "  <style>\n",
              "    .colab-df-container {\n",
              "      display:flex;\n",
              "      flex-wrap:wrap;\n",
              "      gap: 12px;\n",
              "    }\n",
              "\n",
              "    .colab-df-convert {\n",
              "      background-color: #E8F0FE;\n",
              "      border: none;\n",
              "      border-radius: 50%;\n",
              "      cursor: pointer;\n",
              "      display: none;\n",
              "      fill: #1967D2;\n",
              "      height: 32px;\n",
              "      padding: 0 0 0 0;\n",
              "      width: 32px;\n",
              "    }\n",
              "\n",
              "    .colab-df-convert:hover {\n",
              "      background-color: #E2EBFA;\n",
              "      box-shadow: 0px 1px 2px rgba(60, 64, 67, 0.3), 0px 1px 3px 1px rgba(60, 64, 67, 0.15);\n",
              "      fill: #174EA6;\n",
              "    }\n",
              "\n",
              "    [theme=dark] .colab-df-convert {\n",
              "      background-color: #3B4455;\n",
              "      fill: #D2E3FC;\n",
              "    }\n",
              "\n",
              "    [theme=dark] .colab-df-convert:hover {\n",
              "      background-color: #434B5C;\n",
              "      box-shadow: 0px 1px 3px 1px rgba(0, 0, 0, 0.15);\n",
              "      filter: drop-shadow(0px 1px 2px rgba(0, 0, 0, 0.3));\n",
              "      fill: #FFFFFF;\n",
              "    }\n",
              "  </style>\n",
              "\n",
              "      <script>\n",
              "        const buttonEl =\n",
              "          document.querySelector('#df-bd7687ef-3d17-4835-a2cf-b713fed9455d button.colab-df-convert');\n",
              "        buttonEl.style.display =\n",
              "          google.colab.kernel.accessAllowed ? 'block' : 'none';\n",
              "\n",
              "        async function convertToInteractive(key) {\n",
              "          const element = document.querySelector('#df-bd7687ef-3d17-4835-a2cf-b713fed9455d');\n",
              "          const dataTable =\n",
              "            await google.colab.kernel.invokeFunction('convertToInteractive',\n",
              "                                                     [key], {});\n",
              "          if (!dataTable) return;\n",
              "\n",
              "          const docLinkHtml = 'Like what you see? Visit the ' +\n",
              "            '<a target=\"_blank\" href=https://colab.research.google.com/notebooks/data_table.ipynb>data table notebook</a>'\n",
              "            + ' to learn more about interactive tables.';\n",
              "          element.innerHTML = '';\n",
              "          dataTable['output_type'] = 'display_data';\n",
              "          await google.colab.output.renderOutput(dataTable, element);\n",
              "          const docLink = document.createElement('div');\n",
              "          docLink.innerHTML = docLinkHtml;\n",
              "          element.appendChild(docLink);\n",
              "        }\n",
              "      </script>\n",
              "    </div>\n",
              "  </div>\n",
              "  "
            ]
          },
          "metadata": {},
          "execution_count": 162
        }
      ]
    },
    {
      "cell_type": "code",
      "source": [
        "ob2 = Capestone()\n",
        "ob2.shift_trail(df=pos_df)"
      ],
      "metadata": {
        "colab": {
          "base_uri": "https://localhost:8080/"
        },
        "id": "piG1scZ1B3rW",
        "outputId": "f4df7e70-fe78-4ccf-b1b7-28b54f3fc54e"
      },
      "execution_count": 163,
      "outputs": [
        {
          "output_type": "stream",
          "name": "stdout",
          "text": [
            "p-value = 0.8582107530100551 Data is not Stationary\n",
            "shifting of 1\n",
            "p-value = 4.03787818149174e-07 Data is Stationary\n",
            "shifting of 2\n",
            "p-value = 2.40269999189333e-06 Data is Stationary\n"
          ]
        }
      ]
    },
    {
      "cell_type": "code",
      "source": [
        "ob3 = Capestone()\n",
        "ob3.pacf_acf(df=pos_df,stamp='20180930')"
      ],
      "metadata": {
        "id": "kVTJqGX5cjp3",
        "outputId": "6e0fc249-2ec8-460f-a5db-8364e731b98a",
        "colab": {
          "base_uri": "https://localhost:8080/",
          "height": 338
        }
      },
      "execution_count": 164,
      "outputs": [
        {
          "output_type": "stream",
          "name": "stdout",
          "text": [
            "p-value = 0.8582107530100551 Data is not Stationary\n"
          ]
        },
        {
          "output_type": "error",
          "ename": "IndexError",
          "evalue": "ignored",
          "traceback": [
            "\u001b[0;31m---------------------------------------------------------------------------\u001b[0m",
            "\u001b[0;31mIndexError\u001b[0m                                Traceback (most recent call last)",
            "\u001b[0;32m<ipython-input-164-663817b3da9f>\u001b[0m in \u001b[0;36m<module>\u001b[0;34m\u001b[0m\n\u001b[1;32m      1\u001b[0m \u001b[0mob3\u001b[0m \u001b[0;34m=\u001b[0m \u001b[0mCapestone\u001b[0m\u001b[0;34m(\u001b[0m\u001b[0;34m)\u001b[0m\u001b[0;34m\u001b[0m\u001b[0;34m\u001b[0m\u001b[0m\n\u001b[0;32m----> 2\u001b[0;31m \u001b[0mob3\u001b[0m\u001b[0;34m.\u001b[0m\u001b[0mpacf_acf\u001b[0m\u001b[0;34m(\u001b[0m\u001b[0mdf\u001b[0m\u001b[0;34m=\u001b[0m\u001b[0mpos_df\u001b[0m\u001b[0;34m,\u001b[0m\u001b[0mstamp\u001b[0m\u001b[0;34m=\u001b[0m\u001b[0;34m'20180930'\u001b[0m\u001b[0;34m)\u001b[0m\u001b[0;34m\u001b[0m\u001b[0;34m\u001b[0m\u001b[0m\n\u001b[0m",
            "\u001b[0;32m<ipython-input-159-329143eeed0b>\u001b[0m in \u001b[0;36mpacf_acf\u001b[0;34m(self, df, stamp, col1, col2, rt)\u001b[0m\n\u001b[1;32m    113\u001b[0m \u001b[0;34m\u001b[0m\u001b[0m\n\u001b[1;32m    114\u001b[0m     \u001b[0midx\u001b[0m \u001b[0;34m=\u001b[0m \u001b[0mnp\u001b[0m\u001b[0;34m.\u001b[0m\u001b[0mwhere\u001b[0m\u001b[0;34m(\u001b[0m\u001b[0mtsdf\u001b[0m\u001b[0;34m.\u001b[0m\u001b[0misnull\u001b[0m\u001b[0;34m(\u001b[0m\u001b[0;34m)\u001b[0m\u001b[0;34m==\u001b[0m\u001b[0;32mTrue\u001b[0m\u001b[0;34m)\u001b[0m\u001b[0;34m\u001b[0m\u001b[0;34m\u001b[0m\u001b[0m\n\u001b[0;32m--> 115\u001b[0;31m     \u001b[0mindex\u001b[0m \u001b[0;34m=\u001b[0m \u001b[0midx\u001b[0m\u001b[0;34m[\u001b[0m\u001b[0;36m0\u001b[0m\u001b[0;34m]\u001b[0m\u001b[0;34m[\u001b[0m\u001b[0;34m-\u001b[0m\u001b[0;36m1\u001b[0m\u001b[0;34m]\u001b[0m\u001b[0;34m+\u001b[0m\u001b[0;36m1\u001b[0m\u001b[0;34m\u001b[0m\u001b[0;34m\u001b[0m\u001b[0m\n\u001b[0m\u001b[1;32m    116\u001b[0m     \u001b[0mtsdf\u001b[0m \u001b[0;34m=\u001b[0m \u001b[0mtsdf\u001b[0m\u001b[0;34m.\u001b[0m\u001b[0miloc\u001b[0m\u001b[0;34m[\u001b[0m\u001b[0mindex\u001b[0m\u001b[0;34m:\u001b[0m\u001b[0;34m,\u001b[0m\u001b[0;34m:\u001b[0m\u001b[0;34m]\u001b[0m \u001b[0;31m#10\u001b[0m\u001b[0;34m\u001b[0m\u001b[0;34m\u001b[0m\u001b[0m\n\u001b[1;32m    117\u001b[0m \u001b[0;34m\u001b[0m\u001b[0m\n",
            "\u001b[0;31mIndexError\u001b[0m: index -1 is out of bounds for axis 0 with size 0"
          ]
        }
      ]
    },
    {
      "cell_type": "code",
      "source": [
        "ob3 = Capestone()\n",
        "ob3.model(ARIMA(4,1,14),df=pos_df ,col1 = 'reviewTime', col2 = 'Vader_score',stamp='20180930') "
      ],
      "metadata": {
        "id": "X41oaUHgso_b"
      },
      "execution_count": null,
      "outputs": []
    },
    {
      "cell_type": "code",
      "source": [
        "exp_model = ExponentialSmoothing(seasonal_periods=12)\n",
        "ob3.model(exp_model , df=pos_df ,col1 = 'reviewTime', col2 = 'Vader_score',stamp='20181031') "
      ],
      "metadata": {
        "id": "y3GbMuQq381u"
      },
      "execution_count": null,
      "outputs": []
    },
    {
      "cell_type": "code",
      "source": [
        "ob3.model(Theta() , df=pos_df ,col1 = 'reviewTime', col2 = 'Vader_score',stamp='20181031') "
      ],
      "metadata": {
        "id": "pzaljjEk5p25"
      },
      "execution_count": null,
      "outputs": []
    },
    {
      "cell_type": "code",
      "source": [
        "ob3.model(Prophet() , df=pos_df ,col1 = 'reviewTime', col2 = 'Vader_score',stamp='20181031') "
      ],
      "metadata": {
        "id": "CYKBn4wE58YJ"
      },
      "execution_count": null,
      "outputs": []
    },
    {
      "cell_type": "markdown",
      "source": [
        "# Negative Sentiment Forecast"
      ],
      "metadata": {
        "id": "C_D62yX46hX8"
      }
    },
    {
      "cell_type": "code",
      "source": [
        "ob1.checkStationarity(df=neg_df,col1='reviewTime',col2='Vader_score',rt='M') "
      ],
      "metadata": {
        "id": "nNOTSy_g6kbw",
        "outputId": "5fba19f6-6c48-459d-8c74-218e0fb22ff9",
        "colab": {
          "base_uri": "https://localhost:8080/",
          "height": 473
        }
      },
      "execution_count": 70,
      "outputs": [
        {
          "output_type": "stream",
          "name": "stdout",
          "text": [
            "p-value = 0.5999713846035494 Data is not Stationary\n"
          ]
        },
        {
          "output_type": "execute_result",
          "data": {
            "text/plain": [
              "            Vader_score       Time\n",
              "reviewTime                        \n",
              "2008-02-29    -0.651360 2008-02-29\n",
              "2008-03-31    -0.416357 2008-03-31\n",
              "2008-04-30    -0.466162 2008-04-30\n",
              "2008-05-31    -0.575443 2008-05-31\n",
              "2008-06-30    -0.461470 2008-06-30\n",
              "...                 ...        ...\n",
              "2018-05-31    -0.475170 2018-05-31\n",
              "2018-06-30    -0.474670 2018-06-30\n",
              "2018-07-31    -0.488317 2018-07-31\n",
              "2018-08-31    -0.461141 2018-08-31\n",
              "2018-09-30    -0.506736 2018-09-30\n",
              "\n",
              "[128 rows x 2 columns]"
            ],
            "text/html": [
              "\n",
              "  <div id=\"df-bfaaccf0-9bef-4b04-882d-4bf5c087baab\">\n",
              "    <div class=\"colab-df-container\">\n",
              "      <div>\n",
              "<style scoped>\n",
              "    .dataframe tbody tr th:only-of-type {\n",
              "        vertical-align: middle;\n",
              "    }\n",
              "\n",
              "    .dataframe tbody tr th {\n",
              "        vertical-align: top;\n",
              "    }\n",
              "\n",
              "    .dataframe thead th {\n",
              "        text-align: right;\n",
              "    }\n",
              "</style>\n",
              "<table border=\"1\" class=\"dataframe\">\n",
              "  <thead>\n",
              "    <tr style=\"text-align: right;\">\n",
              "      <th></th>\n",
              "      <th>Vader_score</th>\n",
              "      <th>Time</th>\n",
              "    </tr>\n",
              "    <tr>\n",
              "      <th>reviewTime</th>\n",
              "      <th></th>\n",
              "      <th></th>\n",
              "    </tr>\n",
              "  </thead>\n",
              "  <tbody>\n",
              "    <tr>\n",
              "      <th>2008-02-29</th>\n",
              "      <td>-0.651360</td>\n",
              "      <td>2008-02-29</td>\n",
              "    </tr>\n",
              "    <tr>\n",
              "      <th>2008-03-31</th>\n",
              "      <td>-0.416357</td>\n",
              "      <td>2008-03-31</td>\n",
              "    </tr>\n",
              "    <tr>\n",
              "      <th>2008-04-30</th>\n",
              "      <td>-0.466162</td>\n",
              "      <td>2008-04-30</td>\n",
              "    </tr>\n",
              "    <tr>\n",
              "      <th>2008-05-31</th>\n",
              "      <td>-0.575443</td>\n",
              "      <td>2008-05-31</td>\n",
              "    </tr>\n",
              "    <tr>\n",
              "      <th>2008-06-30</th>\n",
              "      <td>-0.461470</td>\n",
              "      <td>2008-06-30</td>\n",
              "    </tr>\n",
              "    <tr>\n",
              "      <th>...</th>\n",
              "      <td>...</td>\n",
              "      <td>...</td>\n",
              "    </tr>\n",
              "    <tr>\n",
              "      <th>2018-05-31</th>\n",
              "      <td>-0.475170</td>\n",
              "      <td>2018-05-31</td>\n",
              "    </tr>\n",
              "    <tr>\n",
              "      <th>2018-06-30</th>\n",
              "      <td>-0.474670</td>\n",
              "      <td>2018-06-30</td>\n",
              "    </tr>\n",
              "    <tr>\n",
              "      <th>2018-07-31</th>\n",
              "      <td>-0.488317</td>\n",
              "      <td>2018-07-31</td>\n",
              "    </tr>\n",
              "    <tr>\n",
              "      <th>2018-08-31</th>\n",
              "      <td>-0.461141</td>\n",
              "      <td>2018-08-31</td>\n",
              "    </tr>\n",
              "    <tr>\n",
              "      <th>2018-09-30</th>\n",
              "      <td>-0.506736</td>\n",
              "      <td>2018-09-30</td>\n",
              "    </tr>\n",
              "  </tbody>\n",
              "</table>\n",
              "<p>128 rows × 2 columns</p>\n",
              "</div>\n",
              "      <button class=\"colab-df-convert\" onclick=\"convertToInteractive('df-bfaaccf0-9bef-4b04-882d-4bf5c087baab')\"\n",
              "              title=\"Convert this dataframe to an interactive table.\"\n",
              "              style=\"display:none;\">\n",
              "        \n",
              "  <svg xmlns=\"http://www.w3.org/2000/svg\" height=\"24px\"viewBox=\"0 0 24 24\"\n",
              "       width=\"24px\">\n",
              "    <path d=\"M0 0h24v24H0V0z\" fill=\"none\"/>\n",
              "    <path d=\"M18.56 5.44l.94 2.06.94-2.06 2.06-.94-2.06-.94-.94-2.06-.94 2.06-2.06.94zm-11 1L8.5 8.5l.94-2.06 2.06-.94-2.06-.94L8.5 2.5l-.94 2.06-2.06.94zm10 10l.94 2.06.94-2.06 2.06-.94-2.06-.94-.94-2.06-.94 2.06-2.06.94z\"/><path d=\"M17.41 7.96l-1.37-1.37c-.4-.4-.92-.59-1.43-.59-.52 0-1.04.2-1.43.59L10.3 9.45l-7.72 7.72c-.78.78-.78 2.05 0 2.83L4 21.41c.39.39.9.59 1.41.59.51 0 1.02-.2 1.41-.59l7.78-7.78 2.81-2.81c.8-.78.8-2.07 0-2.86zM5.41 20L4 18.59l7.72-7.72 1.47 1.35L5.41 20z\"/>\n",
              "  </svg>\n",
              "      </button>\n",
              "      \n",
              "  <style>\n",
              "    .colab-df-container {\n",
              "      display:flex;\n",
              "      flex-wrap:wrap;\n",
              "      gap: 12px;\n",
              "    }\n",
              "\n",
              "    .colab-df-convert {\n",
              "      background-color: #E8F0FE;\n",
              "      border: none;\n",
              "      border-radius: 50%;\n",
              "      cursor: pointer;\n",
              "      display: none;\n",
              "      fill: #1967D2;\n",
              "      height: 32px;\n",
              "      padding: 0 0 0 0;\n",
              "      width: 32px;\n",
              "    }\n",
              "\n",
              "    .colab-df-convert:hover {\n",
              "      background-color: #E2EBFA;\n",
              "      box-shadow: 0px 1px 2px rgba(60, 64, 67, 0.3), 0px 1px 3px 1px rgba(60, 64, 67, 0.15);\n",
              "      fill: #174EA6;\n",
              "    }\n",
              "\n",
              "    [theme=dark] .colab-df-convert {\n",
              "      background-color: #3B4455;\n",
              "      fill: #D2E3FC;\n",
              "    }\n",
              "\n",
              "    [theme=dark] .colab-df-convert:hover {\n",
              "      background-color: #434B5C;\n",
              "      box-shadow: 0px 1px 3px 1px rgba(0, 0, 0, 0.15);\n",
              "      filter: drop-shadow(0px 1px 2px rgba(0, 0, 0, 0.3));\n",
              "      fill: #FFFFFF;\n",
              "    }\n",
              "  </style>\n",
              "\n",
              "      <script>\n",
              "        const buttonEl =\n",
              "          document.querySelector('#df-bfaaccf0-9bef-4b04-882d-4bf5c087baab button.colab-df-convert');\n",
              "        buttonEl.style.display =\n",
              "          google.colab.kernel.accessAllowed ? 'block' : 'none';\n",
              "\n",
              "        async function convertToInteractive(key) {\n",
              "          const element = document.querySelector('#df-bfaaccf0-9bef-4b04-882d-4bf5c087baab');\n",
              "          const dataTable =\n",
              "            await google.colab.kernel.invokeFunction('convertToInteractive',\n",
              "                                                     [key], {});\n",
              "          if (!dataTable) return;\n",
              "\n",
              "          const docLinkHtml = 'Like what you see? Visit the ' +\n",
              "            '<a target=\"_blank\" href=https://colab.research.google.com/notebooks/data_table.ipynb>data table notebook</a>'\n",
              "            + ' to learn more about interactive tables.';\n",
              "          element.innerHTML = '';\n",
              "          dataTable['output_type'] = 'display_data';\n",
              "          await google.colab.output.renderOutput(dataTable, element);\n",
              "          const docLink = document.createElement('div');\n",
              "          docLink.innerHTML = docLinkHtml;\n",
              "          element.appendChild(docLink);\n",
              "        }\n",
              "      </script>\n",
              "    </div>\n",
              "  </div>\n",
              "  "
            ]
          },
          "metadata": {},
          "execution_count": 70
        }
      ]
    },
    {
      "cell_type": "code",
      "source": [
        "ob2.shift_trail(df=neg_df) "
      ],
      "metadata": {
        "id": "tPDg0UJa6kWl",
        "outputId": "fc48c53c-f177-4754-f4fb-96c8ec7b0784",
        "colab": {
          "base_uri": "https://localhost:8080/"
        }
      },
      "execution_count": 71,
      "outputs": [
        {
          "output_type": "stream",
          "name": "stdout",
          "text": [
            "p-value = 0.5999713846035494 Data is not Stationary\n",
            "shifting of 1\n",
            "p-value = 1.302029627100839e-09 Data is Stationary\n",
            "shifting of 2\n",
            "p-value = 4.3335347742480673e-07 Data is Stationary\n"
          ]
        }
      ]
    },
    {
      "cell_type": "code",
      "source": [
        "ob3.pacf_acf(df=neg_df,stamp='20180930')"
      ],
      "metadata": {
        "id": "yQBOE-JR6kQk",
        "outputId": "ab76ac55-2613-4362-bf05-9a35c87f1958",
        "colab": {
          "base_uri": "https://localhost:8080/",
          "height": 621
        }
      },
      "execution_count": 72,
      "outputs": [
        {
          "output_type": "display_data",
          "data": {
            "text/plain": [
              "<Figure size 720x360 with 1 Axes>"
            ],
            "image/png": "[encoded data removed]"
          },
          "metadata": {
            "needs_background": "light"
          }
        },
        {
          "output_type": "display_data",
          "data": {
            "text/plain": [
              "<Figure size 720x360 with 1 Axes>"
            ],
            "image/png": "[encoded data removed]"
          },
          "metadata": {
            "needs_background": "light"
          }
        }
      ]
    },
    {
      "cell_type": "code",
      "source": [
        "ob3.model(ARIMA(5,1,2),df=neg_df ,col1 = 'reviewTime', col2 = 'Vader_score',stamp='20180930')"
      ],
      "metadata": {
        "id": "AtLxDWCX6kK_",
        "outputId": "b87c1154-7971-49c0-c535-2e4d2f8a436c",
        "colab": {
          "base_uri": "https://localhost:8080/",
          "height": 526
        }
      },
      "execution_count": 73,
      "outputs": [
        {
          "output_type": "execute_result",
          "data": {
            "text/plain": [
              "            model       mse      rmse      mape  execution_time\n",
              "0  ARIMA(5, 1, 2)  0.001689  0.041092  8.824734        0.645718"
            ],
            "text/html": [
              "\n",
              "  <div id=\"df-d3134a1a-4e61-47ae-ad6a-eeca6a756b25\">\n",
              "    <div class=\"colab-df-container\">\n",
              "      <div>\n",
              "<style scoped>\n",
              "    .dataframe tbody tr th:only-of-type {\n",
              "        vertical-align: middle;\n",
              "    }\n",
              "\n",
              "    .dataframe tbody tr th {\n",
              "        vertical-align: top;\n",
              "    }\n",
              "\n",
              "    .dataframe thead th {\n",
              "        text-align: right;\n",
              "    }\n",
              "</style>\n",
              "<table border=\"1\" class=\"dataframe\">\n",
              "  <thead>\n",
              "    <tr style=\"text-align: right;\">\n",
              "      <th></th>\n",
              "      <th>model</th>\n",
              "      <th>mse</th>\n",
              "      <th>rmse</th>\n",
              "      <th>mape</th>\n",
              "      <th>execution_time</th>\n",
              "    </tr>\n",
              "  </thead>\n",
              "  <tbody>\n",
              "    <tr>\n",
              "      <th>0</th>\n",
              "      <td>ARIMA(5, 1, 2)</td>\n",
              "      <td>0.001689</td>\n",
              "      <td>0.041092</td>\n",
              "      <td>8.824734</td>\n",
              "      <td>0.645718</td>\n",
              "    </tr>\n",
              "  </tbody>\n",
              "</table>\n",
              "</div>\n",
              "      <button class=\"colab-df-convert\" onclick=\"convertToInteractive('df-d3134a1a-4e61-47ae-ad6a-eeca6a756b25')\"\n",
              "              title=\"Convert this dataframe to an interactive table.\"\n",
              "              style=\"display:none;\">\n",
              "        \n",
              "  <svg xmlns=\"http://www.w3.org/2000/svg\" height=\"24px\"viewBox=\"0 0 24 24\"\n",
              "       width=\"24px\">\n",
              "    <path d=\"M0 0h24v24H0V0z\" fill=\"none\"/>\n",
              "    <path d=\"M18.56 5.44l.94 2.06.94-2.06 2.06-.94-2.06-.94-.94-2.06-.94 2.06-2.06.94zm-11 1L8.5 8.5l.94-2.06 2.06-.94-2.06-.94L8.5 2.5l-.94 2.06-2.06.94zm10 10l.94 2.06.94-2.06 2.06-.94-2.06-.94-.94-2.06-.94 2.06-2.06.94z\"/><path d=\"M17.41 7.96l-1.37-1.37c-.4-.4-.92-.59-1.43-.59-.52 0-1.04.2-1.43.59L10.3 9.45l-7.72 7.72c-.78.78-.78 2.05 0 2.83L4 21.41c.39.39.9.59 1.41.59.51 0 1.02-.2 1.41-.59l7.78-7.78 2.81-2.81c.8-.78.8-2.07 0-2.86zM5.41 20L4 18.59l7.72-7.72 1.47 1.35L5.41 20z\"/>\n",
              "  </svg>\n",
              "      </button>\n",
              "      \n",
              "  <style>\n",
              "    .colab-df-container {\n",
              "      display:flex;\n",
              "      flex-wrap:wrap;\n",
              "      gap: 12px;\n",
              "    }\n",
              "\n",
              "    .colab-df-convert {\n",
              "      background-color: #E8F0FE;\n",
              "      border: none;\n",
              "      border-radius: 50%;\n",
              "      cursor: pointer;\n",
              "      display: none;\n",
              "      fill: #1967D2;\n",
              "      height: 32px;\n",
              "      padding: 0 0 0 0;\n",
              "      width: 32px;\n",
              "    }\n",
              "\n",
              "    .colab-df-convert:hover {\n",
              "      background-color: #E2EBFA;\n",
              "      box-shadow: 0px 1px 2px rgba(60, 64, 67, 0.3), 0px 1px 3px 1px rgba(60, 64, 67, 0.15);\n",
              "      fill: #174EA6;\n",
              "    }\n",
              "\n",
              "    [theme=dark] .colab-df-convert {\n",
              "      background-color: #3B4455;\n",
              "      fill: #D2E3FC;\n",
              "    }\n",
              "\n",
              "    [theme=dark] .colab-df-convert:hover {\n",
              "      background-color: #434B5C;\n",
              "      box-shadow: 0px 1px 3px 1px rgba(0, 0, 0, 0.15);\n",
              "      filter: drop-shadow(0px 1px 2px rgba(0, 0, 0, 0.3));\n",
              "      fill: #FFFFFF;\n",
              "    }\n",
              "  </style>\n",
              "\n",
              "      <script>\n",
              "        const buttonEl =\n",
              "          document.querySelector('#df-d3134a1a-4e61-47ae-ad6a-eeca6a756b25 button.colab-df-convert');\n",
              "        buttonEl.style.display =\n",
              "          google.colab.kernel.accessAllowed ? 'block' : 'none';\n",
              "\n",
              "        async function convertToInteractive(key) {\n",
              "          const element = document.querySelector('#df-d3134a1a-4e61-47ae-ad6a-eeca6a756b25');\n",
              "          const dataTable =\n",
              "            await google.colab.kernel.invokeFunction('convertToInteractive',\n",
              "                                                     [key], {});\n",
              "          if (!dataTable) return;\n",
              "\n",
              "          const docLinkHtml = 'Like what you see? Visit the ' +\n",
              "            '<a target=\"_blank\" href=https://colab.research.google.com/notebooks/data_table.ipynb>data table notebook</a>'\n",
              "            + ' to learn more about interactive tables.';\n",
              "          element.innerHTML = '';\n",
              "          dataTable['output_type'] = 'display_data';\n",
              "          await google.colab.output.renderOutput(dataTable, element);\n",
              "          const docLink = document.createElement('div');\n",
              "          docLink.innerHTML = docLinkHtml;\n",
              "          element.appendChild(docLink);\n",
              "        }\n",
              "      </script>\n",
              "    </div>\n",
              "  </div>\n",
              "  "
            ]
          },
          "metadata": {},
          "execution_count": 73
        },
        {
          "output_type": "display_data",
          "data": {
            "text/plain": [
              "<Figure size 864x504 with 1 Axes>"
            ],
            "image/png": "[encoded data removed]"
          },
          "metadata": {
            "needs_background": "light"
          }
        }
      ]
    },
    {
      "cell_type": "code",
      "source": [
        "ob3.model(ExponentialSmoothing(seasonal_periods=12),df=neg_df ,col1 = 'reviewTime', col2 = 'Vader_score',stamp='20180930')"
      ],
      "metadata": {
        "id": "7tyx1QIm6kF6",
        "outputId": "3d9dcb69-fee6-48a1-f1fd-d486c3496386",
        "colab": {
          "base_uri": "https://localhost:8080/",
          "height": 526
        }
      },
      "execution_count": 74,
      "outputs": [
        {
          "output_type": "execute_result",
          "data": {
            "text/plain": [
              "                                               model       mse      rmse  \\\n",
              "0  ExponentialSmoothing(trend=ModelMode.ADDITIVE,...  0.003354  0.057912   \n",
              "\n",
              "        mape  execution_time  \n",
              "0  12.902921        0.229928  "
            ],
            "text/html": [
              "\n",
              "  <div id=\"df-896d9c13-d7c2-42f1-820c-5cd90d3890d7\">\n",
              "    <div class=\"colab-df-container\">\n",
              "      <div>\n",
              "<style scoped>\n",
              "    .dataframe tbody tr th:only-of-type {\n",
              "        vertical-align: middle;\n",
              "    }\n",
              "\n",
              "    .dataframe tbody tr th {\n",
              "        vertical-align: top;\n",
              "    }\n",
              "\n",
              "    .dataframe thead th {\n",
              "        text-align: right;\n",
              "    }\n",
              "</style>\n",
              "<table border=\"1\" class=\"dataframe\">\n",
              "  <thead>\n",
              "    <tr style=\"text-align: right;\">\n",
              "      <th></th>\n",
              "      <th>model</th>\n",
              "      <th>mse</th>\n",
              "      <th>rmse</th>\n",
              "      <th>mape</th>\n",
              "      <th>execution_time</th>\n",
              "    </tr>\n",
              "  </thead>\n",
              "  <tbody>\n",
              "    <tr>\n",
              "      <th>0</th>\n",
              "      <td>ExponentialSmoothing(trend=ModelMode.ADDITIVE,...</td>\n",
              "      <td>0.003354</td>\n",
              "      <td>0.057912</td>\n",
              "      <td>12.902921</td>\n",
              "      <td>0.229928</td>\n",
              "    </tr>\n",
              "  </tbody>\n",
              "</table>\n",
              "</div>\n",
              "      <button class=\"colab-df-convert\" onclick=\"convertToInteractive('df-896d9c13-d7c2-42f1-820c-5cd90d3890d7')\"\n",
              "              title=\"Convert this dataframe to an interactive table.\"\n",
              "              style=\"display:none;\">\n",
              "        \n",
              "  <svg xmlns=\"http://www.w3.org/2000/svg\" height=\"24px\"viewBox=\"0 0 24 24\"\n",
              "       width=\"24px\">\n",
              "    <path d=\"M0 0h24v24H0V0z\" fill=\"none\"/>\n",
              "    <path d=\"M18.56 5.44l.94 2.06.94-2.06 2.06-.94-2.06-.94-.94-2.06-.94 2.06-2.06.94zm-11 1L8.5 8.5l.94-2.06 2.06-.94-2.06-.94L8.5 2.5l-.94 2.06-2.06.94zm10 10l.94 2.06.94-2.06 2.06-.94-2.06-.94-.94-2.06-.94 2.06-2.06.94z\"/><path d=\"M17.41 7.96l-1.37-1.37c-.4-.4-.92-.59-1.43-.59-.52 0-1.04.2-1.43.59L10.3 9.45l-7.72 7.72c-.78.78-.78 2.05 0 2.83L4 21.41c.39.39.9.59 1.41.59.51 0 1.02-.2 1.41-.59l7.78-7.78 2.81-2.81c.8-.78.8-2.07 0-2.86zM5.41 20L4 18.59l7.72-7.72 1.47 1.35L5.41 20z\"/>\n",
              "  </svg>\n",
              "      </button>\n",
              "      \n",
              "  <style>\n",
              "    .colab-df-container {\n",
              "      display:flex;\n",
              "      flex-wrap:wrap;\n",
              "      gap: 12px;\n",
              "    }\n",
              "\n",
              "    .colab-df-convert {\n",
              "      background-color: #E8F0FE;\n",
              "      border: none;\n",
              "      border-radius: 50%;\n",
              "      cursor: pointer;\n",
              "      display: none;\n",
              "      fill: #1967D2;\n",
              "      height: 32px;\n",
              "      padding: 0 0 0 0;\n",
              "      width: 32px;\n",
              "    }\n",
              "\n",
              "    .colab-df-convert:hover {\n",
              "      background-color: #E2EBFA;\n",
              "      box-shadow: 0px 1px 2px rgba(60, 64, 67, 0.3), 0px 1px 3px 1px rgba(60, 64, 67, 0.15);\n",
              "      fill: #174EA6;\n",
              "    }\n",
              "\n",
              "    [theme=dark] .colab-df-convert {\n",
              "      background-color: #3B4455;\n",
              "      fill: #D2E3FC;\n",
              "    }\n",
              "\n",
              "    [theme=dark] .colab-df-convert:hover {\n",
              "      background-color: #434B5C;\n",
              "      box-shadow: 0px 1px 3px 1px rgba(0, 0, 0, 0.15);\n",
              "      filter: drop-shadow(0px 1px 2px rgba(0, 0, 0, 0.3));\n",
              "      fill: #FFFFFF;\n",
              "    }\n",
              "  </style>\n",
              "\n",
              "      <script>\n",
              "        const buttonEl =\n",
              "          document.querySelector('#df-896d9c13-d7c2-42f1-820c-5cd90d3890d7 button.colab-df-convert');\n",
              "        buttonEl.style.display =\n",
              "          google.colab.kernel.accessAllowed ? 'block' : 'none';\n",
              "\n",
              "        async function convertToInteractive(key) {\n",
              "          const element = document.querySelector('#df-896d9c13-d7c2-42f1-820c-5cd90d3890d7');\n",
              "          const dataTable =\n",
              "            await google.colab.kernel.invokeFunction('convertToInteractive',\n",
              "                                                     [key], {});\n",
              "          if (!dataTable) return;\n",
              "\n",
              "          const docLinkHtml = 'Like what you see? Visit the ' +\n",
              "            '<a target=\"_blank\" href=https://colab.research.google.com/notebooks/data_table.ipynb>data table notebook</a>'\n",
              "            + ' to learn more about interactive tables.';\n",
              "          element.innerHTML = '';\n",
              "          dataTable['output_type'] = 'display_data';\n",
              "          await google.colab.output.renderOutput(dataTable, element);\n",
              "          const docLink = document.createElement('div');\n",
              "          docLink.innerHTML = docLinkHtml;\n",
              "          element.appendChild(docLink);\n",
              "        }\n",
              "      </script>\n",
              "    </div>\n",
              "  </div>\n",
              "  "
            ]
          },
          "metadata": {},
          "execution_count": 74
        },
        {
          "output_type": "display_data",
          "data": {
            "text/plain": [
              "<Figure size 864x504 with 1 Axes>"
            ],
            "image/png": "[encoded data removed]"
          },
          "metadata": {
            "needs_background": "light"
          }
        }
      ]
    },
    {
      "cell_type": "code",
      "source": [
        "ob3.model(Prophet(),df=neg_df ,col1 = 'reviewTime', col2 = 'Vader_score',stamp='20180930')"
      ],
      "metadata": {
        "id": "0jbh0xN96kBP",
        "outputId": "8a9bebb8-bda1-469b-f880-855538a8b37d",
        "colab": {
          "base_uri": "https://localhost:8080/",
          "height": 749
        }
      },
      "execution_count": 75,
      "outputs": [
        {
          "output_type": "stream",
          "name": "stderr",
          "text": [
            "INFO:prophet:Disabling weekly seasonality. Run prophet with weekly_seasonality=True to override this.\n",
            "INFO:prophet:Disabling daily seasonality. Run prophet with daily_seasonality=True to override this.\n",
            "DEBUG:cmdstanpy:input tempfile: /tmp/tmpnnn1ywxm/zr8p7dhh.json\n",
            "DEBUG:cmdstanpy:input tempfile: /tmp/tmpnnn1ywxm/cpmekqwf.json\n",
            "DEBUG:cmdstanpy:idx 0\n",
            "DEBUG:cmdstanpy:running CmdStan, num_threads: None\n",
            "DEBUG:cmdstanpy:CmdStan args: ['/usr/local/lib/python3.9/dist-packages/prophet/stan_model/prophet_model.bin', 'random', 'seed=66169', 'data', 'file=/tmp/tmpnnn1ywxm/zr8p7dhh.json', 'init=/tmp/tmpnnn1ywxm/cpmekqwf.json', 'output', 'file=/tmp/tmpnnn1ywxm/prophet_model6xy98ai_/prophet_model-20230320055802.csv', 'method=optimize', 'algorithm=lbfgs', 'iter=10000']\n",
            "05:58:02 - cmdstanpy - INFO - Chain [1] start processing\n",
            "INFO:cmdstanpy:Chain [1] start processing\n",
            "05:58:02 - cmdstanpy - INFO - Chain [1] done processing\n",
            "INFO:cmdstanpy:Chain [1] done processing\n"
          ]
        },
        {
          "output_type": "execute_result",
          "data": {
            "text/plain": [
              "     model       mse      rmse      mape  execution_time\n",
              "0  Prophet  0.003048  0.055205  12.22609         0.35769"
            ],
            "text/html": [
              "\n",
              "  <div id=\"df-fda0a3a5-548e-4a74-a837-3ad094db0500\">\n",
              "    <div class=\"colab-df-container\">\n",
              "      <div>\n",
              "<style scoped>\n",
              "    .dataframe tbody tr th:only-of-type {\n",
              "        vertical-align: middle;\n",
              "    }\n",
              "\n",
              "    .dataframe tbody tr th {\n",
              "        vertical-align: top;\n",
              "    }\n",
              "\n",
              "    .dataframe thead th {\n",
              "        text-align: right;\n",
              "    }\n",
              "</style>\n",
              "<table border=\"1\" class=\"dataframe\">\n",
              "  <thead>\n",
              "    <tr style=\"text-align: right;\">\n",
              "      <th></th>\n",
              "      <th>model</th>\n",
              "      <th>mse</th>\n",
              "      <th>rmse</th>\n",
              "      <th>mape</th>\n",
              "      <th>execution_time</th>\n",
              "    </tr>\n",
              "  </thead>\n",
              "  <tbody>\n",
              "    <tr>\n",
              "      <th>0</th>\n",
              "      <td>Prophet</td>\n",
              "      <td>0.003048</td>\n",
              "      <td>0.055205</td>\n",
              "      <td>12.22609</td>\n",
              "      <td>0.35769</td>\n",
              "    </tr>\n",
              "  </tbody>\n",
              "</table>\n",
              "</div>\n",
              "      <button class=\"colab-df-convert\" onclick=\"convertToInteractive('df-fda0a3a5-548e-4a74-a837-3ad094db0500')\"\n",
              "              title=\"Convert this dataframe to an interactive table.\"\n",
              "              style=\"display:none;\">\n",
              "        \n",
              "  <svg xmlns=\"http://www.w3.org/2000/svg\" height=\"24px\"viewBox=\"0 0 24 24\"\n",
              "       width=\"24px\">\n",
              "    <path d=\"M0 0h24v24H0V0z\" fill=\"none\"/>\n",
              "    <path d=\"M18.56 5.44l.94 2.06.94-2.06 2.06-.94-2.06-.94-.94-2.06-.94 2.06-2.06.94zm-11 1L8.5 8.5l.94-2.06 2.06-.94-2.06-.94L8.5 2.5l-.94 2.06-2.06.94zm10 10l.94 2.06.94-2.06 2.06-.94-2.06-.94-.94-2.06-.94 2.06-2.06.94z\"/><path d=\"M17.41 7.96l-1.37-1.37c-.4-.4-.92-.59-1.43-.59-.52 0-1.04.2-1.43.59L10.3 9.45l-7.72 7.72c-.78.78-.78 2.05 0 2.83L4 21.41c.39.39.9.59 1.41.59.51 0 1.02-.2 1.41-.59l7.78-7.78 2.81-2.81c.8-.78.8-2.07 0-2.86zM5.41 20L4 18.59l7.72-7.72 1.47 1.35L5.41 20z\"/>\n",
              "  </svg>\n",
              "      </button>\n",
              "      \n",
              "  <style>\n",
              "    .colab-df-container {\n",
              "      display:flex;\n",
              "      flex-wrap:wrap;\n",
              "      gap: 12px;\n",
              "    }\n",
              "\n",
              "    .colab-df-convert {\n",
              "      background-color: #E8F0FE;\n",
              "      border: none;\n",
              "      border-radius: 50%;\n",
              "      cursor: pointer;\n",
              "      display: none;\n",
              "      fill: #1967D2;\n",
              "      height: 32px;\n",
              "      padding: 0 0 0 0;\n",
              "      width: 32px;\n",
              "    }\n",
              "\n",
              "    .colab-df-convert:hover {\n",
              "      background-color: #E2EBFA;\n",
              "      box-shadow: 0px 1px 2px rgba(60, 64, 67, 0.3), 0px 1px 3px 1px rgba(60, 64, 67, 0.15);\n",
              "      fill: #174EA6;\n",
              "    }\n",
              "\n",
              "    [theme=dark] .colab-df-convert {\n",
              "      background-color: #3B4455;\n",
              "      fill: #D2E3FC;\n",
              "    }\n",
              "\n",
              "    [theme=dark] .colab-df-convert:hover {\n",
              "      background-color: #434B5C;\n",
              "      box-shadow: 0px 1px 3px 1px rgba(0, 0, 0, 0.15);\n",
              "      filter: drop-shadow(0px 1px 2px rgba(0, 0, 0, 0.3));\n",
              "      fill: #FFFFFF;\n",
              "    }\n",
              "  </style>\n",
              "\n",
              "      <script>\n",
              "        const buttonEl =\n",
              "          document.querySelector('#df-fda0a3a5-548e-4a74-a837-3ad094db0500 button.colab-df-convert');\n",
              "        buttonEl.style.display =\n",
              "          google.colab.kernel.accessAllowed ? 'block' : 'none';\n",
              "\n",
              "        async function convertToInteractive(key) {\n",
              "          const element = document.querySelector('#df-fda0a3a5-548e-4a74-a837-3ad094db0500');\n",
              "          const dataTable =\n",
              "            await google.colab.kernel.invokeFunction('convertToInteractive',\n",
              "                                                     [key], {});\n",
              "          if (!dataTable) return;\n",
              "\n",
              "          const docLinkHtml = 'Like what you see? Visit the ' +\n",
              "            '<a target=\"_blank\" href=https://colab.research.google.com/notebooks/data_table.ipynb>data table notebook</a>'\n",
              "            + ' to learn more about interactive tables.';\n",
              "          element.innerHTML = '';\n",
              "          dataTable['output_type'] = 'display_data';\n",
              "          await google.colab.output.renderOutput(dataTable, element);\n",
              "          const docLink = document.createElement('div');\n",
              "          docLink.innerHTML = docLinkHtml;\n",
              "          element.appendChild(docLink);\n",
              "        }\n",
              "      </script>\n",
              "    </div>\n",
              "  </div>\n",
              "  "
            ]
          },
          "metadata": {},
          "execution_count": 75
        },
        {
          "output_type": "display_data",
          "data": {
            "text/plain": [
              "<Figure size 864x504 with 1 Axes>"
            ],
            "image/png": "[encoded data removed]"
          },
          "metadata": {
            "needs_background": "light"
          }
        }
      ]
    },
    {
      "cell_type": "markdown",
      "source": [
        "## Neutral Sentiment Forecast"
      ],
      "metadata": {
        "id": "xhOarY9w9A6i"
      }
    },
    {
      "cell_type": "code",
      "source": [
        "ob1.checkStationarity(df=neu_df,col1='reviewTime',col2='Vader_score',rt='M') "
      ],
      "metadata": {
        "id": "IRIIUKp56jzI",
        "outputId": "ead8ccfd-0f0d-4e62-b62a-219b2133db86",
        "colab": {
          "base_uri": "https://localhost:8080/",
          "height": 473
        }
      },
      "execution_count": 76,
      "outputs": [
        {
          "output_type": "stream",
          "name": "stdout",
          "text": [
            "p-value = 0.30737998276064205 Data is not Stationary\n"
          ]
        },
        {
          "output_type": "execute_result",
          "data": {
            "text/plain": [
              "            Vader_score       Time\n",
              "reviewTime                        \n",
              "2008-06-30    -0.001380 2008-06-30\n",
              "2008-07-31     0.000000 2008-07-31\n",
              "2008-08-31     0.000000 2008-08-31\n",
              "2008-09-30     0.000000 2008-09-30\n",
              "2008-10-31     0.000000 2008-10-31\n",
              "...                 ...        ...\n",
              "2018-05-31     0.000885 2018-05-31\n",
              "2018-06-30    -0.000147 2018-06-30\n",
              "2018-07-31     0.000806 2018-07-31\n",
              "2018-08-31     0.000846 2018-08-31\n",
              "2018-09-30     0.000000 2018-09-30\n",
              "\n",
              "[124 rows x 2 columns]"
            ],
            "text/html": [
              "\n",
              "  <div id=\"df-c0d188f7-9f26-4547-8cfc-3910b4ce96b6\">\n",
              "    <div class=\"colab-df-container\">\n",
              "      <div>\n",
              "<style scoped>\n",
              "    .dataframe tbody tr th:only-of-type {\n",
              "        vertical-align: middle;\n",
              "    }\n",
              "\n",
              "    .dataframe tbody tr th {\n",
              "        vertical-align: top;\n",
              "    }\n",
              "\n",
              "    .dataframe thead th {\n",
              "        text-align: right;\n",
              "    }\n",
              "</style>\n",
              "<table border=\"1\" class=\"dataframe\">\n",
              "  <thead>\n",
              "    <tr style=\"text-align: right;\">\n",
              "      <th></th>\n",
              "      <th>Vader_score</th>\n",
              "      <th>Time</th>\n",
              "    </tr>\n",
              "    <tr>\n",
              "      <th>reviewTime</th>\n",
              "      <th></th>\n",
              "      <th></th>\n",
              "    </tr>\n",
              "  </thead>\n",
              "  <tbody>\n",
              "    <tr>\n",
              "      <th>2008-06-30</th>\n",
              "      <td>-0.001380</td>\n",
              "      <td>2008-06-30</td>\n",
              "    </tr>\n",
              "    <tr>\n",
              "      <th>2008-07-31</th>\n",
              "      <td>0.000000</td>\n",
              "      <td>2008-07-31</td>\n",
              "    </tr>\n",
              "    <tr>\n",
              "      <th>2008-08-31</th>\n",
              "      <td>0.000000</td>\n",
              "      <td>2008-08-31</td>\n",
              "    </tr>\n",
              "    <tr>\n",
              "      <th>2008-09-30</th>\n",
              "      <td>0.000000</td>\n",
              "      <td>2008-09-30</td>\n",
              "    </tr>\n",
              "    <tr>\n",
              "      <th>2008-10-31</th>\n",
              "      <td>0.000000</td>\n",
              "      <td>2008-10-31</td>\n",
              "    </tr>\n",
              "    <tr>\n",
              "      <th>...</th>\n",
              "      <td>...</td>\n",
              "      <td>...</td>\n",
              "    </tr>\n",
              "    <tr>\n",
              "      <th>2018-05-31</th>\n",
              "      <td>0.000885</td>\n",
              "      <td>2018-05-31</td>\n",
              "    </tr>\n",
              "    <tr>\n",
              "      <th>2018-06-30</th>\n",
              "      <td>-0.000147</td>\n",
              "      <td>2018-06-30</td>\n",
              "    </tr>\n",
              "    <tr>\n",
              "      <th>2018-07-31</th>\n",
              "      <td>0.000806</td>\n",
              "      <td>2018-07-31</td>\n",
              "    </tr>\n",
              "    <tr>\n",
              "      <th>2018-08-31</th>\n",
              "      <td>0.000846</td>\n",
              "      <td>2018-08-31</td>\n",
              "    </tr>\n",
              "    <tr>\n",
              "      <th>2018-09-30</th>\n",
              "      <td>0.000000</td>\n",
              "      <td>2018-09-30</td>\n",
              "    </tr>\n",
              "  </tbody>\n",
              "</table>\n",
              "<p>124 rows × 2 columns</p>\n",
              "</div>\n",
              "      <button class=\"colab-df-convert\" onclick=\"convertToInteractive('df-c0d188f7-9f26-4547-8cfc-3910b4ce96b6')\"\n",
              "              title=\"Convert this dataframe to an interactive table.\"\n",
              "              style=\"display:none;\">\n",
              "        \n",
              "  <svg xmlns=\"http://www.w3.org/2000/svg\" height=\"24px\"viewBox=\"0 0 24 24\"\n",
              "       width=\"24px\">\n",
              "    <path d=\"M0 0h24v24H0V0z\" fill=\"none\"/>\n",
              "    <path d=\"M18.56 5.44l.94 2.06.94-2.06 2.06-.94-2.06-.94-.94-2.06-.94 2.06-2.06.94zm-11 1L8.5 8.5l.94-2.06 2.06-.94-2.06-.94L8.5 2.5l-.94 2.06-2.06.94zm10 10l.94 2.06.94-2.06 2.06-.94-2.06-.94-.94-2.06-.94 2.06-2.06.94z\"/><path d=\"M17.41 7.96l-1.37-1.37c-.4-.4-.92-.59-1.43-.59-.52 0-1.04.2-1.43.59L10.3 9.45l-7.72 7.72c-.78.78-.78 2.05 0 2.83L4 21.41c.39.39.9.59 1.41.59.51 0 1.02-.2 1.41-.59l7.78-7.78 2.81-2.81c.8-.78.8-2.07 0-2.86zM5.41 20L4 18.59l7.72-7.72 1.47 1.35L5.41 20z\"/>\n",
              "  </svg>\n",
              "      </button>\n",
              "      \n",
              "  <style>\n",
              "    .colab-df-container {\n",
              "      display:flex;\n",
              "      flex-wrap:wrap;\n",
              "      gap: 12px;\n",
              "    }\n",
              "\n",
              "    .colab-df-convert {\n",
              "      background-color: #E8F0FE;\n",
              "      border: none;\n",
              "      border-radius: 50%;\n",
              "      cursor: pointer;\n",
              "      display: none;\n",
              "      fill: #1967D2;\n",
              "      height: 32px;\n",
              "      padding: 0 0 0 0;\n",
              "      width: 32px;\n",
              "    }\n",
              "\n",
              "    .colab-df-convert:hover {\n",
              "      background-color: #E2EBFA;\n",
              "      box-shadow: 0px 1px 2px rgba(60, 64, 67, 0.3), 0px 1px 3px 1px rgba(60, 64, 67, 0.15);\n",
              "      fill: #174EA6;\n",
              "    }\n",
              "\n",
              "    [theme=dark] .colab-df-convert {\n",
              "      background-color: #3B4455;\n",
              "      fill: #D2E3FC;\n",
              "    }\n",
              "\n",
              "    [theme=dark] .colab-df-convert:hover {\n",
              "      background-color: #434B5C;\n",
              "      box-shadow: 0px 1px 3px 1px rgba(0, 0, 0, 0.15);\n",
              "      filter: drop-shadow(0px 1px 2px rgba(0, 0, 0, 0.3));\n",
              "      fill: #FFFFFF;\n",
              "    }\n",
              "  </style>\n",
              "\n",
              "      <script>\n",
              "        const buttonEl =\n",
              "          document.querySelector('#df-c0d188f7-9f26-4547-8cfc-3910b4ce96b6 button.colab-df-convert');\n",
              "        buttonEl.style.display =\n",
              "          google.colab.kernel.accessAllowed ? 'block' : 'none';\n",
              "\n",
              "        async function convertToInteractive(key) {\n",
              "          const element = document.querySelector('#df-c0d188f7-9f26-4547-8cfc-3910b4ce96b6');\n",
              "          const dataTable =\n",
              "            await google.colab.kernel.invokeFunction('convertToInteractive',\n",
              "                                                     [key], {});\n",
              "          if (!dataTable) return;\n",
              "\n",
              "          const docLinkHtml = 'Like what you see? Visit the ' +\n",
              "            '<a target=\"_blank\" href=https://colab.research.google.com/notebooks/data_table.ipynb>data table notebook</a>'\n",
              "            + ' to learn more about interactive tables.';\n",
              "          element.innerHTML = '';\n",
              "          dataTable['output_type'] = 'display_data';\n",
              "          await google.colab.output.renderOutput(dataTable, element);\n",
              "          const docLink = document.createElement('div');\n",
              "          docLink.innerHTML = docLinkHtml;\n",
              "          element.appendChild(docLink);\n",
              "        }\n",
              "      </script>\n",
              "    </div>\n",
              "  </div>\n",
              "  "
            ]
          },
          "metadata": {},
          "execution_count": 76
        }
      ]
    },
    {
      "cell_type": "code",
      "source": [
        "ob2.shift_trail(df=neu_df) "
      ],
      "metadata": {
        "colab": {
          "base_uri": "https://localhost:8080/"
        },
        "id": "zWexli5nHHWV",
        "outputId": "783ebe8b-b083-4752-b55a-ae6166b28dd3"
      },
      "execution_count": 77,
      "outputs": [
        {
          "output_type": "stream",
          "name": "stdout",
          "text": [
            "p-value = 0.30737998276064205 Data is not Stationary\n",
            "shifting of 1\n",
            "p-value = 6.310859825805149e-05 Data is Stationary\n",
            "shifting of 2\n",
            "p-value = 0.0006557564011513352 Data is Stationary\n"
          ]
        }
      ]
    },
    {
      "cell_type": "code",
      "source": [
        "ob3.pacf_acf(df=neu_df,stamp='20180930')"
      ],
      "metadata": {
        "id": "BfJ7jBIV6jjl",
        "outputId": "26efaca8-8a42-49f6-e6aa-c3c25c4d3ba5",
        "colab": {
          "base_uri": "https://localhost:8080/",
          "height": 621
        }
      },
      "execution_count": 78,
      "outputs": [
        {
          "output_type": "display_data",
          "data": {
            "text/plain": [
              "<Figure size 720x360 with 1 Axes>"
            ],
            "image/png": "[encoded data removed]"
          },
          "metadata": {
            "needs_background": "light"
          }
        },
        {
          "output_type": "display_data",
          "data": {
            "text/plain": [
              "<Figure size 720x360 with 1 Axes>"
            ],
            "image/png": "[encoded data removed]"
          },
          "metadata": {
            "needs_background": "light"
          }
        }
      ]
    },
    {
      "cell_type": "code",
      "source": [
        "ob3.model(ARIMA(3,1,2),df=neu_df ,col1 = 'reviewTime', col2 = 'Vader_score',stamp='20180930')"
      ],
      "metadata": {
        "id": "JaqWZ_kZ9n9E",
        "outputId": "d6d06f06-06db-4a3e-8df4-d1b8e6406e20",
        "colab": {
          "base_uri": "https://localhost:8080/",
          "height": 526
        }
      },
      "execution_count": 79,
      "outputs": [
        {
          "output_type": "execute_result",
          "data": {
            "text/plain": [
              "            model           mse      rmse   mape  execution_time\n",
              "0  ARIMA(3, 1, 2)  2.536131e-07  0.000504  100.0        0.349462"
            ],
            "text/html": [
              "\n",
              "  <div id=\"df-e6892c23-7b90-46de-90dc-c1aa270c8d06\">\n",
              "    <div class=\"colab-df-container\">\n",
              "      <div>\n",
              "<style scoped>\n",
              "    .dataframe tbody tr th:only-of-type {\n",
              "        vertical-align: middle;\n",
              "    }\n",
              "\n",
              "    .dataframe tbody tr th {\n",
              "        vertical-align: top;\n",
              "    }\n",
              "\n",
              "    .dataframe thead th {\n",
              "        text-align: right;\n",
              "    }\n",
              "</style>\n",
              "<table border=\"1\" class=\"dataframe\">\n",
              "  <thead>\n",
              "    <tr style=\"text-align: right;\">\n",
              "      <th></th>\n",
              "      <th>model</th>\n",
              "      <th>mse</th>\n",
              "      <th>rmse</th>\n",
              "      <th>mape</th>\n",
              "      <th>execution_time</th>\n",
              "    </tr>\n",
              "  </thead>\n",
              "  <tbody>\n",
              "    <tr>\n",
              "      <th>0</th>\n",
              "      <td>ARIMA(3, 1, 2)</td>\n",
              "      <td>2.536131e-07</td>\n",
              "      <td>0.000504</td>\n",
              "      <td>100.0</td>\n",
              "      <td>0.349462</td>\n",
              "    </tr>\n",
              "  </tbody>\n",
              "</table>\n",
              "</div>\n",
              "      <button class=\"colab-df-convert\" onclick=\"convertToInteractive('df-e6892c23-7b90-46de-90dc-c1aa270c8d06')\"\n",
              "              title=\"Convert this dataframe to an interactive table.\"\n",
              "              style=\"display:none;\">\n",
              "        \n",
              "  <svg xmlns=\"http://www.w3.org/2000/svg\" height=\"24px\"viewBox=\"0 0 24 24\"\n",
              "       width=\"24px\">\n",
              "    <path d=\"M0 0h24v24H0V0z\" fill=\"none\"/>\n",
              "    <path d=\"M18.56 5.44l.94 2.06.94-2.06 2.06-.94-2.06-.94-.94-2.06-.94 2.06-2.06.94zm-11 1L8.5 8.5l.94-2.06 2.06-.94-2.06-.94L8.5 2.5l-.94 2.06-2.06.94zm10 10l.94 2.06.94-2.06 2.06-.94-2.06-.94-.94-2.06-.94 2.06-2.06.94z\"/><path d=\"M17.41 7.96l-1.37-1.37c-.4-.4-.92-.59-1.43-.59-.52 0-1.04.2-1.43.59L10.3 9.45l-7.72 7.72c-.78.78-.78 2.05 0 2.83L4 21.41c.39.39.9.59 1.41.59.51 0 1.02-.2 1.41-.59l7.78-7.78 2.81-2.81c.8-.78.8-2.07 0-2.86zM5.41 20L4 18.59l7.72-7.72 1.47 1.35L5.41 20z\"/>\n",
              "  </svg>\n",
              "      </button>\n",
              "      \n",
              "  <style>\n",
              "    .colab-df-container {\n",
              "      display:flex;\n",
              "      flex-wrap:wrap;\n",
              "      gap: 12px;\n",
              "    }\n",
              "\n",
              "    .colab-df-convert {\n",
              "      background-color: #E8F0FE;\n",
              "      border: none;\n",
              "      border-radius: 50%;\n",
              "      cursor: pointer;\n",
              "      display: none;\n",
              "      fill: #1967D2;\n",
              "      height: 32px;\n",
              "      padding: 0 0 0 0;\n",
              "      width: 32px;\n",
              "    }\n",
              "\n",
              "    .colab-df-convert:hover {\n",
              "      background-color: #E2EBFA;\n",
              "      box-shadow: 0px 1px 2px rgba(60, 64, 67, 0.3), 0px 1px 3px 1px rgba(60, 64, 67, 0.15);\n",
              "      fill: #174EA6;\n",
              "    }\n",
              "\n",
              "    [theme=dark] .colab-df-convert {\n",
              "      background-color: #3B4455;\n",
              "      fill: #D2E3FC;\n",
              "    }\n",
              "\n",
              "    [theme=dark] .colab-df-convert:hover {\n",
              "      background-color: #434B5C;\n",
              "      box-shadow: 0px 1px 3px 1px rgba(0, 0, 0, 0.15);\n",
              "      filter: drop-shadow(0px 1px 2px rgba(0, 0, 0, 0.3));\n",
              "      fill: #FFFFFF;\n",
              "    }\n",
              "  </style>\n",
              "\n",
              "      <script>\n",
              "        const buttonEl =\n",
              "          document.querySelector('#df-e6892c23-7b90-46de-90dc-c1aa270c8d06 button.colab-df-convert');\n",
              "        buttonEl.style.display =\n",
              "          google.colab.kernel.accessAllowed ? 'block' : 'none';\n",
              "\n",
              "        async function convertToInteractive(key) {\n",
              "          const element = document.querySelector('#df-e6892c23-7b90-46de-90dc-c1aa270c8d06');\n",
              "          const dataTable =\n",
              "            await google.colab.kernel.invokeFunction('convertToInteractive',\n",
              "                                                     [key], {});\n",
              "          if (!dataTable) return;\n",
              "\n",
              "          const docLinkHtml = 'Like what you see? Visit the ' +\n",
              "            '<a target=\"_blank\" href=https://colab.research.google.com/notebooks/data_table.ipynb>data table notebook</a>'\n",
              "            + ' to learn more about interactive tables.';\n",
              "          element.innerHTML = '';\n",
              "          dataTable['output_type'] = 'display_data';\n",
              "          await google.colab.output.renderOutput(dataTable, element);\n",
              "          const docLink = document.createElement('div');\n",
              "          docLink.innerHTML = docLinkHtml;\n",
              "          element.appendChild(docLink);\n",
              "        }\n",
              "      </script>\n",
              "    </div>\n",
              "  </div>\n",
              "  "
            ]
          },
          "metadata": {},
          "execution_count": 79
        },
        {
          "output_type": "display_data",
          "data": {
            "text/plain": [
              "<Figure size 864x504 with 1 Axes>"
            ],
            "image/png": "[encoded data removed]"
          },
          "metadata": {
            "needs_background": "light"
          }
        }
      ]
    },
    {
      "cell_type": "code",
      "source": [
        "ob3.model(ExponentialSmoothing(seasonal_periods=12),df=neu_df ,col1 = 'reviewTime', col2 = 'Vader_score',stamp='20180930')"
      ],
      "metadata": {
        "id": "OKHew5vC9oN7",
        "outputId": "f10bade1-46a1-4adb-cd01-f06eceb93147",
        "colab": {
          "base_uri": "https://localhost:8080/",
          "height": 526
        }
      },
      "execution_count": 80,
      "outputs": [
        {
          "output_type": "execute_result",
          "data": {
            "text/plain": [
              "                                               model           mse      rmse  \\\n",
              "0  ExponentialSmoothing(trend=ModelMode.ADDITIVE,...  3.666792e-07  0.000606   \n",
              "\n",
              "    mape  execution_time  \n",
              "0  100.0        0.248441  "
            ],
            "text/html": [
              "\n",
              "  <div id=\"df-f746ee80-9129-40f0-b19c-e0dfe9e618db\">\n",
              "    <div class=\"colab-df-container\">\n",
              "      <div>\n",
              "<style scoped>\n",
              "    .dataframe tbody tr th:only-of-type {\n",
              "        vertical-align: middle;\n",
              "    }\n",
              "\n",
              "    .dataframe tbody tr th {\n",
              "        vertical-align: top;\n",
              "    }\n",
              "\n",
              "    .dataframe thead th {\n",
              "        text-align: right;\n",
              "    }\n",
              "</style>\n",
              "<table border=\"1\" class=\"dataframe\">\n",
              "  <thead>\n",
              "    <tr style=\"text-align: right;\">\n",
              "      <th></th>\n",
              "      <th>model</th>\n",
              "      <th>mse</th>\n",
              "      <th>rmse</th>\n",
              "      <th>mape</th>\n",
              "      <th>execution_time</th>\n",
              "    </tr>\n",
              "  </thead>\n",
              "  <tbody>\n",
              "    <tr>\n",
              "      <th>0</th>\n",
              "      <td>ExponentialSmoothing(trend=ModelMode.ADDITIVE,...</td>\n",
              "      <td>3.666792e-07</td>\n",
              "      <td>0.000606</td>\n",
              "      <td>100.0</td>\n",
              "      <td>0.248441</td>\n",
              "    </tr>\n",
              "  </tbody>\n",
              "</table>\n",
              "</div>\n",
              "      <button class=\"colab-df-convert\" onclick=\"convertToInteractive('df-f746ee80-9129-40f0-b19c-e0dfe9e618db')\"\n",
              "              title=\"Convert this dataframe to an interactive table.\"\n",
              "              style=\"display:none;\">\n",
              "        \n",
              "  <svg xmlns=\"http://www.w3.org/2000/svg\" height=\"24px\"viewBox=\"0 0 24 24\"\n",
              "       width=\"24px\">\n",
              "    <path d=\"M0 0h24v24H0V0z\" fill=\"none\"/>\n",
              "    <path d=\"M18.56 5.44l.94 2.06.94-2.06 2.06-.94-2.06-.94-.94-2.06-.94 2.06-2.06.94zm-11 1L8.5 8.5l.94-2.06 2.06-.94-2.06-.94L8.5 2.5l-.94 2.06-2.06.94zm10 10l.94 2.06.94-2.06 2.06-.94-2.06-.94-.94-2.06-.94 2.06-2.06.94z\"/><path d=\"M17.41 7.96l-1.37-1.37c-.4-.4-.92-.59-1.43-.59-.52 0-1.04.2-1.43.59L10.3 9.45l-7.72 7.72c-.78.78-.78 2.05 0 2.83L4 21.41c.39.39.9.59 1.41.59.51 0 1.02-.2 1.41-.59l7.78-7.78 2.81-2.81c.8-.78.8-2.07 0-2.86zM5.41 20L4 18.59l7.72-7.72 1.47 1.35L5.41 20z\"/>\n",
              "  </svg>\n",
              "      </button>\n",
              "      \n",
              "  <style>\n",
              "    .colab-df-container {\n",
              "      display:flex;\n",
              "      flex-wrap:wrap;\n",
              "      gap: 12px;\n",
              "    }\n",
              "\n",
              "    .colab-df-convert {\n",
              "      background-color: #E8F0FE;\n",
              "      border: none;\n",
              "      border-radius: 50%;\n",
              "      cursor: pointer;\n",
              "      display: none;\n",
              "      fill: #1967D2;\n",
              "      height: 32px;\n",
              "      padding: 0 0 0 0;\n",
              "      width: 32px;\n",
              "    }\n",
              "\n",
              "    .colab-df-convert:hover {\n",
              "      background-color: #E2EBFA;\n",
              "      box-shadow: 0px 1px 2px rgba(60, 64, 67, 0.3), 0px 1px 3px 1px rgba(60, 64, 67, 0.15);\n",
              "      fill: #174EA6;\n",
              "    }\n",
              "\n",
              "    [theme=dark] .colab-df-convert {\n",
              "      background-color: #3B4455;\n",
              "      fill: #D2E3FC;\n",
              "    }\n",
              "\n",
              "    [theme=dark] .colab-df-convert:hover {\n",
              "      background-color: #434B5C;\n",
              "      box-shadow: 0px 1px 3px 1px rgba(0, 0, 0, 0.15);\n",
              "      filter: drop-shadow(0px 1px 2px rgba(0, 0, 0, 0.3));\n",
              "      fill: #FFFFFF;\n",
              "    }\n",
              "  </style>\n",
              "\n",
              "      <script>\n",
              "        const buttonEl =\n",
              "          document.querySelector('#df-f746ee80-9129-40f0-b19c-e0dfe9e618db button.colab-df-convert');\n",
              "        buttonEl.style.display =\n",
              "          google.colab.kernel.accessAllowed ? 'block' : 'none';\n",
              "\n",
              "        async function convertToInteractive(key) {\n",
              "          const element = document.querySelector('#df-f746ee80-9129-40f0-b19c-e0dfe9e618db');\n",
              "          const dataTable =\n",
              "            await google.colab.kernel.invokeFunction('convertToInteractive',\n",
              "                                                     [key], {});\n",
              "          if (!dataTable) return;\n",
              "\n",
              "          const docLinkHtml = 'Like what you see? Visit the ' +\n",
              "            '<a target=\"_blank\" href=https://colab.research.google.com/notebooks/data_table.ipynb>data table notebook</a>'\n",
              "            + ' to learn more about interactive tables.';\n",
              "          element.innerHTML = '';\n",
              "          dataTable['output_type'] = 'display_data';\n",
              "          await google.colab.output.renderOutput(dataTable, element);\n",
              "          const docLink = document.createElement('div');\n",
              "          docLink.innerHTML = docLinkHtml;\n",
              "          element.appendChild(docLink);\n",
              "        }\n",
              "      </script>\n",
              "    </div>\n",
              "  </div>\n",
              "  "
            ]
          },
          "metadata": {},
          "execution_count": 80
        },
        {
          "output_type": "display_data",
          "data": {
            "text/plain": [
              "<Figure size 864x504 with 1 Axes>"
            ],
            "image/png": "[encoded data removed]"
          },
          "metadata": {
            "needs_background": "light"
          }
        }
      ]
    },
    {
      "cell_type": "code",
      "source": [
        "ob3.model(Prophet(),df=neu_df ,col1 = 'reviewTime', col2 = 'Vader_score',stamp='20180930')"
      ],
      "metadata": {
        "id": "14IrllBH9oSH",
        "outputId": "204a2568-4903-4275-ced5-b7eb0ba59242",
        "colab": {
          "base_uri": "https://localhost:8080/",
          "height": 749
        }
      },
      "execution_count": 81,
      "outputs": [
        {
          "output_type": "stream",
          "name": "stderr",
          "text": [
            "INFO:prophet:Disabling weekly seasonality. Run prophet with weekly_seasonality=True to override this.\n",
            "INFO:prophet:Disabling daily seasonality. Run prophet with daily_seasonality=True to override this.\n",
            "DEBUG:cmdstanpy:input tempfile: /tmp/tmpnnn1ywxm/epoxq30o.json\n",
            "DEBUG:cmdstanpy:input tempfile: /tmp/tmpnnn1ywxm/38acqfri.json\n",
            "DEBUG:cmdstanpy:idx 0\n",
            "DEBUG:cmdstanpy:running CmdStan, num_threads: None\n",
            "DEBUG:cmdstanpy:CmdStan args: ['/usr/local/lib/python3.9/dist-packages/prophet/stan_model/prophet_model.bin', 'random', 'seed=192', 'data', 'file=/tmp/tmpnnn1ywxm/epoxq30o.json', 'init=/tmp/tmpnnn1ywxm/38acqfri.json', 'output', 'file=/tmp/tmpnnn1ywxm/prophet_modeluwicfi5c/prophet_model-20230320055838.csv', 'method=optimize', 'algorithm=lbfgs', 'iter=10000']\n",
            "05:58:38 - cmdstanpy - INFO - Chain [1] start processing\n",
            "INFO:cmdstanpy:Chain [1] start processing\n",
            "05:58:38 - cmdstanpy - INFO - Chain [1] done processing\n",
            "INFO:cmdstanpy:Chain [1] done processing\n"
          ]
        },
        {
          "output_type": "execute_result",
          "data": {
            "text/plain": [
              "     model           mse     rmse   mape  execution_time\n",
              "0  Prophet  7.833191e-08  0.00028  100.0        0.343093"
            ],
            "text/html": [
              "\n",
              "  <div id=\"df-eeafb79b-cdd4-4c05-a51a-f2ecaab82f13\">\n",
              "    <div class=\"colab-df-container\">\n",
              "      <div>\n",
              "<style scoped>\n",
              "    .dataframe tbody tr th:only-of-type {\n",
              "        vertical-align: middle;\n",
              "    }\n",
              "\n",
              "    .dataframe tbody tr th {\n",
              "        vertical-align: top;\n",
              "    }\n",
              "\n",
              "    .dataframe thead th {\n",
              "        text-align: right;\n",
              "    }\n",
              "</style>\n",
              "<table border=\"1\" class=\"dataframe\">\n",
              "  <thead>\n",
              "    <tr style=\"text-align: right;\">\n",
              "      <th></th>\n",
              "      <th>model</th>\n",
              "      <th>mse</th>\n",
              "      <th>rmse</th>\n",
              "      <th>mape</th>\n",
              "      <th>execution_time</th>\n",
              "    </tr>\n",
              "  </thead>\n",
              "  <tbody>\n",
              "    <tr>\n",
              "      <th>0</th>\n",
              "      <td>Prophet</td>\n",
              "      <td>7.833191e-08</td>\n",
              "      <td>0.00028</td>\n",
              "      <td>100.0</td>\n",
              "      <td>0.343093</td>\n",
              "    </tr>\n",
              "  </tbody>\n",
              "</table>\n",
              "</div>\n",
              "      <button class=\"colab-df-convert\" onclick=\"convertToInteractive('df-eeafb79b-cdd4-4c05-a51a-f2ecaab82f13')\"\n",
              "              title=\"Convert this dataframe to an interactive table.\"\n",
              "              style=\"display:none;\">\n",
              "        \n",
              "  <svg xmlns=\"http://www.w3.org/2000/svg\" height=\"24px\"viewBox=\"0 0 24 24\"\n",
              "       width=\"24px\">\n",
              "    <path d=\"M0 0h24v24H0V0z\" fill=\"none\"/>\n",
              "    <path d=\"M18.56 5.44l.94 2.06.94-2.06 2.06-.94-2.06-.94-.94-2.06-.94 2.06-2.06.94zm-11 1L8.5 8.5l.94-2.06 2.06-.94-2.06-.94L8.5 2.5l-.94 2.06-2.06.94zm10 10l.94 2.06.94-2.06 2.06-.94-2.06-.94-.94-2.06-.94 2.06-2.06.94z\"/><path d=\"M17.41 7.96l-1.37-1.37c-.4-.4-.92-.59-1.43-.59-.52 0-1.04.2-1.43.59L10.3 9.45l-7.72 7.72c-.78.78-.78 2.05 0 2.83L4 21.41c.39.39.9.59 1.41.59.51 0 1.02-.2 1.41-.59l7.78-7.78 2.81-2.81c.8-.78.8-2.07 0-2.86zM5.41 20L4 18.59l7.72-7.72 1.47 1.35L5.41 20z\"/>\n",
              "  </svg>\n",
              "      </button>\n",
              "      \n",
              "  <style>\n",
              "    .colab-df-container {\n",
              "      display:flex;\n",
              "      flex-wrap:wrap;\n",
              "      gap: 12px;\n",
              "    }\n",
              "\n",
              "    .colab-df-convert {\n",
              "      background-color: #E8F0FE;\n",
              "      border: none;\n",
              "      border-radius: 50%;\n",
              "      cursor: pointer;\n",
              "      display: none;\n",
              "      fill: #1967D2;\n",
              "      height: 32px;\n",
              "      padding: 0 0 0 0;\n",
              "      width: 32px;\n",
              "    }\n",
              "\n",
              "    .colab-df-convert:hover {\n",
              "      background-color: #E2EBFA;\n",
              "      box-shadow: 0px 1px 2px rgba(60, 64, 67, 0.3), 0px 1px 3px 1px rgba(60, 64, 67, 0.15);\n",
              "      fill: #174EA6;\n",
              "    }\n",
              "\n",
              "    [theme=dark] .colab-df-convert {\n",
              "      background-color: #3B4455;\n",
              "      fill: #D2E3FC;\n",
              "    }\n",
              "\n",
              "    [theme=dark] .colab-df-convert:hover {\n",
              "      background-color: #434B5C;\n",
              "      box-shadow: 0px 1px 3px 1px rgba(0, 0, 0, 0.15);\n",
              "      filter: drop-shadow(0px 1px 2px rgba(0, 0, 0, 0.3));\n",
              "      fill: #FFFFFF;\n",
              "    }\n",
              "  </style>\n",
              "\n",
              "      <script>\n",
              "        const buttonEl =\n",
              "          document.querySelector('#df-eeafb79b-cdd4-4c05-a51a-f2ecaab82f13 button.colab-df-convert');\n",
              "        buttonEl.style.display =\n",
              "          google.colab.kernel.accessAllowed ? 'block' : 'none';\n",
              "\n",
              "        async function convertToInteractive(key) {\n",
              "          const element = document.querySelector('#df-eeafb79b-cdd4-4c05-a51a-f2ecaab82f13');\n",
              "          const dataTable =\n",
              "            await google.colab.kernel.invokeFunction('convertToInteractive',\n",
              "                                                     [key], {});\n",
              "          if (!dataTable) return;\n",
              "\n",
              "          const docLinkHtml = 'Like what you see? Visit the ' +\n",
              "            '<a target=\"_blank\" href=https://colab.research.google.com/notebooks/data_table.ipynb>data table notebook</a>'\n",
              "            + ' to learn more about interactive tables.';\n",
              "          element.innerHTML = '';\n",
              "          dataTable['output_type'] = 'display_data';\n",
              "          await google.colab.output.renderOutput(dataTable, element);\n",
              "          const docLink = document.createElement('div');\n",
              "          docLink.innerHTML = docLinkHtml;\n",
              "          element.appendChild(docLink);\n",
              "        }\n",
              "      </script>\n",
              "    </div>\n",
              "  </div>\n",
              "  "
            ]
          },
          "metadata": {},
          "execution_count": 81
        },
        {
          "output_type": "display_data",
          "data": {
            "text/plain": [
              "<Figure size 864x504 with 1 Axes>"
            ],
            "image/png": "[encoded data removed]"
          },
          "metadata": {
            "needs_background": "light"
          }
        }
      ]
    },
    {
      "cell_type": "code",
      "source": [
        "from tabulate import tabulate\n",
        "\n",
        "tabel = [['fasttext' , 78.46] ,\n",
        "    ['Vader sentiment' , 77.77] , \n",
        "    ['Textblob Sentiment' , 75.76] ,\n",
        "    ['Affin Sentiment' , 75.08]]\n",
        "\n",
        "print(tabulate( tabel , headers = ['Models' , 'f1_score'] , tablefmt = 'grid'))"
      ],
      "metadata": {
        "colab": {
          "base_uri": "https://localhost:8080/"
        },
        "id": "X6_cQTP-wXhx",
        "outputId": "0c8728b4-bcf0-47b2-8129-9c5e0f4e3b4a"
      },
      "execution_count": 82,
      "outputs": [
        {
          "output_type": "stream",
          "name": "stdout",
          "text": [
            "+--------------------+------------+\n",
            "| Models             |   f1_score |\n",
            "+====================+============+\n",
            "| fasttext           |      78.46 |\n",
            "+--------------------+------------+\n",
            "| Vader sentiment    |      77.77 |\n",
            "+--------------------+------------+\n",
            "| Textblob Sentiment |      75.76 |\n",
            "+--------------------+------------+\n",
            "| Affin Sentiment    |      75.08 |\n",
            "+--------------------+------------+\n"
          ]
        }
      ]
    },
    {
      "cell_type": "code",
      "source": [
        "tabe_pos = [['ARIMA(4,1,14)' , 0.006,0.081] ,\n",
        "    ['Exponential Smoothing' , 0.021 , 0.146] , \n",
        "    ['Theta' , 0.013 , 0.114] ,\n",
        "    ['Prophet' , 0.026 , 0.163]]\n",
        "\n",
        "print(tabulate( tabe_pos , headers = ['Models(For Positive forecast)' , 'MSE' , 'RMSE'] , tablefmt = 'grid'))"
      ],
      "metadata": {
        "colab": {
          "base_uri": "https://localhost:8080/"
        },
        "id": "TgL64CUZnqrT",
        "outputId": "aea462fc-10eb-4493-ed1e-24ac6f8ee39e"
      },
      "execution_count": 83,
      "outputs": [
        {
          "output_type": "stream",
          "name": "stdout",
          "text": [
            "+---------------------------------+-------+--------+\n",
            "| Models(For Positive forecast)   |   MSE |   RMSE |\n",
            "+=================================+=======+========+\n",
            "| ARIMA(4,1,14)                   | 0.006 |  0.081 |\n",
            "+---------------------------------+-------+--------+\n",
            "| Exponential Smoothing           | 0.021 |  0.146 |\n",
            "+---------------------------------+-------+--------+\n",
            "| Theta                           | 0.013 |  0.114 |\n",
            "+---------------------------------+-------+--------+\n",
            "| Prophet                         | 0.026 |  0.163 |\n",
            "+---------------------------------+-------+--------+\n"
          ]
        }
      ]
    },
    {
      "cell_type": "code",
      "source": [
        "tabe_neg = [['ARIMA(5,1,2)' , 0.001,0.041] ,\n",
        "    ['Exponential Smoothing' , 0.003 , 0.057] , \n",
        "    ['Prophet' , 0.003 , 0.055]]\n",
        "\n",
        "print(tabulate( tabe_neg , headers = ['Models(For Negative forecast)' , 'MSE' , 'RMSE'] , tablefmt = 'grid'))"
      ],
      "metadata": {
        "colab": {
          "base_uri": "https://localhost:8080/"
        },
        "id": "FTOuL2UKp9rA",
        "outputId": "98df6307-2fae-431a-e816-6a323a5411ed"
      },
      "execution_count": 84,
      "outputs": [
        {
          "output_type": "stream",
          "name": "stdout",
          "text": [
            "+---------------------------------+-------+--------+\n",
            "| Models(For Negative forecast)   |   MSE |   RMSE |\n",
            "+=================================+=======+========+\n",
            "| ARIMA(5,1,2)                    | 0.001 |  0.041 |\n",
            "+---------------------------------+-------+--------+\n",
            "| Exponential Smoothing           | 0.003 |  0.057 |\n",
            "+---------------------------------+-------+--------+\n",
            "| Prophet                         | 0.003 |  0.055 |\n",
            "+---------------------------------+-------+--------+\n"
          ]
        }
      ]
    },
    {
      "cell_type": "code",
      "source": [
        "tabe_neu = [['ARIMA(3,1,2)' , 0.000,0.000] ,\n",
        "    ['Exponential Smoothing' , 0.000 , 0.000] , \n",
        "    ['Prophet' , 0.000 , 0.00]]\n",
        "\n",
        "print(tabulate( tabe_neu , headers = ['Models(For Neutral forecast)' , 'MSE' , 'RMSE'] , tablefmt = 'grid'))"
      ],
      "metadata": {
        "colab": {
          "base_uri": "https://localhost:8080/"
        },
        "id": "rSD_5jPmrOQ2",
        "outputId": "40efb8ba-5467-48db-b470-c426788a2ea5"
      },
      "execution_count": 85,
      "outputs": [
        {
          "output_type": "stream",
          "name": "stdout",
          "text": [
            "+--------------------------------+-------+--------+\n",
            "| Models(For Neutral forecast)   |   MSE |   RMSE |\n",
            "+================================+=======+========+\n",
            "| ARIMA(3,1,2)                   |     0 |      0 |\n",
            "+--------------------------------+-------+--------+\n",
            "| Exponential Smoothing          |     0 |      0 |\n",
            "+--------------------------------+-------+--------+\n",
            "| Prophet                        |     0 |      0 |\n",
            "+--------------------------------+-------+--------+\n"
          ]
        }
      ]
    },
    {
      "cell_type": "markdown",
      "source": [
        "# Customer segmentation\n",
        "- We can’t treat every customer the same way with the same content, same channel, same importance. They will find another option which understands them better.\n",
        "- Customers who use your platform have different needs and they have their own different profile. You should adapt your actions depending on that.\n",
        "- You can do many different segmentations according to what you are trying to achieve. If you want to increase retention rate, you can do a segmentation based on the similarities between the customers\n",
        "- But there are very common and useful segmentation methods as well. Now we are going to implement one of them to our business: RFM.\n",
        "1. **Recency: How recently customers made their purchase.**\n",
        "2. **Frequency: For simplicity, we’ll count the number of times each customer made a purchase.**\n",
        "3. **Monetary: How much money they spent in total.**\n",
        "\n",
        "**As there is no currency related columns in data so monetary analyis is not possiable** "
      ],
      "metadata": {
        "id": "lFjViGya18dw"
      }
    },
    {
      "cell_type": "code",
      "source": [
        "df.columns"
      ],
      "metadata": {
        "colab": {
          "base_uri": "https://localhost:8080/"
        },
        "id": "EiJ-sKg-15Xg",
        "outputId": "28172631-511e-4e9e-acb9-0f9de5631a22"
      },
      "execution_count": 86,
      "outputs": [
        {
          "output_type": "execute_result",
          "data": {
            "text/plain": [
              "Index(['asin', 'reviewerID', 'reviewerName', 'reviewText', 'overall',\n",
              "       'reviewTime', 'summary', 'main_cat', 'Actual_Sentiment',\n",
              "       'TextBlob_Subjectivity', 'TextBlob_Polarity', 'TextBlob_Analysis',\n",
              "       'Vader_Polarity', 'Vader_score', 'Vader_sentiment', 'Afinn_score',\n",
              "       'Afinn_sentiment'],\n",
              "      dtype='object')"
            ]
          },
          "metadata": {},
          "execution_count": 86
        }
      ]
    },
    {
      "cell_type": "code",
      "source": [
        "CS_df = pd.DataFrame(df['reviewerID'].unique())\n",
        "CS_df.columns = ['reviewerID']"
      ],
      "metadata": {
        "id": "c5DB8pxP15QF"
      },
      "execution_count": 111,
      "outputs": []
    },
    {
      "cell_type": "code",
      "source": [
        "Max_purchase = df.groupby('reviewerID').reviewTime.max().reset_index()\n",
        "Max_purchase.columns = ['reviewerID','MaxPurchaseDate']"
      ],
      "metadata": {
        "id": "D5d3Hk-k15Jd"
      },
      "execution_count": 112,
      "outputs": []
    },
    {
      "cell_type": "markdown",
      "source": [
        "## Recency"
      ],
      "metadata": {
        "id": "_K1aXmkGe1Fd"
      }
    },
    {
      "cell_type": "code",
      "source": [
        "Max_purchase['Recency'] = (Max_purchase['MaxPurchaseDate'].max() - Max_purchase['MaxPurchaseDate']).dt.days"
      ],
      "metadata": {
        "id": "W8_Pv_9n141_"
      },
      "execution_count": 113,
      "outputs": []
    },
    {
      "cell_type": "code",
      "source": [
        "CS_df = pd.merge(CS_df, Max_purchase, on='reviewerID')\n",
        "CS_df.head()"
      ],
      "metadata": {
        "colab": {
          "base_uri": "https://localhost:8080/",
          "height": 206
        },
        "id": "kGVqy0AIe42j",
        "outputId": "8317e12b-b2e7-419c-9f8a-ef1e3430070a"
      },
      "execution_count": 114,
      "outputs": [
        {
          "output_type": "execute_result",
          "data": {
            "text/plain": [
              "       reviewerID MaxPurchaseDate  Recency\n",
              "0   AJIC7H0QB0HQ8      2013-11-01     1796\n",
              "1  A24UCU88FE1FPN      2015-12-08     1029\n",
              "2  A3C5MTRFKQYHMW      2016-08-18      775\n",
              "3  A253WC2BIJB7ET      2010-08-17     2968\n",
              "4  A3SMSPKX6LL5U5      2018-06-12      112"
            ],
            "text/html": [
              "\n",
              "  <div id=\"df-df709d35-1fe3-4647-b27a-606dc97a3718\">\n",
              "    <div class=\"colab-df-container\">\n",
              "      <div>\n",
              "<style scoped>\n",
              "    .dataframe tbody tr th:only-of-type {\n",
              "        vertical-align: middle;\n",
              "    }\n",
              "\n",
              "    .dataframe tbody tr th {\n",
              "        vertical-align: top;\n",
              "    }\n",
              "\n",
              "    .dataframe thead th {\n",
              "        text-align: right;\n",
              "    }\n",
              "</style>\n",
              "<table border=\"1\" class=\"dataframe\">\n",
              "  <thead>\n",
              "    <tr style=\"text-align: right;\">\n",
              "      <th></th>\n",
              "      <th>reviewerID</th>\n",
              "      <th>MaxPurchaseDate</th>\n",
              "      <th>Recency</th>\n",
              "    </tr>\n",
              "  </thead>\n",
              "  <tbody>\n",
              "    <tr>\n",
              "      <th>0</th>\n",
              "      <td>AJIC7H0QB0HQ8</td>\n",
              "      <td>2013-11-01</td>\n",
              "      <td>1796</td>\n",
              "    </tr>\n",
              "    <tr>\n",
              "      <th>1</th>\n",
              "      <td>A24UCU88FE1FPN</td>\n",
              "      <td>2015-12-08</td>\n",
              "      <td>1029</td>\n",
              "    </tr>\n",
              "    <tr>\n",
              "      <th>2</th>\n",
              "      <td>A3C5MTRFKQYHMW</td>\n",
              "      <td>2016-08-18</td>\n",
              "      <td>775</td>\n",
              "    </tr>\n",
              "    <tr>\n",
              "      <th>3</th>\n",
              "      <td>A253WC2BIJB7ET</td>\n",
              "      <td>2010-08-17</td>\n",
              "      <td>2968</td>\n",
              "    </tr>\n",
              "    <tr>\n",
              "      <th>4</th>\n",
              "      <td>A3SMSPKX6LL5U5</td>\n",
              "      <td>2018-06-12</td>\n",
              "      <td>112</td>\n",
              "    </tr>\n",
              "  </tbody>\n",
              "</table>\n",
              "</div>\n",
              "      <button class=\"colab-df-convert\" onclick=\"convertToInteractive('df-df709d35-1fe3-4647-b27a-606dc97a3718')\"\n",
              "              title=\"Convert this dataframe to an interactive table.\"\n",
              "              style=\"display:none;\">\n",
              "        \n",
              "  <svg xmlns=\"http://www.w3.org/2000/svg\" height=\"24px\"viewBox=\"0 0 24 24\"\n",
              "       width=\"24px\">\n",
              "    <path d=\"M0 0h24v24H0V0z\" fill=\"none\"/>\n",
              "    <path d=\"M18.56 5.44l.94 2.06.94-2.06 2.06-.94-2.06-.94-.94-2.06-.94 2.06-2.06.94zm-11 1L8.5 8.5l.94-2.06 2.06-.94-2.06-.94L8.5 2.5l-.94 2.06-2.06.94zm10 10l.94 2.06.94-2.06 2.06-.94-2.06-.94-.94-2.06-.94 2.06-2.06.94z\"/><path d=\"M17.41 7.96l-1.37-1.37c-.4-.4-.92-.59-1.43-.59-.52 0-1.04.2-1.43.59L10.3 9.45l-7.72 7.72c-.78.78-.78 2.05 0 2.83L4 21.41c.39.39.9.59 1.41.59.51 0 1.02-.2 1.41-.59l7.78-7.78 2.81-2.81c.8-.78.8-2.07 0-2.86zM5.41 20L4 18.59l7.72-7.72 1.47 1.35L5.41 20z\"/>\n",
              "  </svg>\n",
              "      </button>\n",
              "      \n",
              "  <style>\n",
              "    .colab-df-container {\n",
              "      display:flex;\n",
              "      flex-wrap:wrap;\n",
              "      gap: 12px;\n",
              "    }\n",
              "\n",
              "    .colab-df-convert {\n",
              "      background-color: #E8F0FE;\n",
              "      border: none;\n",
              "      border-radius: 50%;\n",
              "      cursor: pointer;\n",
              "      display: none;\n",
              "      fill: #1967D2;\n",
              "      height: 32px;\n",
              "      padding: 0 0 0 0;\n",
              "      width: 32px;\n",
              "    }\n",
              "\n",
              "    .colab-df-convert:hover {\n",
              "      background-color: #E2EBFA;\n",
              "      box-shadow: 0px 1px 2px rgba(60, 64, 67, 0.3), 0px 1px 3px 1px rgba(60, 64, 67, 0.15);\n",
              "      fill: #174EA6;\n",
              "    }\n",
              "\n",
              "    [theme=dark] .colab-df-convert {\n",
              "      background-color: #3B4455;\n",
              "      fill: #D2E3FC;\n",
              "    }\n",
              "\n",
              "    [theme=dark] .colab-df-convert:hover {\n",
              "      background-color: #434B5C;\n",
              "      box-shadow: 0px 1px 3px 1px rgba(0, 0, 0, 0.15);\n",
              "      filter: drop-shadow(0px 1px 2px rgba(0, 0, 0, 0.3));\n",
              "      fill: #FFFFFF;\n",
              "    }\n",
              "  </style>\n",
              "\n",
              "      <script>\n",
              "        const buttonEl =\n",
              "          document.querySelector('#df-df709d35-1fe3-4647-b27a-606dc97a3718 button.colab-df-convert');\n",
              "        buttonEl.style.display =\n",
              "          google.colab.kernel.accessAllowed ? 'block' : 'none';\n",
              "\n",
              "        async function convertToInteractive(key) {\n",
              "          const element = document.querySelector('#df-df709d35-1fe3-4647-b27a-606dc97a3718');\n",
              "          const dataTable =\n",
              "            await google.colab.kernel.invokeFunction('convertToInteractive',\n",
              "                                                     [key], {});\n",
              "          if (!dataTable) return;\n",
              "\n",
              "          const docLinkHtml = 'Like what you see? Visit the ' +\n",
              "            '<a target=\"_blank\" href=https://colab.research.google.com/notebooks/data_table.ipynb>data table notebook</a>'\n",
              "            + ' to learn more about interactive tables.';\n",
              "          element.innerHTML = '';\n",
              "          dataTable['output_type'] = 'display_data';\n",
              "          await google.colab.output.renderOutput(dataTable, element);\n",
              "          const docLink = document.createElement('div');\n",
              "          docLink.innerHTML = docLinkHtml;\n",
              "          element.appendChild(docLink);\n",
              "        }\n",
              "      </script>\n",
              "    </div>\n",
              "  </div>\n",
              "  "
            ]
          },
          "metadata": {},
          "execution_count": 114
        }
      ]
    },
    {
      "cell_type": "markdown",
      "source": [
        "## Frequency"
      ],
      "metadata": {
        "id": "EIf6fl0OfbLT"
      }
    },
    {
      "cell_type": "code",
      "source": [
        "df.columns"
      ],
      "metadata": {
        "colab": {
          "base_uri": "https://localhost:8080/"
        },
        "id": "OOMaOEZymx3m",
        "outputId": "899bd8d3-1240-4fff-c363-073d217a6000"
      },
      "execution_count": 115,
      "outputs": [
        {
          "output_type": "execute_result",
          "data": {
            "text/plain": [
              "Index(['asin', 'reviewerID', 'reviewerName', 'reviewText', 'overall',\n",
              "       'reviewTime', 'summary', 'main_cat', 'Actual_Sentiment',\n",
              "       'TextBlob_Subjectivity', 'TextBlob_Polarity', 'TextBlob_Analysis',\n",
              "       'Vader_Polarity', 'Vader_score', 'Vader_sentiment', 'Afinn_score',\n",
              "       'Afinn_sentiment'],\n",
              "      dtype='object')"
            ]
          },
          "metadata": {},
          "execution_count": 115
        }
      ]
    },
    {
      "cell_type": "code",
      "source": [
        "tx_frequency = df.groupby('reviewerID').reviewTime.count().reset_index()\n",
        "tx_frequency.columns = ['reviewerID','Frequency']"
      ],
      "metadata": {
        "id": "bsQnHo5Xe48U"
      },
      "execution_count": 116,
      "outputs": []
    },
    {
      "cell_type": "code",
      "source": [
        "CS_df = pd.merge(CS_df, tx_frequency, on='reviewerID')"
      ],
      "metadata": {
        "id": "h7YfCmH8e5GZ"
      },
      "execution_count": 117,
      "outputs": []
    },
    {
      "cell_type": "code",
      "source": [
        "CS_df.head()"
      ],
      "metadata": {
        "colab": {
          "base_uri": "https://localhost:8080/",
          "height": 206
        },
        "id": "h1Icv6MSf_mj",
        "outputId": "826945a2-cc76-46dd-a56b-d2ed62156116"
      },
      "execution_count": 118,
      "outputs": [
        {
          "output_type": "execute_result",
          "data": {
            "text/plain": [
              "       reviewerID MaxPurchaseDate  Recency  Frequency\n",
              "0   AJIC7H0QB0HQ8      2013-11-01     1796          1\n",
              "1  A24UCU88FE1FPN      2015-12-08     1029          1\n",
              "2  A3C5MTRFKQYHMW      2016-08-18      775          1\n",
              "3  A253WC2BIJB7ET      2010-08-17     2968          1\n",
              "4  A3SMSPKX6LL5U5      2018-06-12      112          1"
            ],
            "text/html": [
              "\n",
              "  <div id=\"df-90018799-b038-46a1-8615-fec29593238d\">\n",
              "    <div class=\"colab-df-container\">\n",
              "      <div>\n",
              "<style scoped>\n",
              "    .dataframe tbody tr th:only-of-type {\n",
              "        vertical-align: middle;\n",
              "    }\n",
              "\n",
              "    .dataframe tbody tr th {\n",
              "        vertical-align: top;\n",
              "    }\n",
              "\n",
              "    .dataframe thead th {\n",
              "        text-align: right;\n",
              "    }\n",
              "</style>\n",
              "<table border=\"1\" class=\"dataframe\">\n",
              "  <thead>\n",
              "    <tr style=\"text-align: right;\">\n",
              "      <th></th>\n",
              "      <th>reviewerID</th>\n",
              "      <th>MaxPurchaseDate</th>\n",
              "      <th>Recency</th>\n",
              "      <th>Frequency</th>\n",
              "    </tr>\n",
              "  </thead>\n",
              "  <tbody>\n",
              "    <tr>\n",
              "      <th>0</th>\n",
              "      <td>AJIC7H0QB0HQ8</td>\n",
              "      <td>2013-11-01</td>\n",
              "      <td>1796</td>\n",
              "      <td>1</td>\n",
              "    </tr>\n",
              "    <tr>\n",
              "      <th>1</th>\n",
              "      <td>A24UCU88FE1FPN</td>\n",
              "      <td>2015-12-08</td>\n",
              "      <td>1029</td>\n",
              "      <td>1</td>\n",
              "    </tr>\n",
              "    <tr>\n",
              "      <th>2</th>\n",
              "      <td>A3C5MTRFKQYHMW</td>\n",
              "      <td>2016-08-18</td>\n",
              "      <td>775</td>\n",
              "      <td>1</td>\n",
              "    </tr>\n",
              "    <tr>\n",
              "      <th>3</th>\n",
              "      <td>A253WC2BIJB7ET</td>\n",
              "      <td>2010-08-17</td>\n",
              "      <td>2968</td>\n",
              "      <td>1</td>\n",
              "    </tr>\n",
              "    <tr>\n",
              "      <th>4</th>\n",
              "      <td>A3SMSPKX6LL5U5</td>\n",
              "      <td>2018-06-12</td>\n",
              "      <td>112</td>\n",
              "      <td>1</td>\n",
              "    </tr>\n",
              "  </tbody>\n",
              "</table>\n",
              "</div>\n",
              "      <button class=\"colab-df-convert\" onclick=\"convertToInteractive('df-90018799-b038-46a1-8615-fec29593238d')\"\n",
              "              title=\"Convert this dataframe to an interactive table.\"\n",
              "              style=\"display:none;\">\n",
              "        \n",
              "  <svg xmlns=\"http://www.w3.org/2000/svg\" height=\"24px\"viewBox=\"0 0 24 24\"\n",
              "       width=\"24px\">\n",
              "    <path d=\"M0 0h24v24H0V0z\" fill=\"none\"/>\n",
              "    <path d=\"M18.56 5.44l.94 2.06.94-2.06 2.06-.94-2.06-.94-.94-2.06-.94 2.06-2.06.94zm-11 1L8.5 8.5l.94-2.06 2.06-.94-2.06-.94L8.5 2.5l-.94 2.06-2.06.94zm10 10l.94 2.06.94-2.06 2.06-.94-2.06-.94-.94-2.06-.94 2.06-2.06.94z\"/><path d=\"M17.41 7.96l-1.37-1.37c-.4-.4-.92-.59-1.43-.59-.52 0-1.04.2-1.43.59L10.3 9.45l-7.72 7.72c-.78.78-.78 2.05 0 2.83L4 21.41c.39.39.9.59 1.41.59.51 0 1.02-.2 1.41-.59l7.78-7.78 2.81-2.81c.8-.78.8-2.07 0-2.86zM5.41 20L4 18.59l7.72-7.72 1.47 1.35L5.41 20z\"/>\n",
              "  </svg>\n",
              "      </button>\n",
              "      \n",
              "  <style>\n",
              "    .colab-df-container {\n",
              "      display:flex;\n",
              "      flex-wrap:wrap;\n",
              "      gap: 12px;\n",
              "    }\n",
              "\n",
              "    .colab-df-convert {\n",
              "      background-color: #E8F0FE;\n",
              "      border: none;\n",
              "      border-radius: 50%;\n",
              "      cursor: pointer;\n",
              "      display: none;\n",
              "      fill: #1967D2;\n",
              "      height: 32px;\n",
              "      padding: 0 0 0 0;\n",
              "      width: 32px;\n",
              "    }\n",
              "\n",
              "    .colab-df-convert:hover {\n",
              "      background-color: #E2EBFA;\n",
              "      box-shadow: 0px 1px 2px rgba(60, 64, 67, 0.3), 0px 1px 3px 1px rgba(60, 64, 67, 0.15);\n",
              "      fill: #174EA6;\n",
              "    }\n",
              "\n",
              "    [theme=dark] .colab-df-convert {\n",
              "      background-color: #3B4455;\n",
              "      fill: #D2E3FC;\n",
              "    }\n",
              "\n",
              "    [theme=dark] .colab-df-convert:hover {\n",
              "      background-color: #434B5C;\n",
              "      box-shadow: 0px 1px 3px 1px rgba(0, 0, 0, 0.15);\n",
              "      filter: drop-shadow(0px 1px 2px rgba(0, 0, 0, 0.3));\n",
              "      fill: #FFFFFF;\n",
              "    }\n",
              "  </style>\n",
              "\n",
              "      <script>\n",
              "        const buttonEl =\n",
              "          document.querySelector('#df-90018799-b038-46a1-8615-fec29593238d button.colab-df-convert');\n",
              "        buttonEl.style.display =\n",
              "          google.colab.kernel.accessAllowed ? 'block' : 'none';\n",
              "\n",
              "        async function convertToInteractive(key) {\n",
              "          const element = document.querySelector('#df-90018799-b038-46a1-8615-fec29593238d');\n",
              "          const dataTable =\n",
              "            await google.colab.kernel.invokeFunction('convertToInteractive',\n",
              "                                                     [key], {});\n",
              "          if (!dataTable) return;\n",
              "\n",
              "          const docLinkHtml = 'Like what you see? Visit the ' +\n",
              "            '<a target=\"_blank\" href=https://colab.research.google.com/notebooks/data_table.ipynb>data table notebook</a>'\n",
              "            + ' to learn more about interactive tables.';\n",
              "          element.innerHTML = '';\n",
              "          dataTable['output_type'] = 'display_data';\n",
              "          await google.colab.output.renderOutput(dataTable, element);\n",
              "          const docLink = document.createElement('div');\n",
              "          docLink.innerHTML = docLinkHtml;\n",
              "          element.appendChild(docLink);\n",
              "        }\n",
              "      </script>\n",
              "    </div>\n",
              "  </div>\n",
              "  "
            ]
          },
          "metadata": {},
          "execution_count": 118
        }
      ]
    },
    {
      "cell_type": "code",
      "source": [
        "CS_df.isnull().sum()"
      ],
      "metadata": {
        "colab": {
          "base_uri": "https://localhost:8080/"
        },
        "id": "8QZU50DFf_13",
        "outputId": "4d8d26fd-6db1-4d53-ff33-41821075305a"
      },
      "execution_count": 120,
      "outputs": [
        {
          "output_type": "execute_result",
          "data": {
            "text/plain": [
              "reviewerID         0\n",
              "MaxPurchaseDate    0\n",
              "Recency            0\n",
              "Frequency          0\n",
              "dtype: int64"
            ]
          },
          "metadata": {},
          "execution_count": 120
        }
      ]
    },
    {
      "cell_type": "markdown",
      "source": [
        "## K_means"
      ],
      "metadata": {
        "id": "JyaC3gb2lMWy"
      }
    },
    {
      "cell_type": "code",
      "source": [
        "num = CS_df.select_dtypes(exclude = ['object','datetime64[ns]'])\n",
        "cat = CS_df.select_dtypes(include = 'object')"
      ],
      "metadata": {
        "id": "5XDcLGdVf_83"
      },
      "execution_count": 121,
      "outputs": []
    },
    {
      "cell_type": "code",
      "source": [
        "num.columns"
      ],
      "metadata": {
        "colab": {
          "base_uri": "https://localhost:8080/"
        },
        "id": "bf5LMIKilIZh",
        "outputId": "61713f51-115a-4a70-f253-c52c478c9904"
      },
      "execution_count": 122,
      "outputs": [
        {
          "output_type": "execute_result",
          "data": {
            "text/plain": [
              "Index(['Recency', 'Frequency'], dtype='object')"
            ]
          },
          "metadata": {},
          "execution_count": 122
        }
      ]
    },
    {
      "cell_type": "code",
      "source": [
        "cat.columns"
      ],
      "metadata": {
        "colab": {
          "base_uri": "https://localhost:8080/"
        },
        "id": "PLH-ONSSlIiD",
        "outputId": "3c6c9c35-7cc0-4a77-ed15-83d32727cc32"
      },
      "execution_count": 123,
      "outputs": [
        {
          "output_type": "execute_result",
          "data": {
            "text/plain": [
              "Index(['reviewerID'], dtype='object')"
            ]
          },
          "metadata": {},
          "execution_count": 123
        }
      ]
    },
    {
      "cell_type": "code",
      "source": [
        "CS_df1 = CS_df.copy()\n",
        "CS_df1.head()"
      ],
      "metadata": {
        "colab": {
          "base_uri": "https://localhost:8080/",
          "height": 206
        },
        "id": "pfQh1rOIlIn7",
        "outputId": "3a530bfd-3a69-42e0-f9ad-bec4bd522525"
      },
      "execution_count": 124,
      "outputs": [
        {
          "output_type": "execute_result",
          "data": {
            "text/plain": [
              "       reviewerID MaxPurchaseDate  Recency  Frequency\n",
              "0   AJIC7H0QB0HQ8      2013-11-01     1796          1\n",
              "1  A24UCU88FE1FPN      2015-12-08     1029          1\n",
              "2  A3C5MTRFKQYHMW      2016-08-18      775          1\n",
              "3  A253WC2BIJB7ET      2010-08-17     2968          1\n",
              "4  A3SMSPKX6LL5U5      2018-06-12      112          1"
            ],
            "text/html": [
              "\n",
              "  <div id=\"df-1363920c-a1c7-42b0-99c6-01b29a4d87e4\">\n",
              "    <div class=\"colab-df-container\">\n",
              "      <div>\n",
              "<style scoped>\n",
              "    .dataframe tbody tr th:only-of-type {\n",
              "        vertical-align: middle;\n",
              "    }\n",
              "\n",
              "    .dataframe tbody tr th {\n",
              "        vertical-align: top;\n",
              "    }\n",
              "\n",
              "    .dataframe thead th {\n",
              "        text-align: right;\n",
              "    }\n",
              "</style>\n",
              "<table border=\"1\" class=\"dataframe\">\n",
              "  <thead>\n",
              "    <tr style=\"text-align: right;\">\n",
              "      <th></th>\n",
              "      <th>reviewerID</th>\n",
              "      <th>MaxPurchaseDate</th>\n",
              "      <th>Recency</th>\n",
              "      <th>Frequency</th>\n",
              "    </tr>\n",
              "  </thead>\n",
              "  <tbody>\n",
              "    <tr>\n",
              "      <th>0</th>\n",
              "      <td>AJIC7H0QB0HQ8</td>\n",
              "      <td>2013-11-01</td>\n",
              "      <td>1796</td>\n",
              "      <td>1</td>\n",
              "    </tr>\n",
              "    <tr>\n",
              "      <th>1</th>\n",
              "      <td>A24UCU88FE1FPN</td>\n",
              "      <td>2015-12-08</td>\n",
              "      <td>1029</td>\n",
              "      <td>1</td>\n",
              "    </tr>\n",
              "    <tr>\n",
              "      <th>2</th>\n",
              "      <td>A3C5MTRFKQYHMW</td>\n",
              "      <td>2016-08-18</td>\n",
              "      <td>775</td>\n",
              "      <td>1</td>\n",
              "    </tr>\n",
              "    <tr>\n",
              "      <th>3</th>\n",
              "      <td>A253WC2BIJB7ET</td>\n",
              "      <td>2010-08-17</td>\n",
              "      <td>2968</td>\n",
              "      <td>1</td>\n",
              "    </tr>\n",
              "    <tr>\n",
              "      <th>4</th>\n",
              "      <td>A3SMSPKX6LL5U5</td>\n",
              "      <td>2018-06-12</td>\n",
              "      <td>112</td>\n",
              "      <td>1</td>\n",
              "    </tr>\n",
              "  </tbody>\n",
              "</table>\n",
              "</div>\n",
              "      <button class=\"colab-df-convert\" onclick=\"convertToInteractive('df-1363920c-a1c7-42b0-99c6-01b29a4d87e4')\"\n",
              "              title=\"Convert this dataframe to an interactive table.\"\n",
              "              style=\"display:none;\">\n",
              "        \n",
              "  <svg xmlns=\"http://www.w3.org/2000/svg\" height=\"24px\"viewBox=\"0 0 24 24\"\n",
              "       width=\"24px\">\n",
              "    <path d=\"M0 0h24v24H0V0z\" fill=\"none\"/>\n",
              "    <path d=\"M18.56 5.44l.94 2.06.94-2.06 2.06-.94-2.06-.94-.94-2.06-.94 2.06-2.06.94zm-11 1L8.5 8.5l.94-2.06 2.06-.94-2.06-.94L8.5 2.5l-.94 2.06-2.06.94zm10 10l.94 2.06.94-2.06 2.06-.94-2.06-.94-.94-2.06-.94 2.06-2.06.94z\"/><path d=\"M17.41 7.96l-1.37-1.37c-.4-.4-.92-.59-1.43-.59-.52 0-1.04.2-1.43.59L10.3 9.45l-7.72 7.72c-.78.78-.78 2.05 0 2.83L4 21.41c.39.39.9.59 1.41.59.51 0 1.02-.2 1.41-.59l7.78-7.78 2.81-2.81c.8-.78.8-2.07 0-2.86zM5.41 20L4 18.59l7.72-7.72 1.47 1.35L5.41 20z\"/>\n",
              "  </svg>\n",
              "      </button>\n",
              "      \n",
              "  <style>\n",
              "    .colab-df-container {\n",
              "      display:flex;\n",
              "      flex-wrap:wrap;\n",
              "      gap: 12px;\n",
              "    }\n",
              "\n",
              "    .colab-df-convert {\n",
              "      background-color: #E8F0FE;\n",
              "      border: none;\n",
              "      border-radius: 50%;\n",
              "      cursor: pointer;\n",
              "      display: none;\n",
              "      fill: #1967D2;\n",
              "      height: 32px;\n",
              "      padding: 0 0 0 0;\n",
              "      width: 32px;\n",
              "    }\n",
              "\n",
              "    .colab-df-convert:hover {\n",
              "      background-color: #E2EBFA;\n",
              "      box-shadow: 0px 1px 2px rgba(60, 64, 67, 0.3), 0px 1px 3px 1px rgba(60, 64, 67, 0.15);\n",
              "      fill: #174EA6;\n",
              "    }\n",
              "\n",
              "    [theme=dark] .colab-df-convert {\n",
              "      background-color: #3B4455;\n",
              "      fill: #D2E3FC;\n",
              "    }\n",
              "\n",
              "    [theme=dark] .colab-df-convert:hover {\n",
              "      background-color: #434B5C;\n",
              "      box-shadow: 0px 1px 3px 1px rgba(0, 0, 0, 0.15);\n",
              "      filter: drop-shadow(0px 1px 2px rgba(0, 0, 0, 0.3));\n",
              "      fill: #FFFFFF;\n",
              "    }\n",
              "  </style>\n",
              "\n",
              "      <script>\n",
              "        const buttonEl =\n",
              "          document.querySelector('#df-1363920c-a1c7-42b0-99c6-01b29a4d87e4 button.colab-df-convert');\n",
              "        buttonEl.style.display =\n",
              "          google.colab.kernel.accessAllowed ? 'block' : 'none';\n",
              "\n",
              "        async function convertToInteractive(key) {\n",
              "          const element = document.querySelector('#df-1363920c-a1c7-42b0-99c6-01b29a4d87e4');\n",
              "          const dataTable =\n",
              "            await google.colab.kernel.invokeFunction('convertToInteractive',\n",
              "                                                     [key], {});\n",
              "          if (!dataTable) return;\n",
              "\n",
              "          const docLinkHtml = 'Like what you see? Visit the ' +\n",
              "            '<a target=\"_blank\" href=https://colab.research.google.com/notebooks/data_table.ipynb>data table notebook</a>'\n",
              "            + ' to learn more about interactive tables.';\n",
              "          element.innerHTML = '';\n",
              "          dataTable['output_type'] = 'display_data';\n",
              "          await google.colab.output.renderOutput(dataTable, element);\n",
              "          const docLink = document.createElement('div');\n",
              "          docLink.innerHTML = docLinkHtml;\n",
              "          element.appendChild(docLink);\n",
              "        }\n",
              "      </script>\n",
              "    </div>\n",
              "  </div>\n",
              "  "
            ]
          },
          "metadata": {},
          "execution_count": 124
        }
      ]
    },
    {
      "cell_type": "code",
      "source": [
        "# Scaling the data\n",
        "%time\n",
        "Scaler = MinMaxScaler()\n",
        "for i in num.columns:\n",
        "    CS_df1[i] = Scaler.fit_transform(np.array(CS_df[i]).reshape(-1, 1))"
      ],
      "metadata": {
        "colab": {
          "base_uri": "https://localhost:8080/"
        },
        "id": "lqw0Xyi_lIy3",
        "outputId": "878f430c-6650-4932-9234-92a7193fa46b"
      },
      "execution_count": 125,
      "outputs": [
        {
          "output_type": "stream",
          "name": "stdout",
          "text": [
            "CPU times: user 4 µs, sys: 0 ns, total: 4 µs\n",
            "Wall time: 6.44 µs\n"
          ]
        }
      ]
    },
    {
      "cell_type": "code",
      "source": [
        "# Getting optimum cluster number\n",
        "%%time\n",
        "X = CS_df1.drop(['reviewerID','MaxPurchaseDate'], axis = 1).values\n",
        "WCSS = []\n",
        "for i in range(2, 10):\n",
        "    kmeans = KMeans(n_clusters = i).fit(X)\n",
        "    WCSS.append(kmeans.inertia_)\n",
        "\n",
        "plt.figure(figsize = (15, 5))\n",
        "plt.plot(range(2, 10), WCSS)\n",
        "plt.grid(True)"
      ],
      "metadata": {
        "colab": {
          "base_uri": "https://localhost:8080/",
          "height": 356
        },
        "id": "4MOVWSJelJA7",
        "outputId": "dabb4795-60a5-4924-e77a-9fa91044d15f"
      },
      "execution_count": 126,
      "outputs": [
        {
          "output_type": "stream",
          "name": "stdout",
          "text": [
            "CPU times: user 53.2 s, sys: 21.4 s, total: 1min 14s\n",
            "Wall time: 20.4 s\n"
          ]
        },
        {
          "output_type": "display_data",
          "data": {
            "text/plain": [
              "<Figure size 1080x360 with 1 Axes>"
            ],
            "image/png": "[encoded data removed]"
          },
          "metadata": {
            "needs_background": "light"
          }
        }
      ]
    },
    {
      "cell_type": "markdown",
      "source": [
        "Interpretation\n",
        "- From the above elbow curve we can take k as 4 because there is sharp bend at k = 4"
      ],
      "metadata": {
        "id": "EhrYiqMFprjB"
      }
    },
    {
      "cell_type": "code",
      "source": [
        "# Creating Model and fitting it\n",
        "%%time\n",
        "model = KMeans(n_clusters = 3, random_state = 42).fit(X)\n",
        "pred = model.fit_predict(X)"
      ],
      "metadata": {
        "colab": {
          "base_uri": "https://localhost:8080/"
        },
        "id": "XTl66N9wpsxH",
        "outputId": "9db84a69-7baf-4093-9838-f83046bd5c2e"
      },
      "execution_count": 127,
      "outputs": [
        {
          "output_type": "stream",
          "name": "stdout",
          "text": [
            "CPU times: user 10.5 s, sys: 3.98 s, total: 14.5 s\n",
            "Wall time: 3.9 s\n"
          ]
        }
      ]
    },
    {
      "cell_type": "code",
      "source": [
        "CS_df.columns"
      ],
      "metadata": {
        "colab": {
          "base_uri": "https://localhost:8080/"
        },
        "id": "gBKuidVnpsRD",
        "outputId": "7fd1bfa8-2ab6-49de-b38f-0a641bdd5f21"
      },
      "execution_count": 128,
      "outputs": [
        {
          "output_type": "execute_result",
          "data": {
            "text/plain": [
              "Index(['reviewerID', 'MaxPurchaseDate', 'Recency', 'Frequency'], dtype='object')"
            ]
          },
          "metadata": {},
          "execution_count": 128
        }
      ]
    },
    {
      "cell_type": "code",
      "source": [
        "color1 = ['yellow' , 'green' , 'red']\n",
        "l = [None,\"Churned_Recently\", 'Target', 'Churned_old']\n",
        "sns.scatterplot(x = CS_df['Recency'] , y = CS_df['Frequency'] , hue = pred , palette = color1)\n",
        "plt.legend(labels = l)\n",
        "plt.title('recency v/s frequency', fontsize = 15)\n",
        "plt.show()"
      ],
      "metadata": {
        "colab": {
          "base_uri": "https://localhost:8080/",
          "height": 296
        },
        "id": "aij_068HxNAW",
        "outputId": "a6a1a4af-a4d0-41f8-a83f-3a3d74399b22"
      },
      "execution_count": 129,
      "outputs": [
        {
          "output_type": "display_data",
          "data": {
            "text/plain": [
              "<Figure size 432x288 with 1 Axes>"
            ],
            "image/png": "[encoded data removed]"
          },
          "metadata": {
            "needs_background": "light"
          }
        }
      ]
    },
    {
      "cell_type": "markdown",
      "source": [
        "## Interpretation\n",
        "- From the above clustering result we can see cleary 4 types of clusters are there\n",
        "\n",
        "  - **Old_churned: Customer who have left shopping from amazon long back**.\n",
        "  - **Churned_Recently: Customer who have left shopping from amazon recently**.\n",
        "  - **Target : The customers are likely to churn in order to prevent churn we need to target these customers.**"
      ],
      "metadata": {
        "id": "9Iks4sJn2GEF"
      }
    },
    {
      "cell_type": "code",
      "source": [
        "df2 = df1[['reviewerID','title','overall']]"
      ],
      "metadata": {
        "id": "eY4Pc1AV-BpR"
      },
      "execution_count": 130,
      "outputs": []
    },
    {
      "cell_type": "code",
      "source": [
        "print(\"\\nTotal no of ratings :\",df2.shape[0])\n",
        "print(\"Total No of reviewers   :\", len(np.unique(df2.reviewerID)))\n",
        "print(\"Total No of products  :\", len(np.unique(df2.title)))"
      ],
      "metadata": {
        "colab": {
          "base_uri": "https://localhost:8080/"
        },
        "id": "0kNjCW7g2ErH",
        "outputId": "969dd069-6b8b-43cb-c042-e696057eaeae"
      },
      "execution_count": 131,
      "outputs": [
        {
          "output_type": "stream",
          "name": "stdout",
          "text": [
            "\n",
            "Total no of ratings : 209836\n",
            "Total No of reviewers   : 201220\n",
            "Total No of products  : 17564\n"
          ]
        }
      ]
    },
    {
      "cell_type": "markdown",
      "source": [
        "# Conclusion\n",
        "## EDA\n",
        "\n",
        "  - Count of reviews increasing over the period of time\n",
        "  - Positive Sentiment is Dominating\n",
        "\n",
        "## SENTIMENTAL ANALYSIS\n",
        "\n",
        "  - Model is able to Automate Sentiment Predictions\n",
        "\n",
        "## Time Series Analysis\n",
        "\n",
        "  - Model is abel to future forecast sentiment of reviewers.\n",
        "\n",
        "## CLUSTERING\n",
        "\n",
        "  - Model is able to create, customer segmentations"
      ],
      "metadata": {
        "id": "BrDG-DSvEkAp"
      }
    },
    {
      "cell_type": "code",
      "source": [
        "from tkinter import *\n",
        "from PIL import ImageTk,Image\n",
        "\n",
        "ob1 = Capestone_T1()\n",
        "model_3 = ob1.fastcat()\n",
        "def myfun():\n",
        "    x = e1.get()\n",
        "    #y = sent.polarity_scores(x)\n",
        "    y = model_3.predict(x)\n",
        "    a = y[0]\n",
        "    if a[0]=='__label__Positive':\n",
        "        l3.config(text = 'Your Predicted Sentiment of given review is Positive')\n",
        "    elif a[0]=='__label__Negative':\n",
        "        l3.config(text = 'Your Predicted Sentiment of given review is Negative')\n",
        "    else:\n",
        "        l3.config(text = 'Your Predicted Sentiment of given review is Neutral')\n",
        "\n",
        "window = Tk()\n",
        "\n",
        "# Title\n",
        "window.title('Welcome to sentiment Analysis')\n",
        "\n",
        "# Windowsize\n",
        "window.minsize(width = 200 , height = 200)\n",
        "\n",
        "# Background\n",
        "#window.configure(background='black')\n",
        "\n",
        "# label\n",
        "# l1 = Label(window , text = 'Amazon customer review sentiment identifier',font=50 , bg = 'pink' , fg = 'black')\n",
        "# l1.pack()\n",
        "\n",
        "# Image\n",
        "img = ImageTk.Image.open('Amazon Logo.png')\n",
        "resized_img = img.resize((1000,350))\n",
        "p1 = ImageTk.PhotoImage(resized_img)\n",
        "l2 = Label(window , image=p1)\n",
        "l2.pack()\n",
        "\n",
        "# label: Enter the text\n",
        "l1 = Label(window , text = 'Enter the review text:',font=50 , fg = 'black')\n",
        "l1.pack(pady=30)\n",
        "\n",
        "# Entry\n",
        "e1 = Entry(window, width = 50 , bd = 5 , font = (\"Calibri\",20))\n",
        "e1.pack(pady=15, ipady = 10)\n",
        "\n",
        "# Button\n",
        "b1 = Button(window , text = 'Click here to Analyze' ,font = 50, bg = 'green' , fg = 'black' , width = 30 , height = 3 , command = myfun)\n",
        "b1.pack(pady=10)\n",
        "\n",
        "# label 3\n",
        "l3 = Label(window , text = 'Your Result',font=20 , fg = 'orange')\n",
        "l3.pack(pady=10)\n",
        "\n",
        "window.mainloop()"
      ],
      "metadata": {
        "id": "_uAdKPgFhf5J"
      },
      "execution_count": null,
      "outputs": []
    },
    {
      "cell_type": "code",
      "source": [],
      "metadata": {
        "id": "nwffdD3ux8ns"
      },
      "execution_count": null,
      "outputs": []
    }
  ],
  "metadata": {
    "colab": {
      "machine_shape": "hm",
      "provenance": []
    },
    "gpuClass": "standard",
    "kernelspec": {
      "display_name": "Python 3",
      "name": "python3"
    },
    "language_info": {
      "name": "python"
    }
  },
  "nbformat": 4,
  "nbformat_minor": 0
}